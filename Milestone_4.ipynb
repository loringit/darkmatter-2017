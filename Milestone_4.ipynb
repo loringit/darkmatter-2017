{
 "cells": [
  {
   "cell_type": "code",
   "execution_count": 1,
   "metadata": {
    "collapsed": true
   },
   "outputs": [],
   "source": [
    "import pandas as pd\n",
    "import glob\n",
    "import numpy as np\n",
    "from sklearn.neighbors import BallTree, KDTree, DistanceMetric\n",
    "import lightgbm as lgb\n",
    "import matplotlib.pyplot as plt\n",
    "import matplotlib.lines as lines\n",
    "import matplotlib as mpl\n",
    "from mpl_toolkits.mplot3d import Axes3D\n",
    "import subprocess\n",
    "%matplotlib inline"
   ]
  },
  {
   "cell_type": "code",
   "execution_count": 29,
   "metadata": {
    "collapsed": false
   },
   "outputs": [
    {
     "data": {
      "text/html": [
       "<div>\n",
       "<table border=\"1\" class=\"dataframe\">\n",
       "  <thead>\n",
       "    <tr style=\"text-align: right;\">\n",
       "      <th></th>\n",
       "      <th>TX</th>\n",
       "      <th>TY</th>\n",
       "      <th>X</th>\n",
       "      <th>Y</th>\n",
       "      <th>Z</th>\n",
       "      <th>data_ind</th>\n",
       "    </tr>\n",
       "  </thead>\n",
       "  <tbody>\n",
       "    <tr>\n",
       "      <th>0</th>\n",
       "      <td>0.087240</td>\n",
       "      <td>0.119438</td>\n",
       "      <td>86536.218750</td>\n",
       "      <td>62988.312500</td>\n",
       "      <td>56892.0</td>\n",
       "      <td>0</td>\n",
       "    </tr>\n",
       "    <tr>\n",
       "      <th>1</th>\n",
       "      <td>-0.380208</td>\n",
       "      <td>0.198382</td>\n",
       "      <td>93346.765625</td>\n",
       "      <td>58062.937500</td>\n",
       "      <td>14223.0</td>\n",
       "      <td>0</td>\n",
       "    </tr>\n",
       "    <tr>\n",
       "      <th>2</th>\n",
       "      <td>-0.348549</td>\n",
       "      <td>-0.099981</td>\n",
       "      <td>66129.578125</td>\n",
       "      <td>23038.673828</td>\n",
       "      <td>46548.0</td>\n",
       "      <td>0</td>\n",
       "    </tr>\n",
       "    <tr>\n",
       "      <th>3</th>\n",
       "      <td>0.585342</td>\n",
       "      <td>-0.126879</td>\n",
       "      <td>68825.523438</td>\n",
       "      <td>55186.625000</td>\n",
       "      <td>45255.0</td>\n",
       "      <td>0</td>\n",
       "    </tr>\n",
       "    <tr>\n",
       "      <th>4</th>\n",
       "      <td>0.038579</td>\n",
       "      <td>-0.131510</td>\n",
       "      <td>36366.941406</td>\n",
       "      <td>47564.878906</td>\n",
       "      <td>9051.0</td>\n",
       "      <td>0</td>\n",
       "    </tr>\n",
       "  </tbody>\n",
       "</table>\n",
       "</div>"
      ],
      "text/plain": [
       "         TX        TY             X             Y        Z  data_ind\n",
       "0  0.087240  0.119438  86536.218750  62988.312500  56892.0         0\n",
       "1 -0.380208  0.198382  93346.765625  58062.937500  14223.0         0\n",
       "2 -0.348549 -0.099981  66129.578125  23038.673828  46548.0         0\n",
       "3  0.585342 -0.126879  68825.523438  55186.625000  45255.0         0\n",
       "4  0.038579 -0.131510  36366.941406  47564.878906   9051.0         0"
      ]
     },
     "execution_count": 29,
     "metadata": {},
     "output_type": "execute_result"
    }
   ],
   "source": [
    "test = pd.concat([pd.read_hdf(file) for file in ['test_close0.h5', 'test_close10.h5']])\n",
    "test.head()"
   ]
  },
  {
   "cell_type": "markdown",
   "metadata": {},
   "source": [
    "## Grouping"
   ]
  },
  {
   "cell_type": "markdown",
   "metadata": {},
   "source": [
    "Let's generate features using BallTree"
   ]
  },
  {
   "cell_type": "code",
   "execution_count": 3,
   "metadata": {
    "collapsed": true
   },
   "outputs": [],
   "source": [
    "from tqdm import tqdm\n",
    "\n",
    "columns = ['TX', 'TY', 'X', 'Y', 'Z']\n",
    "for_metric = columns[:-1]\n",
    "\n",
    "def add_neighbours(df, k, same_pair, metric='minkowski'):\n",
    "    result = []\n",
    "    \n",
    "    for data_ind in tqdm(df.data_ind.unique()):\n",
    "        ind = df[df.data_ind == data_ind]\n",
    "        values = list(sorted(ind.Z.unique()))\n",
    "        for z, z_next in zip(values, values[1:]):\n",
    "            z, z_next = ind[ind.Z == z].copy(), ind[ind.Z == z_next].copy()\n",
    "#             1293 is a typical distance between neighbour slices along OZ\n",
    "            z[['TX', 'TY']] *= 1293\n",
    "            z_next[['TX', 'TY']] *= 1293\n",
    "            \n",
    "            b_tree = BallTree(z_next[for_metric], metric=metric)\n",
    "            d, idx = b_tree.query(z[for_metric], k=min(k, len(z_next)))\n",
    "            \n",
    "            for i in range(idx.shape[1]):\n",
    "                data = z_next.iloc[idx[:, i]]\n",
    "                temp = z.copy()\n",
    "                for col in columns:\n",
    "                    temp[col + '_pair'] = data[col].values\n",
    "                if same_pair:\n",
    "                    temp['same_pair'] = data.event_id.values == z.event_id.values\n",
    "                result.append(temp)\n",
    "            \n",
    "        result.append(z_next)\n",
    "        \n",
    "    result = pd.concat(result)\n",
    "    for col in columns:\n",
    "        result['d' + col] = result[col].values - result[col + '_pair'].values\n",
    "    return result\n",
    "\n",
    "def make_train(df, k):\n",
    "    t = add_neighbours(df, k=k, same_pair=True)\n",
    "    noise = t.event_id == -999\n",
    "    signal, not_signal = t[~noise], t[noise]\n",
    "    noise_part = not_signal.sample(len(signal))\n",
    "    return pd.concat([signal, noise_part]).reset_index(drop=True)"
   ]
  },
  {
   "cell_type": "code",
   "execution_count": 4,
   "metadata": {
    "collapsed": false,
    "scrolled": true
   },
   "outputs": [
    {
     "name": "stderr",
     "output_type": "stream",
     "text": [
      "100%|██████████| 10/10 [00:37<00:00,  3.79s/it]\n",
      "100%|██████████| 10/10 [00:37<00:00,  3.72s/it]\n",
      "100%|██████████| 10/10 [00:37<00:00,  3.79s/it]\n",
      "100%|██████████| 10/10 [00:37<00:00,  3.79s/it]\n",
      "100%|██████████| 10/10 [00:35<00:00,  3.56s/it]\n"
     ]
    }
   ],
   "source": [
    "train = []\n",
    "for file in glob.glob('hdf5/open*.h5')[:5]:\n",
    "    train.append(make_train(pd.read_hdf(file), k=3))\n",
    "train = pd.concat(train)"
   ]
  },
  {
   "cell_type": "code",
   "execution_count": 5,
   "metadata": {
    "collapsed": false
   },
   "outputs": [
    {
     "data": {
      "text/html": [
       "<div>\n",
       "<table border=\"1\" class=\"dataframe\">\n",
       "  <thead>\n",
       "    <tr style=\"text-align: right;\">\n",
       "      <th></th>\n",
       "      <th>TX</th>\n",
       "      <th>TX_pair</th>\n",
       "      <th>TY</th>\n",
       "      <th>TY_pair</th>\n",
       "      <th>X</th>\n",
       "      <th>X_pair</th>\n",
       "      <th>Y</th>\n",
       "      <th>Y_pair</th>\n",
       "      <th>Z</th>\n",
       "      <th>Z_pair</th>\n",
       "      <th>data_ind</th>\n",
       "      <th>event_id</th>\n",
       "      <th>same_pair</th>\n",
       "      <th>signal</th>\n",
       "      <th>dTX</th>\n",
       "      <th>dTY</th>\n",
       "      <th>dX</th>\n",
       "      <th>dY</th>\n",
       "      <th>dZ</th>\n",
       "    </tr>\n",
       "  </thead>\n",
       "  <tbody>\n",
       "    <tr>\n",
       "      <th>0</th>\n",
       "      <td>64.295792</td>\n",
       "      <td>85.199005</td>\n",
       "      <td>120.471031</td>\n",
       "      <td>128.525360</td>\n",
       "      <td>49545.425781</td>\n",
       "      <td>49540.316406</td>\n",
       "      <td>58027.636719</td>\n",
       "      <td>58018.058594</td>\n",
       "      <td>5172.000000</td>\n",
       "      <td>5427.205078</td>\n",
       "      <td>271</td>\n",
       "      <td>153997.0</td>\n",
       "      <td>False</td>\n",
       "      <td>1.0</td>\n",
       "      <td>-20.903214</td>\n",
       "      <td>-8.054329</td>\n",
       "      <td>5.109375</td>\n",
       "      <td>9.578125</td>\n",
       "      <td>-255.205078</td>\n",
       "    </tr>\n",
       "    <tr>\n",
       "      <th>1</th>\n",
       "      <td>85.199005</td>\n",
       "      <td>70.662689</td>\n",
       "      <td>128.525360</td>\n",
       "      <td>122.620712</td>\n",
       "      <td>49540.316406</td>\n",
       "      <td>49611.359375</td>\n",
       "      <td>58018.058594</td>\n",
       "      <td>58146.925781</td>\n",
       "      <td>5427.205078</td>\n",
       "      <td>6465.000000</td>\n",
       "      <td>271</td>\n",
       "      <td>189715.0</td>\n",
       "      <td>False</td>\n",
       "      <td>1.0</td>\n",
       "      <td>14.536316</td>\n",
       "      <td>5.904648</td>\n",
       "      <td>-71.042969</td>\n",
       "      <td>-128.867188</td>\n",
       "      <td>-1037.794922</td>\n",
       "    </tr>\n",
       "    <tr>\n",
       "      <th>2</th>\n",
       "      <td>85.199005</td>\n",
       "      <td>-117.009766</td>\n",
       "      <td>128.525360</td>\n",
       "      <td>153.375397</td>\n",
       "      <td>49540.316406</td>\n",
       "      <td>49843.593750</td>\n",
       "      <td>58018.058594</td>\n",
       "      <td>58355.070312</td>\n",
       "      <td>5427.205078</td>\n",
       "      <td>6465.000000</td>\n",
       "      <td>271</td>\n",
       "      <td>189715.0</td>\n",
       "      <td>False</td>\n",
       "      <td>1.0</td>\n",
       "      <td>202.208771</td>\n",
       "      <td>-24.850037</td>\n",
       "      <td>-303.277344</td>\n",
       "      <td>-337.011719</td>\n",
       "      <td>-1037.794922</td>\n",
       "    </tr>\n",
       "    <tr>\n",
       "      <th>3</th>\n",
       "      <td>85.199005</td>\n",
       "      <td>507.651611</td>\n",
       "      <td>128.525360</td>\n",
       "      <td>42.330360</td>\n",
       "      <td>49540.316406</td>\n",
       "      <td>50004.304688</td>\n",
       "      <td>58018.058594</td>\n",
       "      <td>58237.914062</td>\n",
       "      <td>5427.205078</td>\n",
       "      <td>6465.000000</td>\n",
       "      <td>271</td>\n",
       "      <td>189715.0</td>\n",
       "      <td>False</td>\n",
       "      <td>1.0</td>\n",
       "      <td>-422.452606</td>\n",
       "      <td>86.195000</td>\n",
       "      <td>-463.988281</td>\n",
       "      <td>-219.855469</td>\n",
       "      <td>-1037.794922</td>\n",
       "    </tr>\n",
       "    <tr>\n",
       "      <th>4</th>\n",
       "      <td>-1019.463440</td>\n",
       "      <td>-967.443237</td>\n",
       "      <td>-316.895508</td>\n",
       "      <td>-311.478729</td>\n",
       "      <td>60857.125000</td>\n",
       "      <td>60936.945312</td>\n",
       "      <td>34515.269531</td>\n",
       "      <td>34540.082031</td>\n",
       "      <td>6465.000000</td>\n",
       "      <td>6702.123047</td>\n",
       "      <td>271</td>\n",
       "      <td>183074.0</td>\n",
       "      <td>True</td>\n",
       "      <td>1.0</td>\n",
       "      <td>-52.020203</td>\n",
       "      <td>-5.416779</td>\n",
       "      <td>-79.820312</td>\n",
       "      <td>-24.812500</td>\n",
       "      <td>-237.123047</td>\n",
       "    </tr>\n",
       "  </tbody>\n",
       "</table>\n",
       "</div>"
      ],
      "text/plain": [
       "            TX     TX_pair          TY     TY_pair             X  \\\n",
       "0    64.295792   85.199005  120.471031  128.525360  49545.425781   \n",
       "1    85.199005   70.662689  128.525360  122.620712  49540.316406   \n",
       "2    85.199005 -117.009766  128.525360  153.375397  49540.316406   \n",
       "3    85.199005  507.651611  128.525360   42.330360  49540.316406   \n",
       "4 -1019.463440 -967.443237 -316.895508 -311.478729  60857.125000   \n",
       "\n",
       "         X_pair             Y        Y_pair            Z       Z_pair  \\\n",
       "0  49540.316406  58027.636719  58018.058594  5172.000000  5427.205078   \n",
       "1  49611.359375  58018.058594  58146.925781  5427.205078  6465.000000   \n",
       "2  49843.593750  58018.058594  58355.070312  5427.205078  6465.000000   \n",
       "3  50004.304688  58018.058594  58237.914062  5427.205078  6465.000000   \n",
       "4  60936.945312  34515.269531  34540.082031  6465.000000  6702.123047   \n",
       "\n",
       "   data_ind  event_id same_pair  signal         dTX        dTY          dX  \\\n",
       "0       271  153997.0     False     1.0  -20.903214  -8.054329    5.109375   \n",
       "1       271  189715.0     False     1.0   14.536316   5.904648  -71.042969   \n",
       "2       271  189715.0     False     1.0  202.208771 -24.850037 -303.277344   \n",
       "3       271  189715.0     False     1.0 -422.452606  86.195000 -463.988281   \n",
       "4       271  183074.0      True     1.0  -52.020203  -5.416779  -79.820312   \n",
       "\n",
       "           dY           dZ  \n",
       "0    9.578125  -255.205078  \n",
       "1 -128.867188 -1037.794922  \n",
       "2 -337.011719 -1037.794922  \n",
       "3 -219.855469 -1037.794922  \n",
       "4  -24.812500  -237.123047  "
      ]
     },
     "execution_count": 5,
     "metadata": {},
     "output_type": "execute_result"
    }
   ],
   "source": [
    "train.head()"
   ]
  },
  {
   "cell_type": "markdown",
   "metadata": {},
   "source": [
    "## Training"
   ]
  },
  {
   "cell_type": "code",
   "execution_count": 10,
   "metadata": {
    "collapsed": true
   },
   "outputs": [],
   "source": [
    "y_train = train.signal\n",
    "X_train = train.drop(['event_id', 'signal', 'data_ind', 'same_pair'], axis=1)"
   ]
  },
  {
   "cell_type": "code",
   "execution_count": 11,
   "metadata": {
    "collapsed": false
   },
   "outputs": [
    {
     "data": {
      "text/plain": [
       "{'auc-mean': [0.84039752627881459,\n",
       "  0.8570240800172112,\n",
       "  0.86130030134359836,\n",
       "  0.86808360008081331,\n",
       "  0.86911575564969978,\n",
       "  0.86832167342162081,\n",
       "  0.87341789667711622,\n",
       "  0.87480293923256558,\n",
       "  0.87774931867549522,\n",
       "  0.87960480922408046,\n",
       "  0.88062232059292644,\n",
       "  0.88100261635601806,\n",
       "  0.88289330181294101,\n",
       "  0.88306119255195659,\n",
       "  0.88386699227814414,\n",
       "  0.88570516673541788,\n",
       "  0.88724123356748286,\n",
       "  0.88835605921174543,\n",
       "  0.8886243164957438,\n",
       "  0.88914279028841769],\n",
       " 'auc-stdv': [0.00076361162764126056,\n",
       "  0.00047991384832441722,\n",
       "  0.00099461887405480494,\n",
       "  0.00077417480003913247,\n",
       "  0.00056007439462479099,\n",
       "  0.00050484932777975552,\n",
       "  0.00054121489457361434,\n",
       "  0.00068223335340733722,\n",
       "  0.00053472381109734746,\n",
       "  0.00040415894410846789,\n",
       "  0.0005358278744626709,\n",
       "  0.00034803962338109552,\n",
       "  0.00036507651393086139,\n",
       "  0.00038496741125273949,\n",
       "  0.00038757972969702235,\n",
       "  0.00021499823612027718,\n",
       "  0.0002106781824436708,\n",
       "  0.00037069933121186945,\n",
       "  0.00030222663116589223,\n",
       "  0.0003751538516458743]}"
      ]
     },
     "execution_count": 11,
     "metadata": {},
     "output_type": "execute_result"
    }
   ],
   "source": [
    "lgb_train = lgb.Dataset(X_train, y_train)\n",
    "params = {\n",
    "    'boosting_type': 'gbdt',\n",
    "    'objective': 'binary',\n",
    "    'metric': 'auc',\n",
    "    'num_leaves': 31,\n",
    "    'learning_rate': 0.05,\n",
    "    'max_depth': 15,\n",
    "    'feature_fraction': 0.7,\n",
    "    'bagging_fraction': 0.7,\n",
    "    'bagging_freq': 4\n",
    "}\n",
    "\n",
    "lgb.cv(params, lgb_train, 20, nfold=5)"
   ]
  },
  {
   "cell_type": "code",
   "execution_count": 12,
   "metadata": {
    "collapsed": true
   },
   "outputs": [],
   "source": [
    "bst = lgb.train(params, lgb_train, 100)"
   ]
  },
  {
   "cell_type": "markdown",
   "metadata": {},
   "source": [
    "## Prediction"
   ]
  },
  {
   "cell_type": "code",
   "execution_count": 13,
   "metadata": {
    "collapsed": false
   },
   "outputs": [
    {
     "name": "stderr",
     "output_type": "stream",
     "text": [
      "100%|██████████| 11/11 [00:37<00:00,  3.43s/it]\n"
     ]
    }
   ],
   "source": [
    "test_p = add_neighbours(test, k=3, same_pair=False)"
   ]
  },
  {
   "cell_type": "code",
   "execution_count": 14,
   "metadata": {
    "collapsed": false,
    "scrolled": true
   },
   "outputs": [
    {
     "data": {
      "text/html": [
       "<div>\n",
       "<table border=\"1\" class=\"dataframe\">\n",
       "  <thead>\n",
       "    <tr style=\"text-align: right;\">\n",
       "      <th></th>\n",
       "      <th>TX</th>\n",
       "      <th>TX_pair</th>\n",
       "      <th>TY</th>\n",
       "      <th>TY_pair</th>\n",
       "      <th>X</th>\n",
       "      <th>X_pair</th>\n",
       "      <th>Y</th>\n",
       "      <th>Y_pair</th>\n",
       "      <th>Z</th>\n",
       "      <th>Z_pair</th>\n",
       "      <th>dTX</th>\n",
       "      <th>dTY</th>\n",
       "      <th>dX</th>\n",
       "      <th>dY</th>\n",
       "      <th>dZ</th>\n",
       "    </tr>\n",
       "  </thead>\n",
       "  <tbody>\n",
       "    <tr>\n",
       "      <th>0</th>\n",
       "      <td>-193.084152</td>\n",
       "      <td>-350.331818</td>\n",
       "      <td>623.975891</td>\n",
       "      <td>437.505890</td>\n",
       "      <td>37949.000000</td>\n",
       "      <td>38081.851562</td>\n",
       "      <td>24967.570312</td>\n",
       "      <td>24522.312500</td>\n",
       "      <td>0.0</td>\n",
       "      <td>1293.0</td>\n",
       "      <td>157.247665</td>\n",
       "      <td>186.470001</td>\n",
       "      <td>-132.851562</td>\n",
       "      <td>445.257812</td>\n",
       "      <td>-1293.0</td>\n",
       "    </tr>\n",
       "    <tr>\n",
       "      <th>1</th>\n",
       "      <td>-225.433212</td>\n",
       "      <td>-380.564331</td>\n",
       "      <td>-367.239899</td>\n",
       "      <td>458.562836</td>\n",
       "      <td>39335.953125</td>\n",
       "      <td>39409.578125</td>\n",
       "      <td>49094.968750</td>\n",
       "      <td>49534.917969</td>\n",
       "      <td>0.0</td>\n",
       "      <td>1293.0</td>\n",
       "      <td>155.131119</td>\n",
       "      <td>-825.802734</td>\n",
       "      <td>-73.625000</td>\n",
       "      <td>-439.949219</td>\n",
       "      <td>-1293.0</td>\n",
       "    </tr>\n",
       "    <tr>\n",
       "      <th>2</th>\n",
       "      <td>-288.543915</td>\n",
       "      <td>-166.982605</td>\n",
       "      <td>744.821838</td>\n",
       "      <td>638.900269</td>\n",
       "      <td>51992.125000</td>\n",
       "      <td>51851.539062</td>\n",
       "      <td>74045.695312</td>\n",
       "      <td>73873.390625</td>\n",
       "      <td>0.0</td>\n",
       "      <td>1293.0</td>\n",
       "      <td>-121.561310</td>\n",
       "      <td>105.921570</td>\n",
       "      <td>140.585938</td>\n",
       "      <td>172.304688</td>\n",
       "      <td>-1293.0</td>\n",
       "    </tr>\n",
       "    <tr>\n",
       "      <th>3</th>\n",
       "      <td>-131.043716</td>\n",
       "      <td>-486.173767</td>\n",
       "      <td>-389.968414</td>\n",
       "      <td>107.317078</td>\n",
       "      <td>29508.035156</td>\n",
       "      <td>29299.156250</td>\n",
       "      <td>67410.984375</td>\n",
       "      <td>67238.296875</td>\n",
       "      <td>0.0</td>\n",
       "      <td>1293.0</td>\n",
       "      <td>355.130051</td>\n",
       "      <td>-497.285492</td>\n",
       "      <td>208.878906</td>\n",
       "      <td>172.687500</td>\n",
       "      <td>-1293.0</td>\n",
       "    </tr>\n",
       "    <tr>\n",
       "      <th>4</th>\n",
       "      <td>-233.201782</td>\n",
       "      <td>135.409042</td>\n",
       "      <td>573.095337</td>\n",
       "      <td>775.318970</td>\n",
       "      <td>67685.781250</td>\n",
       "      <td>67272.015625</td>\n",
       "      <td>75164.359375</td>\n",
       "      <td>75664.359375</td>\n",
       "      <td>0.0</td>\n",
       "      <td>1293.0</td>\n",
       "      <td>-368.610825</td>\n",
       "      <td>-202.223633</td>\n",
       "      <td>413.765625</td>\n",
       "      <td>-500.000000</td>\n",
       "      <td>-1293.0</td>\n",
       "    </tr>\n",
       "  </tbody>\n",
       "</table>\n",
       "</div>"
      ],
      "text/plain": [
       "           TX     TX_pair          TY     TY_pair             X        X_pair  \\\n",
       "0 -193.084152 -350.331818  623.975891  437.505890  37949.000000  38081.851562   \n",
       "1 -225.433212 -380.564331 -367.239899  458.562836  39335.953125  39409.578125   \n",
       "2 -288.543915 -166.982605  744.821838  638.900269  51992.125000  51851.539062   \n",
       "3 -131.043716 -486.173767 -389.968414  107.317078  29508.035156  29299.156250   \n",
       "4 -233.201782  135.409042  573.095337  775.318970  67685.781250  67272.015625   \n",
       "\n",
       "              Y        Y_pair    Z  Z_pair         dTX         dTY  \\\n",
       "0  24967.570312  24522.312500  0.0  1293.0  157.247665  186.470001   \n",
       "1  49094.968750  49534.917969  0.0  1293.0  155.131119 -825.802734   \n",
       "2  74045.695312  73873.390625  0.0  1293.0 -121.561310  105.921570   \n",
       "3  67410.984375  67238.296875  0.0  1293.0  355.130051 -497.285492   \n",
       "4  75164.359375  75664.359375  0.0  1293.0 -368.610825 -202.223633   \n",
       "\n",
       "           dX          dY      dZ  \n",
       "0 -132.851562  445.257812 -1293.0  \n",
       "1  -73.625000 -439.949219 -1293.0  \n",
       "2  140.585938  172.304688 -1293.0  \n",
       "3  208.878906  172.687500 -1293.0  \n",
       "4  413.765625 -500.000000 -1293.0  "
      ]
     },
     "execution_count": 14,
     "metadata": {},
     "output_type": "execute_result"
    }
   ],
   "source": [
    "X_test = test_p.drop(['data_ind'], axis=1).reset_index(drop=True)\n",
    "X_test.head()"
   ]
  },
  {
   "cell_type": "markdown",
   "metadata": {},
   "source": [
    "### Final prediction == average probability for each point"
   ]
  },
  {
   "cell_type": "code",
   "execution_count": 15,
   "metadata": {
    "collapsed": true
   },
   "outputs": [],
   "source": [
    "pred = bst.predict(X_test)"
   ]
  },
  {
   "cell_type": "code",
   "execution_count": 18,
   "metadata": {
    "collapsed": false
   },
   "outputs": [],
   "source": [
    "raw = pd.DataFrame({'id': test_p.index, 'prob': pred}).groupby('id')\n"
   ]
  },
  {
   "cell_type": "code",
   "execution_count": 20,
   "metadata": {
    "collapsed": false
   },
   "outputs": [],
   "source": [
    "agg = raw.aggregate('mean')['prob']"
   ]
  },
  {
   "cell_type": "code",
   "execution_count": 48,
   "metadata": {
    "collapsed": false
   },
   "outputs": [
    {
     "data": {
      "text/html": [
       "<div>\n",
       "<table border=\"1\" class=\"dataframe\">\n",
       "  <thead>\n",
       "    <tr style=\"text-align: right;\">\n",
       "      <th></th>\n",
       "      <th>signal</th>\n",
       "    </tr>\n",
       "    <tr>\n",
       "      <th>id</th>\n",
       "      <th></th>\n",
       "    </tr>\n",
       "  </thead>\n",
       "  <tbody>\n",
       "    <tr>\n",
       "      <th>0</th>\n",
       "      <td>0.107997</td>\n",
       "    </tr>\n",
       "    <tr>\n",
       "      <th>1</th>\n",
       "      <td>0.071943</td>\n",
       "    </tr>\n",
       "    <tr>\n",
       "      <th>2</th>\n",
       "      <td>0.240363</td>\n",
       "    </tr>\n",
       "    <tr>\n",
       "      <th>3</th>\n",
       "      <td>0.090985</td>\n",
       "    </tr>\n",
       "    <tr>\n",
       "      <th>4</th>\n",
       "      <td>0.030894</td>\n",
       "    </tr>\n",
       "  </tbody>\n",
       "</table>\n",
       "</div>"
      ],
      "text/plain": [
       "      signal\n",
       "id          \n",
       "0   0.107997\n",
       "1   0.071943\n",
       "2   0.240363\n",
       "3   0.090985\n",
       "4   0.030894"
      ]
     },
     "execution_count": 48,
     "metadata": {},
     "output_type": "execute_result"
    }
   ],
   "source": [
    "result = pd.DataFrame(data={'signal': agg})\n",
    "result.head()"
   ]
  },
  {
   "cell_type": "code",
   "execution_count": 49,
   "metadata": {
    "collapsed": false
   },
   "outputs": [
    {
     "data": {
      "text/plain": [
       "(6998081, 1)"
      ]
     },
     "execution_count": 49,
     "metadata": {},
     "output_type": "execute_result"
    }
   ],
   "source": [
    "result.shape"
   ]
  },
  {
   "cell_type": "code",
   "execution_count": 57,
   "metadata": {
    "collapsed": true
   },
   "outputs": [],
   "source": [
    "all_ids = sample_test.id.unique()"
   ]
  },
  {
   "cell_type": "code",
   "execution_count": 58,
   "metadata": {
    "collapsed": true
   },
   "outputs": [],
   "source": [
    "pred_ids = result.index.unique()"
   ]
  },
  {
   "cell_type": "code",
   "execution_count": 59,
   "metadata": {
    "collapsed": true
   },
   "outputs": [],
   "source": [
    "diff = set(all_ids) - set(pred_ids)"
   ]
  },
  {
   "cell_type": "code",
   "execution_count": 60,
   "metadata": {
    "collapsed": false
   },
   "outputs": [
    {
     "data": {
      "text/plain": [
       "700818"
      ]
     },
     "execution_count": 60,
     "metadata": {},
     "output_type": "execute_result"
    }
   ],
   "source": [
    "len(diff)"
   ]
  },
  {
   "cell_type": "code",
   "execution_count": 64,
   "metadata": {
    "collapsed": false
   },
   "outputs": [],
   "source": [
    "rest = sample_test[sample_test.id.isin(diff)].set_index('id')"
   ]
  },
  {
   "cell_type": "code",
   "execution_count": 66,
   "metadata": {
    "collapsed": false
   },
   "outputs": [],
   "source": [
    "result_ = pd.concat([result, rest])"
   ]
  },
  {
   "cell_type": "code",
   "execution_count": null,
   "metadata": {
    "collapsed": true
   },
   "outputs": [],
   "source": []
  },
  {
   "cell_type": "code",
   "execution_count": null,
   "metadata": {
    "collapsed": true
   },
   "outputs": [],
   "source": []
  },
  {
   "cell_type": "code",
   "execution_count": 70,
   "metadata": {
    "collapsed": false
   },
   "outputs": [],
   "source": [
    "result_.to_csv('submit.csv')"
   ]
  }
 ],
 "metadata": {
  "kernelspec": {
   "display_name": "Python 3",
   "language": "python",
   "name": "python3"
  },
  "language_info": {
   "codemirror_mode": {
    "name": "ipython",
    "version": 3
   },
   "file_extension": ".py",
   "mimetype": "text/x-python",
   "name": "python",
   "nbconvert_exporter": "python",
   "pygments_lexer": "ipython3",
   "version": "3.5.5"
  }
 },
 "nbformat": 4,
 "nbformat_minor": 2
}
