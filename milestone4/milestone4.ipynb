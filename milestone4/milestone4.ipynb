{
 "cells": [
  {
   "cell_type": "markdown",
   "metadata": {},
   "source": [
    "## Data observe"
   ]
  },
  {
   "cell_type": "code",
   "execution_count": 1,
   "metadata": {
    "collapsed": true
   },
   "outputs": [],
   "source": [
    "import pandas as pd\n",
    "import numpy as np\n",
    "from matplotlib import pyplot as plt\n",
    "from tqdm import tqdm_notebook"
   ]
  },
  {
   "cell_type": "code",
   "execution_count": 15,
   "metadata": {},
   "outputs": [],
   "source": [
    "data = pd.read_hdf('data/milestone4/open0.h5', mode='r')"
   ]
  },
  {
   "cell_type": "code",
   "execution_count": 19,
   "metadata": {
    "collapsed": true
   },
   "outputs": [],
   "source": [
    "data['index'] = np.int32(range(data.shape[0]))\n",
    "\n",
    "data['event_id'] = data['event_id'].astype(np.int32)\n",
    "data['signal'] = data['signal'].astype(np.bool)\n",
    "data['data_ind'] = data['data_ind'].astype(np.int32)"
   ]
  },
  {
   "cell_type": "code",
   "execution_count": 20,
   "metadata": {},
   "outputs": [
    {
     "name": "stdout",
     "output_type": "stream",
     "text": [
      "<class 'pandas.core.frame.DataFrame'>\n",
      "Int64Index: 698798 entries, 0 to 698797\n",
      "Data columns (total 9 columns):\n",
      "TX          698798 non-null float32\n",
      "TY          698798 non-null float32\n",
      "X           698798 non-null float32\n",
      "Y           698798 non-null float32\n",
      "Z           698798 non-null float32\n",
      "event_id    698798 non-null int32\n",
      "signal      698798 non-null bool\n",
      "data_ind    698798 non-null int32\n",
      "index       698798 non-null int32\n",
      "dtypes: bool(1), float32(5), int32(3)\n",
      "memory usage: 27.3 MB\n"
     ]
    }
   ],
   "source": [
    "data.info()"
   ]
  },
  {
   "cell_type": "code",
   "execution_count": 21,
   "metadata": {},
   "outputs": [
    {
     "data": {
      "text/html": [
       "<div>\n",
       "<style>\n",
       "    .dataframe thead tr:only-child th {\n",
       "        text-align: right;\n",
       "    }\n",
       "\n",
       "    .dataframe thead th {\n",
       "        text-align: left;\n",
       "    }\n",
       "\n",
       "    .dataframe tbody tr th {\n",
       "        vertical-align: top;\n",
       "    }\n",
       "</style>\n",
       "<table border=\"1\" class=\"dataframe\">\n",
       "  <thead>\n",
       "    <tr style=\"text-align: right;\">\n",
       "      <th></th>\n",
       "      <th>TX</th>\n",
       "      <th>TY</th>\n",
       "      <th>X</th>\n",
       "      <th>Y</th>\n",
       "      <th>Z</th>\n",
       "      <th>event_id</th>\n",
       "      <th>signal</th>\n",
       "      <th>data_ind</th>\n",
       "      <th>index</th>\n",
       "    </tr>\n",
       "  </thead>\n",
       "  <tbody>\n",
       "    <tr>\n",
       "      <th>0</th>\n",
       "      <td>-0.121689</td>\n",
       "      <td>0.357254</td>\n",
       "      <td>66494.796875</td>\n",
       "      <td>74176.140625</td>\n",
       "      <td>25860.0</td>\n",
       "      <td>-999</td>\n",
       "      <td>False</td>\n",
       "      <td>0</td>\n",
       "      <td>0</td>\n",
       "    </tr>\n",
       "    <tr>\n",
       "      <th>1</th>\n",
       "      <td>0.040179</td>\n",
       "      <td>-0.107180</td>\n",
       "      <td>47274.550781</td>\n",
       "      <td>37472.406250</td>\n",
       "      <td>18102.0</td>\n",
       "      <td>-999</td>\n",
       "      <td>False</td>\n",
       "      <td>0</td>\n",
       "      <td>1</td>\n",
       "    </tr>\n",
       "    <tr>\n",
       "      <th>2</th>\n",
       "      <td>0.228571</td>\n",
       "      <td>0.223065</td>\n",
       "      <td>49311.167969</td>\n",
       "      <td>71490.804688</td>\n",
       "      <td>63357.0</td>\n",
       "      <td>-999</td>\n",
       "      <td>False</td>\n",
       "      <td>0</td>\n",
       "      <td>2</td>\n",
       "    </tr>\n",
       "    <tr>\n",
       "      <th>3</th>\n",
       "      <td>-0.099237</td>\n",
       "      <td>-0.138337</td>\n",
       "      <td>57166.726562</td>\n",
       "      <td>55747.062500</td>\n",
       "      <td>29739.0</td>\n",
       "      <td>-999</td>\n",
       "      <td>False</td>\n",
       "      <td>0</td>\n",
       "      <td>3</td>\n",
       "    </tr>\n",
       "    <tr>\n",
       "      <th>4</th>\n",
       "      <td>0.222805</td>\n",
       "      <td>0.130636</td>\n",
       "      <td>54455.746094</td>\n",
       "      <td>30725.843750</td>\n",
       "      <td>28446.0</td>\n",
       "      <td>-999</td>\n",
       "      <td>False</td>\n",
       "      <td>0</td>\n",
       "      <td>4</td>\n",
       "    </tr>\n",
       "  </tbody>\n",
       "</table>\n",
       "</div>"
      ],
      "text/plain": [
       "         TX        TY             X             Y        Z  event_id  signal  \\\n",
       "0 -0.121689  0.357254  66494.796875  74176.140625  25860.0      -999   False   \n",
       "1  0.040179 -0.107180  47274.550781  37472.406250  18102.0      -999   False   \n",
       "2  0.228571  0.223065  49311.167969  71490.804688  63357.0      -999   False   \n",
       "3 -0.099237 -0.138337  57166.726562  55747.062500  29739.0      -999   False   \n",
       "4  0.222805  0.130636  54455.746094  30725.843750  28446.0      -999   False   \n",
       "\n",
       "   data_ind  index  \n",
       "0         0      0  \n",
       "1         0      1  \n",
       "2         0      2  \n",
       "3         0      3  \n",
       "4         0      4  "
      ]
     },
     "execution_count": 21,
     "metadata": {},
     "output_type": "execute_result"
    }
   ],
   "source": [
    "data.head()"
   ]
  },
  {
   "cell_type": "code",
   "execution_count": 22,
   "metadata": {
    "collapsed": true
   },
   "outputs": [],
   "source": [
    "def drow_brick(data, signal=None):\n",
    "    plt.figure(figsize=(16, 4))\n",
    "    for i, axis in zip([1, 2], ['X','Y']):\n",
    "        plt.subplot(1, 2, i)\n",
    "        if (signal):\n",
    "            plt.scatter(data[data.signal == signal].Z, data[data.signal == signal][axis])\n",
    "        else:\n",
    "            plt.scatter(data.Z, data[axis])\n",
    "\n",
    "        plt.title('EM shower')\n",
    "        plt.xlabel('Z')\n",
    "        plt.ylabel(axis)\n",
    "\n",
    "    plt.show()"
   ]
  },
  {
   "cell_type": "code",
   "execution_count": 31,
   "metadata": {},
   "outputs": [
    {
     "data": {
      "image/png": "[encoded data removed]",
      "text/plain": [
       "<matplotlib.figure.Figure at 0x7fbaec2cf8d0>"
      ]
     },
     "metadata": {},
     "output_type": "display_data"
    }
   ],
   "source": [
    "drow_brick(data, signal=True)"
   ]
  },
  {
   "cell_type": "code",
   "execution_count": 26,
   "metadata": {
    "collapsed": true
   },
   "outputs": [],
   "source": [
    "def draw_tan(data):\n",
    "    plt.figure(figsize=(14, 4))\n",
    "    \n",
    "    for i, axis in zip([1, 2], ['TX','TY']):\n",
    "        plt.subplot(1, 2, i)\n",
    "        plt.hist(data[data.signal == True]['TY'].dropna(), bins=50, histtype=\"step\", normed=True)\n",
    "        plt.hist(data[data.signal == False]['TY'].dropna(), bins=50, histtype=\"step\", normed=True)\n",
    "        plt.title(axis + ' hist')\n",
    "        plt.legend(['signal','background'])\n",
    "\n",
    "    plt.show()"
   ]
  },
  {
   "cell_type": "code",
   "execution_count": 27,
   "metadata": {},
   "outputs": [
    {
     "data": {
      "image/png": "[encoded data removed]",
      "text/plain": [
       "<matplotlib.figure.Figure at 0x7fbaec2b5160>"
      ]
     },
     "metadata": {},
     "output_type": "display_data"
    }
   ],
   "source": [
    "draw_tan(data)"
   ]
  },
  {
   "cell_type": "code",
   "execution_count": 28,
   "metadata": {
    "collapsed": true
   },
   "outputs": [],
   "source": [
    "def draw_axes(data):\n",
    "    plt.figure(figsize=(18, 4))\n",
    "    \n",
    "    for i, axis in zip([1, 2, 3], ['X','Y','Z']):\n",
    "        plt.subplot(1, 3, i)\n",
    "        plt.hist(data[data.signal == True][axis], bins=58, histtype=\"step\", normed=True)\n",
    "        plt.hist(data[data.signal == False][axis], bins=58, histtype=\"step\", normed=True)\n",
    "        plt.title(axis + ' hist')\n",
    "        plt.legend(['signal','background'])\n",
    "\n",
    "    plt.show()"
   ]
  },
  {
   "cell_type": "code",
   "execution_count": 29,
   "metadata": {},
   "outputs": [
    {
     "data": {
      "image/png": "[encoded data removed]",
      "text/plain": [
       "<matplotlib.figure.Figure at 0x7fbaec13de10>"
      ]
     },
     "metadata": {},
     "output_type": "display_data"
    }
   ],
   "source": [
    "draw_axes(data)"
   ]
  },
  {
   "cell_type": "code",
   "execution_count": 30,
   "metadata": {},
   "outputs": [
    {
     "data": {
      "image/png": "[encoded data removed]",
      "text/plain": [
       "<matplotlib.figure.Figure at 0x7fbaec3c0860>"
      ]
     },
     "metadata": {},
     "output_type": "display_data"
    }
   ],
   "source": [
    "draw_axes(data)"
   ]
  },
  {
   "cell_type": "markdown",
   "metadata": {},
   "source": [
    "## New features"
   ]
  },
  {
   "cell_type": "code",
   "execution_count": 151,
   "metadata": {
    "collapsed": true
   },
   "outputs": [],
   "source": [
    "#data = pd.read_hdf('data/milestone4/open10.h5', mode='r')\n",
    "#data0 = pd.read_hdf('data/milestone4/test_close0.h5', mode='r')\n",
    "data = pd.read_hdf('data/milestone4/test_close10.h5', mode='r')"
   ]
  },
  {
   "cell_type": "code",
   "execution_count": 54,
   "metadata": {},
   "outputs": [
    {
     "data": {
      "text/plain": [
       "array([ 1,  2,  3,  4,  5,  6,  7,  8,  9, 10])"
      ]
     },
     "execution_count": 54,
     "metadata": {},
     "output_type": "execute_result"
    }
   ],
   "source": [
    "np.unique(data.data_ind)"
   ]
  },
  {
   "cell_type": "code",
   "execution_count": 152,
   "metadata": {
    "collapsed": true
   },
   "outputs": [],
   "source": [
    "num_pic = 10"
   ]
  },
  {
   "cell_type": "code",
   "execution_count": 153,
   "metadata": {
    "collapsed": true
   },
   "outputs": [],
   "source": [
    "#data['index'] = np.int32(range(data.shape[0])) #700818\n",
    "data['index'] = np.int32(range(700818, 7698899)) \n",
    "data = data[(data.data_ind == num_pic) & (data.Z % 1293 == 0)]"
   ]
  },
  {
   "cell_type": "code",
   "execution_count": 154,
   "metadata": {},
   "outputs": [],
   "source": [
    "#data['event_id'] = data['event_id'].astype(np.int32)\n",
    "#data['signal'] = data['signal'].astype(np.bool)\n",
    "data['data_ind'] = data['data_ind'].astype(np.int32)"
   ]
  },
  {
   "cell_type": "code",
   "execution_count": 58,
   "metadata": {},
   "outputs": [
    {
     "data": {
      "text/html": [
       "<div>\n",
       "<style>\n",
       "    .dataframe thead tr:only-child th {\n",
       "        text-align: right;\n",
       "    }\n",
       "\n",
       "    .dataframe thead th {\n",
       "        text-align: left;\n",
       "    }\n",
       "\n",
       "    .dataframe tbody tr th {\n",
       "        vertical-align: top;\n",
       "    }\n",
       "</style>\n",
       "<table border=\"1\" class=\"dataframe\">\n",
       "  <thead>\n",
       "    <tr style=\"text-align: right;\">\n",
       "      <th></th>\n",
       "      <th>TX</th>\n",
       "      <th>TY</th>\n",
       "      <th>X</th>\n",
       "      <th>Y</th>\n",
       "      <th>Z</th>\n",
       "      <th>data_ind</th>\n",
       "      <th>index</th>\n",
       "    </tr>\n",
       "  </thead>\n",
       "  <tbody>\n",
       "    <tr>\n",
       "      <th>705172</th>\n",
       "      <td>-0.339077</td>\n",
       "      <td>0.202979</td>\n",
       "      <td>54454.609375</td>\n",
       "      <td>77671.179688</td>\n",
       "      <td>54306.0</td>\n",
       "      <td>1</td>\n",
       "      <td>1405990</td>\n",
       "    </tr>\n",
       "    <tr>\n",
       "      <th>705173</th>\n",
       "      <td>-0.052269</td>\n",
       "      <td>-0.404353</td>\n",
       "      <td>92051.218750</td>\n",
       "      <td>70988.296875</td>\n",
       "      <td>43962.0</td>\n",
       "      <td>1</td>\n",
       "      <td>1405991</td>\n",
       "    </tr>\n",
       "    <tr>\n",
       "      <th>705174</th>\n",
       "      <td>0.047828</td>\n",
       "      <td>-0.120281</td>\n",
       "      <td>36903.773438</td>\n",
       "      <td>57858.242188</td>\n",
       "      <td>68529.0</td>\n",
       "      <td>1</td>\n",
       "      <td>1405992</td>\n",
       "    </tr>\n",
       "    <tr>\n",
       "      <th>705175</th>\n",
       "      <td>0.177716</td>\n",
       "      <td>-0.013430</td>\n",
       "      <td>48049.242188</td>\n",
       "      <td>67408.203125</td>\n",
       "      <td>56892.0</td>\n",
       "      <td>1</td>\n",
       "      <td>1405993</td>\n",
       "    </tr>\n",
       "    <tr>\n",
       "      <th>705176</th>\n",
       "      <td>0.059719</td>\n",
       "      <td>0.172786</td>\n",
       "      <td>28890.453125</td>\n",
       "      <td>55440.234375</td>\n",
       "      <td>10344.0</td>\n",
       "      <td>1</td>\n",
       "      <td>1405994</td>\n",
       "    </tr>\n",
       "  </tbody>\n",
       "</table>\n",
       "</div>"
      ],
      "text/plain": [
       "              TX        TY             X             Y        Z  data_ind  \\\n",
       "705172 -0.339077  0.202979  54454.609375  77671.179688  54306.0         1   \n",
       "705173 -0.052269 -0.404353  92051.218750  70988.296875  43962.0         1   \n",
       "705174  0.047828 -0.120281  36903.773438  57858.242188  68529.0         1   \n",
       "705175  0.177716 -0.013430  48049.242188  67408.203125  56892.0         1   \n",
       "705176  0.059719  0.172786  28890.453125  55440.234375  10344.0         1   \n",
       "\n",
       "          index  \n",
       "705172  1405990  \n",
       "705173  1405991  \n",
       "705174  1405992  \n",
       "705175  1405993  \n",
       "705176  1405994  "
      ]
     },
     "execution_count": 58,
     "metadata": {},
     "output_type": "execute_result"
    }
   ],
   "source": [
    "data.tail()"
   ]
  },
  {
   "cell_type": "code",
   "execution_count": 155,
   "metadata": {
    "collapsed": true
   },
   "outputs": [],
   "source": [
    "def dmin(v, vl):\n",
    "    return np.min(np.sum((v.values - vl)**2, axis=1))\n",
    "def ddmin_f(efr, df):\n",
    "    z0 = efr.iloc[0]['Z']\n",
    "    if z0 == zmax:\n",
    "        efr['dfore'] = (np.float32)(1e6)\n",
    "    else:\n",
    "        eto = df.query(\"Z=={}\".format(z0 + dz))\n",
    "        gfr = efr[[\"X1\", \"Y1\", \"X2\", \"Y2\"]]\n",
    "        gto = eto[[\"X\", \"Y\", \"X1\", \"Y1\"]]\n",
    "        d = gfr.apply(dmin, axis=1, args=(gto.values,))\n",
    "        efr['dfore'] = d.astype(np.float32)\n",
    "    return efr\n",
    "def ddmin_b(eto, df):\n",
    "    z0 = eto.iloc[0]['Z']\n",
    "    if z0 == zmin:\n",
    "        eto['dback'] = (np.float32)(1e6)\n",
    "    else:\n",
    "        efr = df.query(\"Z=={}\".format(z0 - dz))\n",
    "        gfr = efr[[\"X1\", \"Y1\", \"X2\", \"Y2\"]]\n",
    "        gto = eto[[\"X\", \"Y\", \"X1\", \"Y1\"]]\n",
    "        d = gto.apply(dmin, axis=1, args=(gfr.values,))\n",
    "        eto['dback'] = d.astype(np.float32)\n",
    "    return eto\n",
    "def ddmin(ev, df):\n",
    "    return ddmin_b(ddmin_f(ev, df), df)\n",
    "def features(df):\n",
    "    dx = df['TX'] * dz\n",
    "    dy = df['TY'] * dz\n",
    "    df['X1'] = df['X'] + dx\n",
    "    df['Y1'] = df['Y'] + dy\n",
    "    df['X2'] = df['X1'] + dx\n",
    "    df['Y2'] = df['Y1'] + dy\n",
    "    return df.groupby(\"Z\").apply(ddmin, df)"
   ]
  },
  {
   "cell_type": "code",
   "execution_count": 156,
   "metadata": {},
   "outputs": [
    {
     "name": "stdout",
     "output_type": "stream",
     "text": [
      "zmin = 0.0\n",
      "zmax = 73701.0\n",
      "len(zl) = 58\n",
      "dz = 1293.0\n"
     ]
    }
   ],
   "source": [
    "zl = np.unique(data['Z'])\n",
    "zmin = np.min(zl)\n",
    "zmax = np.max(zl)\n",
    "dz = np.diff(zl)[0]\n",
    "print('zmin = {}'.format(zmin))\n",
    "print('zmax = {}'.format(zmax))\n",
    "print('len(zl) = {}'.format(len(zl)))\n",
    "print('dz = {}'.format(dz))"
   ]
  },
  {
   "cell_type": "code",
   "execution_count": 157,
   "metadata": {},
   "outputs": [
    {
     "name": "stdout",
     "output_type": "stream",
     "text": [
      "CPU times: user 1min 50s, sys: 208 ms, total: 1min 50s\n",
      "Wall time: 1min 50s\n"
     ]
    }
   ],
   "source": [
    "%time data_extended = features(data)"
   ]
  },
  {
   "cell_type": "code",
   "execution_count": 158,
   "metadata": {},
   "outputs": [
    {
     "name": "stdout",
     "output_type": "stream",
     "text": [
      "CPU times: user 1min 48s, sys: 124 ms, total: 1min 48s\n",
      "Wall time: 1min 48s\n"
     ]
    }
   ],
   "source": [
    "dz2 = dz*2\n",
    "def dmin(v, vl):\n",
    "    return np.min(np.sum((v.values - vl)**2, axis=1))\n",
    "def ddmin_f(efr, df):\n",
    "    z0 = efr.iloc[0]['Z']\n",
    "    if (z0 == zmax) or (z0 == (zmax - 1293)):\n",
    "        efr['dfore2'] = (np.float32)(1e6)\n",
    "    else:\n",
    "        eto = df.query(\"Z=={}\".format(z0 + dz2))\n",
    "        gfr = efr[[\"X2\", \"Y2\", \"X3\", \"Y3\"]]\n",
    "        gto = eto[[\"X\", \"Y\", \"X1\", \"Y1\"]]\n",
    "        d = gfr.apply(dmin, axis=1, args=(gto.values,))\n",
    "        efr['dfore2'] = d.astype(np.float32)\n",
    "    return efr\n",
    "def ddmin_b(eto, df):\n",
    "    z0 = eto.iloc[0]['Z']\n",
    "    if (z0 == zmin) or (z0 == (zmin + 1293)):\n",
    "        eto['dback2'] = (np.float32)(1e6)\n",
    "    else:\n",
    "        efr = df.query(\"Z=={}\".format(z0 - dz2))\n",
    "        gfr = efr[[\"X2\", \"Y2\", \"X3\", \"Y3\"]]\n",
    "        gto = eto[[\"X\", \"Y\", \"X1\", \"Y1\"]]\n",
    "        d = gto.apply(dmin, axis=1, args=(gfr.values,))\n",
    "        eto['dback2'] = d.astype(np.float32)\n",
    "    return eto\n",
    "def ddmin(ev, df):\n",
    "    return ddmin_b(ddmin_f(ev, df), df)\n",
    "def features_2_layer(df):\n",
    "    dx = df['TX'] * dz\n",
    "    dy = df['TY'] * dz\n",
    "    #df['X1'] = df['X'] + dx\n",
    "    #df['Y1'] = df['Y'] + dy\n",
    "    #df['X2'] = df['X1'] + dx\n",
    "    #df['Y2'] = df['Y1'] + dy\n",
    "    \n",
    "    df['X3'] = df['X2'] + dx\n",
    "    df['Y3'] = df['Y2'] + dy\n",
    "    \n",
    "    return df.groupby(\"Z\").apply(ddmin, df)\n",
    "\n",
    "\n",
    "%time data_extended2 = features_2_layer(data_extended)"
   ]
  },
  {
   "cell_type": "code",
   "execution_count": 159,
   "metadata": {},
   "outputs": [
    {
     "name": "stdout",
     "output_type": "stream",
     "text": [
      "CPU times: user 1min 18s, sys: 160 ms, total: 1min 18s\n",
      "Wall time: 1min 18s\n"
     ]
    }
   ],
   "source": [
    "def dmin(v, vl):\n",
    "    return np.min(np.sum((v.values - vl)**2, axis=1))\n",
    "def ddmin_f(efr, df):\n",
    "    z0 = efr.iloc[0]['Z']\n",
    "    if (z0 == zmax):\n",
    "        efr['dfore_simp'] = (np.float32)(1e6)\n",
    "    else:\n",
    "        eto = df.query(\"Z=={}\".format(z0 + dz))\n",
    "        gfr = efr[[\"X1\", \"Y1\"]]\n",
    "        gto = eto[[\"X\", \"Y\"]]\n",
    "        d = gfr.apply(dmin, axis=1, args=(gto.values,))\n",
    "        efr['dfore_simp'] = d.astype(np.float32)\n",
    "    return efr\n",
    "def ddmin_b(eto, df):\n",
    "    z0 = eto.iloc[0]['Z']\n",
    "    if (z0 == zmin):\n",
    "        eto['dback_simp'] = (np.float32)(1e6)\n",
    "    else:\n",
    "        efr = df.query(\"Z=={}\".format(z0 - dz))\n",
    "        gfr = efr[[\"X1\", \"Y1\"]]\n",
    "        gto = eto[[\"X\", \"Y\"]]\n",
    "        d = gto.apply(dmin, axis=1, args=(gfr.values,))\n",
    "        eto['dback_simp'] = d.astype(np.float32)\n",
    "    return eto\n",
    "def ddmin(ev, df):\n",
    "    return ddmin_b(ddmin_f(ev, df), df)\n",
    "def features_simp(df):\n",
    "    return df.groupby(\"Z\").apply(ddmin, df)\n",
    "\n",
    "\n",
    "%time data_extended3 = features_simp(data_extended2)"
   ]
  },
  {
   "cell_type": "code",
   "execution_count": null,
   "metadata": {},
   "outputs": [],
   "source": [
    "data_extended3.info()"
   ]
  },
  {
   "cell_type": "code",
   "execution_count": 349,
   "metadata": {},
   "outputs": [
    {
     "data": {
      "text/html": [
       "<div>\n",
       "<style>\n",
       "    .dataframe thead tr:only-child th {\n",
       "        text-align: right;\n",
       "    }\n",
       "\n",
       "    .dataframe thead th {\n",
       "        text-align: left;\n",
       "    }\n",
       "\n",
       "    .dataframe tbody tr th {\n",
       "        vertical-align: top;\n",
       "    }\n",
       "</style>\n",
       "<table border=\"1\" class=\"dataframe\">\n",
       "  <thead>\n",
       "    <tr style=\"text-align: right;\">\n",
       "      <th></th>\n",
       "      <th>TX</th>\n",
       "      <th>TY</th>\n",
       "      <th>X</th>\n",
       "      <th>Y</th>\n",
       "      <th>Z</th>\n",
       "      <th>data_ind</th>\n",
       "      <th>index</th>\n",
       "      <th>X1</th>\n",
       "      <th>Y1</th>\n",
       "      <th>X2</th>\n",
       "      <th>Y2</th>\n",
       "      <th>dfore</th>\n",
       "      <th>dback</th>\n",
       "      <th>X3</th>\n",
       "      <th>Y3</th>\n",
       "      <th>dfore2</th>\n",
       "      <th>dback2</th>\n",
       "      <th>dfore_simp</th>\n",
       "      <th>dback_simp</th>\n",
       "    </tr>\n",
       "  </thead>\n",
       "  <tbody>\n",
       "    <tr>\n",
       "      <th>4913000</th>\n",
       "      <td>0.032682</td>\n",
       "      <td>0.001637</td>\n",
       "      <td>33329.046875</td>\n",
       "      <td>45709.785156</td>\n",
       "      <td>15516.0</td>\n",
       "      <td>8</td>\n",
       "      <td>5613817</td>\n",
       "      <td>33371.304688</td>\n",
       "      <td>45711.902344</td>\n",
       "      <td>33413.562500</td>\n",
       "      <td>45714.019531</td>\n",
       "      <td>606548.062500</td>\n",
       "      <td>162819.50000</td>\n",
       "      <td>33455.820312</td>\n",
       "      <td>45716.136719</td>\n",
       "      <td>3.889101e+05</td>\n",
       "      <td>168392.53125</td>\n",
       "      <td>214533.093750</td>\n",
       "      <td>20230.628906</td>\n",
       "    </tr>\n",
       "    <tr>\n",
       "      <th>4913001</th>\n",
       "      <td>0.075558</td>\n",
       "      <td>-0.292736</td>\n",
       "      <td>40998.109375</td>\n",
       "      <td>29701.566406</td>\n",
       "      <td>55599.0</td>\n",
       "      <td>8</td>\n",
       "      <td>5613818</td>\n",
       "      <td>41095.804688</td>\n",
       "      <td>29323.058594</td>\n",
       "      <td>41193.500000</td>\n",
       "      <td>28944.550781</td>\n",
       "      <td>244159.734375</td>\n",
       "      <td>281761.81250</td>\n",
       "      <td>41291.195312</td>\n",
       "      <td>28566.042969</td>\n",
       "      <td>3.829907e+05</td>\n",
       "      <td>660103.18750</td>\n",
       "      <td>7602.037109</td>\n",
       "      <td>12887.770508</td>\n",
       "    </tr>\n",
       "    <tr>\n",
       "      <th>4913002</th>\n",
       "      <td>-0.160324</td>\n",
       "      <td>0.312165</td>\n",
       "      <td>58496.679688</td>\n",
       "      <td>71954.109375</td>\n",
       "      <td>73701.0</td>\n",
       "      <td>8</td>\n",
       "      <td>5613819</td>\n",
       "      <td>58289.382812</td>\n",
       "      <td>72357.742188</td>\n",
       "      <td>58082.085938</td>\n",
       "      <td>72761.375000</td>\n",
       "      <td>1000000.000000</td>\n",
       "      <td>481576.31250</td>\n",
       "      <td>57874.789062</td>\n",
       "      <td>73165.007812</td>\n",
       "      <td>1.000000e+06</td>\n",
       "      <td>337076.09375</td>\n",
       "      <td>1000000.000000</td>\n",
       "      <td>209786.921875</td>\n",
       "    </tr>\n",
       "    <tr>\n",
       "      <th>4913003</th>\n",
       "      <td>0.334896</td>\n",
       "      <td>-0.314555</td>\n",
       "      <td>84209.351562</td>\n",
       "      <td>19539.511719</td>\n",
       "      <td>31032.0</td>\n",
       "      <td>8</td>\n",
       "      <td>5613820</td>\n",
       "      <td>84642.375000</td>\n",
       "      <td>19132.791016</td>\n",
       "      <td>85075.398438</td>\n",
       "      <td>18726.070312</td>\n",
       "      <td>332944.468750</td>\n",
       "      <td>884669.18750</td>\n",
       "      <td>85508.421875</td>\n",
       "      <td>18319.349609</td>\n",
       "      <td>2.016408e+06</td>\n",
       "      <td>287981.06250</td>\n",
       "      <td>2170.766357</td>\n",
       "      <td>169729.093750</td>\n",
       "    </tr>\n",
       "    <tr>\n",
       "      <th>4913004</th>\n",
       "      <td>-0.209747</td>\n",
       "      <td>0.368397</td>\n",
       "      <td>76537.914062</td>\n",
       "      <td>26630.697266</td>\n",
       "      <td>64650.0</td>\n",
       "      <td>8</td>\n",
       "      <td>5613821</td>\n",
       "      <td>76266.710938</td>\n",
       "      <td>27107.033203</td>\n",
       "      <td>75995.507812</td>\n",
       "      <td>27583.369141</td>\n",
       "      <td>644783.187500</td>\n",
       "      <td>161536.53125</td>\n",
       "      <td>75724.304688</td>\n",
       "      <td>28059.705078</td>\n",
       "      <td>1.853726e+05</td>\n",
       "      <td>376198.59375</td>\n",
       "      <td>194383.171875</td>\n",
       "      <td>72766.984375</td>\n",
       "    </tr>\n",
       "  </tbody>\n",
       "</table>\n",
       "</div>"
      ],
      "text/plain": [
       "               TX        TY             X             Y        Z  data_ind  \\\n",
       "4913000  0.032682  0.001637  33329.046875  45709.785156  15516.0         8   \n",
       "4913001  0.075558 -0.292736  40998.109375  29701.566406  55599.0         8   \n",
       "4913002 -0.160324  0.312165  58496.679688  71954.109375  73701.0         8   \n",
       "4913003  0.334896 -0.314555  84209.351562  19539.511719  31032.0         8   \n",
       "4913004 -0.209747  0.368397  76537.914062  26630.697266  64650.0         8   \n",
       "\n",
       "           index            X1            Y1            X2            Y2  \\\n",
       "4913000  5613817  33371.304688  45711.902344  33413.562500  45714.019531   \n",
       "4913001  5613818  41095.804688  29323.058594  41193.500000  28944.550781   \n",
       "4913002  5613819  58289.382812  72357.742188  58082.085938  72761.375000   \n",
       "4913003  5613820  84642.375000  19132.791016  85075.398438  18726.070312   \n",
       "4913004  5613821  76266.710938  27107.033203  75995.507812  27583.369141   \n",
       "\n",
       "                  dfore         dback            X3            Y3  \\\n",
       "4913000   606548.062500  162819.50000  33455.820312  45716.136719   \n",
       "4913001   244159.734375  281761.81250  41291.195312  28566.042969   \n",
       "4913002  1000000.000000  481576.31250  57874.789062  73165.007812   \n",
       "4913003   332944.468750  884669.18750  85508.421875  18319.349609   \n",
       "4913004   644783.187500  161536.53125  75724.304688  28059.705078   \n",
       "\n",
       "               dfore2        dback2      dfore_simp     dback_simp  \n",
       "4913000  3.889101e+05  168392.53125   214533.093750   20230.628906  \n",
       "4913001  3.829907e+05  660103.18750     7602.037109   12887.770508  \n",
       "4913002  1.000000e+06  337076.09375  1000000.000000  209786.921875  \n",
       "4913003  2.016408e+06  287981.06250     2170.766357  169729.093750  \n",
       "4913004  1.853726e+05  376198.59375   194383.171875   72766.984375  "
      ]
     },
     "execution_count": 349,
     "metadata": {},
     "output_type": "execute_result"
    }
   ],
   "source": [
    "data_extended3.head()"
   ]
  },
  {
   "cell_type": "code",
   "execution_count": 160,
   "metadata": {
    "collapsed": true
   },
   "outputs": [],
   "source": [
    "#data_extended3.to_hdf('data/milestone4/open{}_extended3.h5'.format(num_pic), 'key_to_store', mode='w')\n",
    "data_extended3.to_hdf('data/milestone4/close{}_extended3.h5'.format(num_pic), 'key_to_store', mode='w')"
   ]
  },
  {
   "cell_type": "code",
   "execution_count": 161,
   "metadata": {},
   "outputs": [
    {
     "data": {
      "text/plain": [
       "10"
      ]
     },
     "execution_count": 161,
     "metadata": {},
     "output_type": "execute_result"
    }
   ],
   "source": [
    "num_pic"
   ]
  },
  {
   "cell_type": "markdown",
   "metadata": {},
   "source": [
    "## CatBoost"
   ]
  },
  {
   "cell_type": "code",
   "execution_count": 203,
   "metadata": {
    "collapsed": true
   },
   "outputs": [],
   "source": [
    "data0 = pd.read_hdf('data/milestone4/open0_extended3.h5', mode='r')\n",
    "data1 = pd.read_hdf('data/milestone4/open1_extended3.h5', mode='r')\n",
    "data2 = pd.read_hdf('data/milestone4/open2_extended3.h5', mode='r')\n",
    "data3 = pd.read_hdf('data/milestone4/open3_extended3.h5', mode='r')\n",
    "data4 = pd.read_hdf('data/milestone4/open4_extended3.h5', mode='r')\n",
    "data5 = pd.read_hdf('data/milestone4/open5_extended3.h5', mode='r')\n",
    "data6 = pd.read_hdf('data/milestone4/open6_extended3.h5', mode='r')\n",
    "data7 = pd.read_hdf('data/milestone4/open7_extended3.h5', mode='r')\n",
    "data8 = pd.read_hdf('data/milestone4/open8_extended3.h5', mode='r')\n",
    "data9 = pd.read_hdf('data/milestone4/open9_extended3.h5', mode='r')\n",
    "data10 = pd.read_hdf('data/milestone4/open10_extended3.h5', mode='r')"
   ]
  },
  {
   "cell_type": "code",
   "execution_count": 204,
   "metadata": {
    "collapsed": true
   },
   "outputs": [],
   "source": [
    "data = pd.concat([data0, data1[data1.signal == True], data2[data2.signal == True], \n",
    "                         data3[data3.signal == True], data4[data4.signal == True], \n",
    "                         data5[data5.signal == True], data6[data6.signal == True],\n",
    "                         data7[data7.signal == True], data8[data8.signal == True],\n",
    "                         data9[data9.signal == True], data10[data10.signal == True]])"
   ]
  },
  {
   "cell_type": "code",
   "execution_count": 7,
   "metadata": {},
   "outputs": [
    {
     "name": "stderr",
     "output_type": "stream",
     "text": [
      "/opt/conda/anaconda3/lib/python3.6/importlib/_bootstrap.py:205: RuntimeWarning: compiletime version 3.5 of module '_catboost' does not match runtime version 3.6\n",
      "  return f(*args, **kwds)\n"
     ]
    }
   ],
   "source": [
    "from catboost import CatBoostClassifier"
   ]
  },
  {
   "cell_type": "code",
   "execution_count": 205,
   "metadata": {},
   "outputs": [
    {
     "name": "stdout",
     "output_type": "stream",
     "text": [
      "Borders generated\n",
      "0:\tlearn 0.5189966197passed: 0.289 sec\ttotal: 39.8s\tremaining: 5h 31m 12s\n",
      "1:\tlearn 0.418186894passed: 0.313 sec\ttotal: 40.1s\tremaining: 2h 46m 34s\n",
      "2:\tlearn 0.3542085526passed: 0.285 sec\ttotal: 40.4s\tremaining: 1h 51m 36s\n",
      "3:\tlearn 0.3118746143passed: 0.289 sec\ttotal: 40.7s\tremaining: 1h 24m 8s\n",
      "4:\tlearn 0.2816020568passed: 0.29 sec\ttotal: 41s\tremaining: 1h 7m 39s\n",
      "5:\tlearn 0.259596875passed: 0.423 sec\ttotal: 41.4s\tremaining: 56m 50s\n",
      "6:\tlearn 0.242808936passed: 0.298 sec\ttotal: 41.7s\tremaining: 48m 58s\n",
      "7:\tlearn 0.229584411passed: 0.276 sec\ttotal: 42s\tremaining: 43m 3s\n",
      "8:\tlearn 0.2189049108passed: 0.282 sec\ttotal: 42.3s\tremaining: 38m 27s\n",
      "9:\tlearn 0.2101355359passed: 0.267 sec\ttotal: 42.6s\tremaining: 34m 45s\n",
      "10:\tlearn 0.2027478075passed: 0.285 sec\ttotal: 42.8s\tremaining: 31m 44s\n",
      "11:\tlearn 0.1966019973passed: 0.343 sec\ttotal: 43.2s\tremaining: 29m 16s\n",
      "12:\tlearn 0.1912082685passed: 0.329 sec\ttotal: 43.5s\tremaining: 27m 10s\n",
      "13:\tlearn 0.1863473193passed: 0.321 sec\ttotal: 43.8s\tremaining: 25m 21s\n",
      "14:\tlearn 0.1823265756passed: 0.279 sec\ttotal: 44.1s\tremaining: 23m 46s\n",
      "15:\tlearn 0.178698351passed: 0.293 sec\ttotal: 44.4s\tremaining: 22m 23s\n",
      "16:\tlearn 0.175440221passed: 0.279 sec\ttotal: 44.7s\tremaining: 21m 9s\n",
      "17:\tlearn 0.1724993574passed: 0.337 sec\ttotal: 45s\tremaining: 20m 5s\n",
      "18:\tlearn 0.1696954632passed: 0.393 sec\ttotal: 45.4s\tremaining: 19m 9s\n",
      "19:\tlearn 0.1672236205passed: 0.31 sec\ttotal: 45.7s\tremaining: 18m 17s\n",
      "20:\tlearn 0.1650445314passed: 0.335 sec\ttotal: 46.1s\tremaining: 17m 30s\n",
      "21:\tlearn 0.1629705973passed: 0.271 sec\ttotal: 46.3s\tremaining: 16m 46s\n",
      "22:\tlearn 0.1610827233passed: 0.29 sec\ttotal: 46.6s\tremaining: 16m 7s\n",
      "23:\tlearn 0.159276546passed: 0.274 sec\ttotal: 46.9s\tremaining: 15m 30s\n",
      "24:\tlearn 0.1575775248passed: 0.281 sec\ttotal: 47.2s\tremaining: 14m 56s\n",
      "25:\tlearn 0.156134808passed: 0.289 sec\ttotal: 47.5s\tremaining: 14m 25s\n",
      "26:\tlearn 0.1547932162passed: 0.281 sec\ttotal: 47.8s\tremaining: 13m 56s\n",
      "27:\tlearn 0.1534542815passed: 0.281 sec\ttotal: 48s\tremaining: 13m 29s\n",
      "28:\tlearn 0.1522312105passed: 0.361 sec\ttotal: 48.4s\tremaining: 13m 6s\n",
      "29:\tlearn 0.1511116854passed: 0.305 sec\ttotal: 48.7s\tremaining: 12m 43s\n",
      "30:\tlearn 0.1500728328passed: 0.283 sec\ttotal: 49s\tremaining: 12m 21s\n",
      "31:\tlearn 0.1490404069passed: 0.394 sec\ttotal: 49.4s\tremaining: 12m 2s\n",
      "32:\tlearn 0.1480600983passed: 0.289 sec\ttotal: 49.7s\tremaining: 11m 43s\n",
      "33:\tlearn 0.1469786112passed: 0.277 sec\ttotal: 50s\tremaining: 11m 24s\n",
      "34:\tlearn 0.1461053326passed: 0.277 sec\ttotal: 50.2s\tremaining: 11m 7s\n",
      "35:\tlearn 0.1452381673passed: 0.273 sec\ttotal: 50.5s\tremaining: 10m 51s\n",
      "36:\tlearn 0.1444758186passed: 0.276 sec\ttotal: 50.8s\tremaining: 10m 35s\n",
      "37:\tlearn 0.1437259717passed: 0.277 sec\ttotal: 51.1s\tremaining: 10m 20s\n",
      "38:\tlearn 0.142970092passed: 0.265 sec\ttotal: 51.3s\tremaining: 10m 6s\n",
      "39:\tlearn 0.1422809069passed: 0.273 sec\ttotal: 51.6s\tremaining: 9m 53s\n",
      "40:\tlearn 0.1416335251passed: 0.29 sec\ttotal: 51.9s\tremaining: 9m 41s\n",
      "41:\tlearn 0.1410494256passed: 0.279 sec\ttotal: 52.2s\tremaining: 9m 28s\n",
      "42:\tlearn 0.1403365941passed: 0.361 sec\ttotal: 52.5s\tremaining: 9m 18s\n",
      "43:\tlearn 0.1397253072passed: 0.514 sec\ttotal: 53.1s\tremaining: 9m 9s\n",
      "44:\tlearn 0.1391749605passed: 0.403 sec\ttotal: 53.5s\tremaining: 9m\n",
      "45:\tlearn 0.1386544184passed: 0.407 sec\ttotal: 53.9s\tremaining: 8m 51s\n",
      "46:\tlearn 0.138112806passed: 0.351 sec\ttotal: 54.2s\tremaining: 8m 42s\n",
      "47:\tlearn 0.1375884742passed: 0.261 sec\ttotal: 54.5s\tremaining: 8m 33s\n",
      "48:\tlearn 0.1371213531passed: 0.278 sec\ttotal: 54.8s\tremaining: 8m 24s\n",
      "49:\tlearn 0.1366839419passed: 0.268 sec\ttotal: 55s\tremaining: 8m 15s\n",
      "50:\tlearn 0.1361583881passed: 0.262 sec\ttotal: 55.3s\tremaining: 8m 6s\n",
      "51:\tlearn 0.1357186358passed: 0.262 sec\ttotal: 55.6s\tremaining: 7m 58s\n",
      "52:\tlearn 0.1353140689passed: 0.268 sec\ttotal: 55.8s\tremaining: 7m 50s\n",
      "53:\tlearn 0.1349493104passed: 0.265 sec\ttotal: 56.1s\tremaining: 7m 43s\n",
      "54:\tlearn 0.1345491976passed: 0.277 sec\ttotal: 56.4s\tremaining: 7m 36s\n",
      "55:\tlearn 0.1340912731passed: 0.276 sec\ttotal: 56.6s\tremaining: 7m 29s\n",
      "56:\tlearn 0.1337357863passed: 0.272 sec\ttotal: 56.9s\tremaining: 7m 22s\n",
      "57:\tlearn 0.1334123227passed: 0.272 sec\ttotal: 57.2s\tremaining: 7m 15s\n",
      "58:\tlearn 0.1329093731passed: 0.273 sec\ttotal: 57.5s\tremaining: 7m 9s\n",
      "59:\tlearn 0.1325976612passed: 0.268 sec\ttotal: 57.7s\tremaining: 7m 3s\n",
      "60:\tlearn 0.1322825573passed: 0.275 sec\ttotal: 58s\tremaining: 6m 57s\n",
      "61:\tlearn 0.1319167908passed: 0.264 sec\ttotal: 58.3s\tremaining: 6m 51s\n",
      "62:\tlearn 0.1315747633passed: 0.283 sec\ttotal: 58.6s\tremaining: 6m 46s\n",
      "63:\tlearn 0.1312805934passed: 0.279 sec\ttotal: 58.8s\tremaining: 6m 40s\n",
      "64:\tlearn 0.1309752268passed: 0.274 sec\ttotal: 59.1s\tremaining: 6m 35s\n",
      "65:\tlearn 0.1305796085passed: 0.293 sec\ttotal: 59.4s\tremaining: 6m 30s\n",
      "66:\tlearn 0.1302565388passed: 0.294 sec\ttotal: 59.7s\tremaining: 6m 25s\n",
      "67:\tlearn 0.1299967104passed: 0.298 sec\ttotal: 60s\tremaining: 6m 21s\n",
      "68:\tlearn 0.1297677863passed: 0.311 sec\ttotal: 1m\tremaining: 6m 16s\n",
      "69:\tlearn 0.1294993922passed: 0.273 sec\ttotal: 1m\tremaining: 6m 12s\n",
      "70:\tlearn 0.1291630792passed: 0.295 sec\ttotal: 1m\tremaining: 6m 7s\n",
      "71:\tlearn 0.128938307passed: 0.271 sec\ttotal: 1m 1s\tremaining: 6m 3s\n",
      "72:\tlearn 0.128677184passed: 0.271 sec\ttotal: 1m 1s\tremaining: 5m 59s\n",
      "73:\tlearn 0.1284312602passed: 0.268 sec\ttotal: 1m 1s\tremaining: 5m 55s\n",
      "74:\tlearn 0.1282102018passed: 0.279 sec\ttotal: 1m 1s\tremaining: 5m 51s\n",
      "75:\tlearn 0.12795751passed: 0.285 sec\ttotal: 1m 2s\tremaining: 5m 47s\n",
      "76:\tlearn 0.1277274758passed: 0.275 sec\ttotal: 1m 2s\tremaining: 5m 43s\n",
      "77:\tlearn 0.1275221167passed: 0.271 sec\ttotal: 1m 2s\tremaining: 5m 39s\n",
      "78:\tlearn 0.1273325461passed: 0.27 sec\ttotal: 1m 3s\tremaining: 5m 36s\n",
      "79:\tlearn 0.1271340623passed: 0.262 sec\ttotal: 1m 3s\tremaining: 5m 32s\n",
      "80:\tlearn 0.1269406332passed: 0.278 sec\ttotal: 1m 3s\tremaining: 5m 29s\n",
      "81:\tlearn 0.1267418305passed: 0.275 sec\ttotal: 1m 3s\tremaining: 5m 25s\n",
      "82:\tlearn 0.1264871148passed: 0.282 sec\ttotal: 1m 4s\tremaining: 5m 22s\n",
      "83:\tlearn 0.1262711649passed: 0.271 sec\ttotal: 1m 4s\tremaining: 5m 19s\n",
      "84:\tlearn 0.126062405passed: 0.288 sec\ttotal: 1m 4s\tremaining: 5m 16s\n",
      "85:\tlearn 0.1258441181passed: 0.267 sec\ttotal: 1m 5s\tremaining: 5m 12s\n",
      "86:\tlearn 0.1256886735passed: 0.263 sec\ttotal: 1m 5s\tremaining: 5m 9s\n",
      "87:\tlearn 0.1255273363passed: 0.279 sec\ttotal: 1m 5s\tremaining: 5m 6s\n",
      "88:\tlearn 0.1253161095passed: 0.385 sec\ttotal: 1m 5s\tremaining: 5m 4s\n",
      "89:\tlearn 0.1250615114passed: 0.347 sec\ttotal: 1m 6s\tremaining: 5m 1s\n",
      "90:\tlearn 0.1248812386passed: 0.281 sec\ttotal: 1m 6s\tremaining: 4m 59s\n",
      "91:\tlearn 0.1246572715passed: 0.267 sec\ttotal: 1m 6s\tremaining: 4m 56s\n",
      "92:\tlearn 0.1245139577passed: 0.351 sec\ttotal: 1m 7s\tremaining: 4m 54s\n",
      "93:\tlearn 0.1243478417passed: 0.276 sec\ttotal: 1m 7s\tremaining: 4m 51s\n",
      "94:\tlearn 0.1242111806passed: 0.267 sec\ttotal: 1m 7s\tremaining: 4m 48s\n",
      "95:\tlearn 0.1239976845passed: 0.301 sec\ttotal: 1m 8s\tremaining: 4m 46s\n",
      "96:\tlearn 0.1238480727passed: 0.28 sec\ttotal: 1m 8s\tremaining: 4m 43s\n",
      "97:\tlearn 0.1236768927passed: 0.277 sec\ttotal: 1m 8s\tremaining: 4m 41s\n",
      "98:\tlearn 0.1235292755passed: 0.272 sec\ttotal: 1m 8s\tremaining: 4m 38s\n",
      "99:\tlearn 0.1234111479passed: 0.285 sec\ttotal: 1m 9s\tremaining: 4m 36s\n",
      "100:\tlearn 0.1232725178passed: 0.276 sec\ttotal: 1m 9s\tremaining: 4m 34s\n",
      "101:\tlearn 0.1231452488passed: 0.273 sec\ttotal: 1m 9s\tremaining: 4m 31s\n",
      "102:\tlearn 0.123008463passed: 0.261 sec\ttotal: 1m 9s\tremaining: 4m 29s\n",
      "103:\tlearn 0.1228440256passed: 0.277 sec\ttotal: 1m 10s\tremaining: 4m 27s\n",
      "104:\tlearn 0.1227285887passed: 0.273 sec\ttotal: 1m 10s\tremaining: 4m 25s\n",
      "105:\tlearn 0.1225868172passed: 0.275 sec\ttotal: 1m 10s\tremaining: 4m 23s\n",
      "106:\tlearn 0.1224739172passed: 0.271 sec\ttotal: 1m 11s\tremaining: 4m 20s\n",
      "107:\tlearn 0.1223660364passed: 0.261 sec\ttotal: 1m 11s\tremaining: 4m 18s\n",
      "108:\tlearn 0.1222561578passed: 0.273 sec\ttotal: 1m 11s\tremaining: 4m 16s\n",
      "109:\tlearn 0.1221405764passed: 0.257 sec\ttotal: 1m 11s\tremaining: 4m 14s\n",
      "110:\tlearn 0.12203249passed: 0.27 sec\ttotal: 1m 12s\tremaining: 4m 12s\n",
      "111:\tlearn 0.1219267824passed: 0.274 sec\ttotal: 1m 12s\tremaining: 4m 10s\n",
      "112:\tlearn 0.1218015736passed: 0.282 sec\ttotal: 1m 12s\tremaining: 4m 8s\n",
      "113:\tlearn 0.1216471797passed: 0.266 sec\ttotal: 1m 12s\tremaining: 4m 6s\n",
      "114:\tlearn 0.1215478962passed: 0.273 sec\ttotal: 1m 13s\tremaining: 4m 5s\n",
      "115:\tlearn 0.1214499107passed: 0.28 sec\ttotal: 1m 13s\tremaining: 4m 3s\n"
     ]
    },
    {
     "name": "stdout",
     "output_type": "stream",
     "text": [
      "116:\tlearn 0.1213410603passed: 0.281 sec\ttotal: 1m 13s\tremaining: 4m 1s\n",
      "117:\tlearn 0.1212146982passed: 0.28 sec\ttotal: 1m 14s\tremaining: 3m 59s\n",
      "118:\tlearn 0.1211218194passed: 0.29 sec\ttotal: 1m 14s\tremaining: 3m 58s\n",
      "119:\tlearn 0.1210180858passed: 0.296 sec\ttotal: 1m 14s\tremaining: 3m 56s\n",
      "120:\tlearn 0.1208966982passed: 0.28 sec\ttotal: 1m 14s\tremaining: 3m 54s\n",
      "121:\tlearn 0.1208024473passed: 0.281 sec\ttotal: 1m 15s\tremaining: 3m 53s\n",
      "122:\tlearn 0.1207086752passed: 0.294 sec\ttotal: 1m 15s\tremaining: 3m 51s\n",
      "123:\tlearn 0.120616718passed: 0.266 sec\ttotal: 1m 15s\tremaining: 3m 49s\n",
      "124:\tlearn 0.12050743passed: 0.267 sec\ttotal: 1m 16s\tremaining: 3m 48s\n",
      "125:\tlearn 0.1204115431passed: 0.255 sec\ttotal: 1m 16s\tremaining: 3m 46s\n",
      "126:\tlearn 0.1202602013passed: 0.272 sec\ttotal: 1m 16s\tremaining: 3m 44s\n",
      "127:\tlearn 0.1201669071passed: 0.27 sec\ttotal: 1m 16s\tremaining: 3m 43s\n",
      "128:\tlearn 0.1200329043passed: 0.275 sec\ttotal: 1m 17s\tremaining: 3m 41s\n",
      "129:\tlearn 0.1199182484passed: 0.274 sec\ttotal: 1m 17s\tremaining: 3m 40s\n",
      "130:\tlearn 0.119794967passed: 0.26 sec\ttotal: 1m 17s\tremaining: 3m 38s\n",
      "131:\tlearn 0.1196852131passed: 0.261 sec\ttotal: 1m 17s\tremaining: 3m 37s\n",
      "132:\tlearn 0.1196151411passed: 0.256 sec\ttotal: 1m 18s\tremaining: 3m 35s\n",
      "133:\tlearn 0.1195425265passed: 0.265 sec\ttotal: 1m 18s\tremaining: 3m 34s\n",
      "134:\tlearn 0.1194662344passed: 0.273 sec\ttotal: 1m 18s\tremaining: 3m 32s\n",
      "135:\tlearn 0.1193256259passed: 0.264 sec\ttotal: 1m 18s\tremaining: 3m 31s\n",
      "136:\tlearn 0.1192396708passed: 0.279 sec\ttotal: 1m 19s\tremaining: 3m 29s\n",
      "137:\tlearn 0.1191684968passed: 0.263 sec\ttotal: 1m 19s\tremaining: 3m 28s\n",
      "138:\tlearn 0.1190881644passed: 0.254 sec\ttotal: 1m 19s\tremaining: 3m 27s\n",
      "139:\tlearn 0.1190271375passed: 0.274 sec\ttotal: 1m 20s\tremaining: 3m 25s\n",
      "140:\tlearn 0.118846703passed: 0.264 sec\ttotal: 1m 20s\tremaining: 3m 24s\n",
      "141:\tlearn 0.1187686436passed: 0.275 sec\ttotal: 1m 20s\tremaining: 3m 23s\n",
      "142:\tlearn 0.1186809899passed: 0.301 sec\ttotal: 1m 20s\tremaining: 3m 21s\n",
      "143:\tlearn 0.11861662passed: 0.41 sec\ttotal: 1m 21s\tremaining: 3m 21s\n",
      "144:\tlearn 0.1185418599passed: 0.283 sec\ttotal: 1m 21s\tremaining: 3m 19s\n",
      "145:\tlearn 0.1184599497passed: 0.276 sec\ttotal: 1m 21s\tremaining: 3m 18s\n",
      "146:\tlearn 0.1183757237passed: 0.277 sec\ttotal: 1m 22s\tremaining: 3m 17s\n",
      "147:\tlearn 0.1182602417passed: 0.268 sec\ttotal: 1m 22s\tremaining: 3m 16s\n",
      "148:\tlearn 0.1181838801passed: 0.279 sec\ttotal: 1m 22s\tremaining: 3m 14s\n",
      "149:\tlearn 0.1180965076passed: 0.286 sec\ttotal: 1m 22s\tremaining: 3m 13s\n",
      "150:\tlearn 0.1180425657passed: 0.265 sec\ttotal: 1m 23s\tremaining: 3m 12s\n",
      "151:\tlearn 0.1179492578passed: 0.293 sec\ttotal: 1m 23s\tremaining: 3m 11s\n",
      "152:\tlearn 0.1178703562passed: 0.283 sec\ttotal: 1m 23s\tremaining: 3m 10s\n",
      "153:\tlearn 0.1178123443passed: 0.272 sec\ttotal: 1m 24s\tremaining: 3m 8s\n",
      "154:\tlearn 0.1177481048passed: 0.278 sec\ttotal: 1m 24s\tremaining: 3m 7s\n",
      "155:\tlearn 0.1176935479passed: 0.275 sec\ttotal: 1m 24s\tremaining: 3m 6s\n",
      "156:\tlearn 0.117627295passed: 0.283 sec\ttotal: 1m 24s\tremaining: 3m 5s\n",
      "157:\tlearn 0.1175401571passed: 0.277 sec\ttotal: 1m 25s\tremaining: 3m 4s\n",
      "158:\tlearn 0.1174840973passed: 0.279 sec\ttotal: 1m 25s\tremaining: 3m 3s\n",
      "159:\tlearn 0.1174104405passed: 0.285 sec\ttotal: 1m 25s\tremaining: 3m 2s\n",
      "160:\tlearn 0.1173532771passed: 0.274 sec\ttotal: 1m 26s\tremaining: 3m 1s\n",
      "161:\tlearn 0.1173060076passed: 0.279 sec\ttotal: 1m 26s\tremaining: 3m\n",
      "162:\tlearn 0.1172490623passed: 0.286 sec\ttotal: 1m 26s\tremaining: 2m 59s\n",
      "163:\tlearn 0.1171632954passed: 0.283 sec\ttotal: 1m 26s\tremaining: 2m 58s\n",
      "164:\tlearn 0.1171131807passed: 0.304 sec\ttotal: 1m 27s\tremaining: 2m 57s\n",
      "165:\tlearn 0.1170548247passed: 0.316 sec\ttotal: 1m 27s\tremaining: 2m 56s\n",
      "166:\tlearn 0.1169937626passed: 0.29 sec\ttotal: 1m 27s\tremaining: 2m 55s\n",
      "167:\tlearn 0.1169220282passed: 0.29 sec\ttotal: 1m 28s\tremaining: 2m 54s\n",
      "168:\tlearn 0.1168678997passed: 0.278 sec\ttotal: 1m 28s\tremaining: 2m 53s\n",
      "169:\tlearn 0.116776882passed: 0.286 sec\ttotal: 1m 28s\tremaining: 2m 52s\n",
      "170:\tlearn 0.1166767566passed: 0.277 sec\ttotal: 1m 28s\tremaining: 2m 51s\n",
      "171:\tlearn 0.1165941465passed: 0.265 sec\ttotal: 1m 29s\tremaining: 2m 50s\n",
      "172:\tlearn 0.1165276849passed: 0.271 sec\ttotal: 1m 29s\tremaining: 2m 49s\n",
      "173:\tlearn 0.1164617187passed: 0.278 sec\ttotal: 1m 29s\tremaining: 2m 48s\n",
      "174:\tlearn 0.1164022946passed: 0.272 sec\ttotal: 1m 30s\tremaining: 2m 47s\n",
      "175:\tlearn 0.1163000442passed: 0.266 sec\ttotal: 1m 30s\tremaining: 2m 46s\n",
      "176:\tlearn 0.1162401077passed: 0.265 sec\ttotal: 1m 30s\tremaining: 2m 45s\n",
      "177:\tlearn 0.1161496917passed: 0.275 sec\ttotal: 1m 30s\tremaining: 2m 44s\n",
      "178:\tlearn 0.1161089752passed: 0.28 sec\ttotal: 1m 31s\tremaining: 2m 43s\n",
      "179:\tlearn 0.1160509379passed: 0.278 sec\ttotal: 1m 31s\tremaining: 2m 42s\n",
      "180:\tlearn 0.1159864737passed: 0.288 sec\ttotal: 1m 31s\tremaining: 2m 41s\n",
      "181:\tlearn 0.1159313129passed: 0.339 sec\ttotal: 1m 32s\tremaining: 2m 40s\n",
      "182:\tlearn 0.1158647023passed: 0.31 sec\ttotal: 1m 32s\tremaining: 2m 39s\n",
      "183:\tlearn 0.1158228119passed: 0.285 sec\ttotal: 1m 32s\tremaining: 2m 39s\n",
      "184:\tlearn 0.1156918416passed: 0.272 sec\ttotal: 1m 32s\tremaining: 2m 38s\n",
      "185:\tlearn 0.1156226122passed: 0.273 sec\ttotal: 1m 33s\tremaining: 2m 37s\n",
      "186:\tlearn 0.1155472026passed: 0.27 sec\ttotal: 1m 33s\tremaining: 2m 36s\n",
      "187:\tlearn 0.1155023016passed: 0.274 sec\ttotal: 1m 33s\tremaining: 2m 35s\n",
      "188:\tlearn 0.1154508903passed: 0.271 sec\ttotal: 1m 33s\tremaining: 2m 34s\n",
      "189:\tlearn 0.1153953943passed: 0.271 sec\ttotal: 1m 34s\tremaining: 2m 33s\n",
      "190:\tlearn 0.1153544338passed: 0.272 sec\ttotal: 1m 34s\tremaining: 2m 32s\n",
      "191:\tlearn 0.1152837613passed: 0.273 sec\ttotal: 1m 34s\tremaining: 2m 32s\n",
      "192:\tlearn 0.1152397149passed: 0.27 sec\ttotal: 1m 35s\tremaining: 2m 31s\n",
      "193:\tlearn 0.1151777043passed: 0.275 sec\ttotal: 1m 35s\tremaining: 2m 30s\n",
      "194:\tlearn 0.1151269631passed: 0.282 sec\ttotal: 1m 35s\tremaining: 2m 29s\n",
      "195:\tlearn 0.1150737692passed: 0.274 sec\ttotal: 1m 35s\tremaining: 2m 28s\n",
      "196:\tlearn 0.1150345961passed: 0.276 sec\ttotal: 1m 36s\tremaining: 2m 27s\n",
      "197:\tlearn 0.114999858passed: 0.276 sec\ttotal: 1m 36s\tremaining: 2m 27s\n",
      "198:\tlearn 0.1149077671passed: 0.282 sec\ttotal: 1m 36s\tremaining: 2m 26s\n",
      "199:\tlearn 0.1148447589passed: 0.306 sec\ttotal: 1m 37s\tremaining: 2m 25s\n",
      "200:\tlearn 0.1147995218passed: 0.279 sec\ttotal: 1m 37s\tremaining: 2m 24s\n",
      "201:\tlearn 0.1147538403passed: 0.28 sec\ttotal: 1m 37s\tremaining: 2m 24s\n",
      "202:\tlearn 0.1146681803passed: 0.322 sec\ttotal: 1m 37s\tremaining: 2m 23s\n",
      "203:\tlearn 0.1146218103passed: 0.278 sec\ttotal: 1m 38s\tremaining: 2m 22s\n",
      "204:\tlearn 0.1145130427passed: 0.275 sec\ttotal: 1m 38s\tremaining: 2m 21s\n",
      "205:\tlearn 0.1144804996passed: 0.276 sec\ttotal: 1m 38s\tremaining: 2m 20s\n",
      "206:\tlearn 0.1144341702passed: 0.271 sec\ttotal: 1m 39s\tremaining: 2m 20s\n",
      "207:\tlearn 0.11440029passed: 0.292 sec\ttotal: 1m 39s\tremaining: 2m 19s\n",
      "208:\tlearn 0.1143146855passed: 0.287 sec\ttotal: 1m 39s\tremaining: 2m 18s\n",
      "209:\tlearn 0.1142758592passed: 0.284 sec\ttotal: 1m 39s\tremaining: 2m 17s\n",
      "210:\tlearn 0.114229747passed: 0.269 sec\ttotal: 1m 40s\tremaining: 2m 17s\n",
      "211:\tlearn 0.1141928731passed: 0.272 sec\ttotal: 1m 40s\tremaining: 2m 16s\n",
      "212:\tlearn 0.1141605636passed: 0.283 sec\ttotal: 1m 40s\tremaining: 2m 15s\n",
      "213:\tlearn 0.1141190034passed: 0.275 sec\ttotal: 1m 41s\tremaining: 2m 15s\n",
      "214:\tlearn 0.1140853179passed: 0.277 sec\ttotal: 1m 41s\tremaining: 2m 14s\n",
      "215:\tlearn 0.1140455594passed: 0.273 sec\ttotal: 1m 41s\tremaining: 2m 13s\n",
      "216:\tlearn 0.1140105946passed: 0.268 sec\ttotal: 1m 41s\tremaining: 2m 12s\n",
      "217:\tlearn 0.1139628002passed: 0.281 sec\ttotal: 1m 42s\tremaining: 2m 12s\n",
      "218:\tlearn 0.1139241553passed: 0.276 sec\ttotal: 1m 42s\tremaining: 2m 11s\n",
      "219:\tlearn 0.1138628243passed: 0.281 sec\ttotal: 1m 42s\tremaining: 2m 10s\n",
      "220:\tlearn 0.1138243444passed: 0.26 sec\ttotal: 1m 42s\tremaining: 2m 9s\n",
      "221:\tlearn 0.1137940261passed: 0.263 sec\ttotal: 1m 43s\tremaining: 2m 9s\n",
      "222:\tlearn 0.1137585974passed: 0.282 sec\ttotal: 1m 43s\tremaining: 2m 8s\n",
      "223:\tlearn 0.1137282457passed: 0.274 sec\ttotal: 1m 43s\tremaining: 2m 7s\n",
      "224:\tlearn 0.1136972242passed: 0.263 sec\ttotal: 1m 44s\tremaining: 2m 7s\n",
      "225:\tlearn 0.113661617passed: 0.27 sec\ttotal: 1m 44s\tremaining: 2m 6s\n",
      "226:\tlearn 0.1136181368passed: 0.284 sec\ttotal: 1m 44s\tremaining: 2m 5s\n",
      "227:\tlearn 0.1135738869passed: 0.286 sec\ttotal: 1m 44s\tremaining: 2m 5s\n",
      "228:\tlearn 0.1135371779passed: 0.29 sec\ttotal: 1m 45s\tremaining: 2m 4s\n"
     ]
    },
    {
     "name": "stdout",
     "output_type": "stream",
     "text": [
      "229:\tlearn 0.1135008013passed: 0.276 sec\ttotal: 1m 45s\tremaining: 2m 3s\n",
      "230:\tlearn 0.1134687258passed: 0.275 sec\ttotal: 1m 45s\tremaining: 2m 3s\n",
      "231:\tlearn 0.1134394071passed: 0.265 sec\ttotal: 1m 45s\tremaining: 2m 2s\n",
      "232:\tlearn 0.1133884457passed: 0.323 sec\ttotal: 1m 46s\tremaining: 2m 1s\n",
      "233:\tlearn 0.1133151682passed: 0.325 sec\ttotal: 1m 46s\tremaining: 2m 1s\n",
      "234:\tlearn 0.1132827202passed: 0.291 sec\ttotal: 1m 46s\tremaining: 2m\n",
      "235:\tlearn 0.113244041passed: 0.314 sec\ttotal: 1m 47s\tremaining: 1m 59s\n",
      "236:\tlearn 0.1132188527passed: 0.322 sec\ttotal: 1m 47s\tremaining: 1m 59s\n",
      "237:\tlearn 0.1131814228passed: 0.264 sec\ttotal: 1m 47s\tremaining: 1m 58s\n",
      "238:\tlearn 0.1131444562passed: 0.305 sec\ttotal: 1m 48s\tremaining: 1m 58s\n",
      "239:\tlearn 0.113105159passed: 0.276 sec\ttotal: 1m 48s\tremaining: 1m 57s\n",
      "240:\tlearn 0.1130615547passed: 0.283 sec\ttotal: 1m 48s\tremaining: 1m 56s\n",
      "241:\tlearn 0.1130308524passed: 0.274 sec\ttotal: 1m 48s\tremaining: 1m 56s\n",
      "242:\tlearn 0.1129811658passed: 0.276 sec\ttotal: 1m 49s\tremaining: 1m 55s\n",
      "243:\tlearn 0.1129484166passed: 0.269 sec\ttotal: 1m 49s\tremaining: 1m 54s\n",
      "244:\tlearn 0.1129188299passed: 0.283 sec\ttotal: 1m 49s\tremaining: 1m 54s\n",
      "245:\tlearn 0.1128916788passed: 0.286 sec\ttotal: 1m 50s\tremaining: 1m 53s\n",
      "246:\tlearn 0.1127841105passed: 0.273 sec\ttotal: 1m 50s\tremaining: 1m 53s\n",
      "247:\tlearn 0.1127542719passed: 0.272 sec\ttotal: 1m 50s\tremaining: 1m 52s\n",
      "248:\tlearn 0.1127180018passed: 0.273 sec\ttotal: 1m 50s\tremaining: 1m 51s\n",
      "249:\tlearn 0.1126886956passed: 0.273 sec\ttotal: 1m 51s\tremaining: 1m 51s\n",
      "250:\tlearn 0.1126618717passed: 0.281 sec\ttotal: 1m 51s\tremaining: 1m 50s\n",
      "251:\tlearn 0.1126348518passed: 0.28 sec\ttotal: 1m 51s\tremaining: 1m 49s\n",
      "252:\tlearn 0.1126061097passed: 0.273 sec\ttotal: 1m 52s\tremaining: 1m 49s\n",
      "253:\tlearn 0.1125773541passed: 0.275 sec\ttotal: 1m 52s\tremaining: 1m 48s\n",
      "254:\tlearn 0.1125490974passed: 0.278 sec\ttotal: 1m 52s\tremaining: 1m 48s\n",
      "255:\tlearn 0.1125229419passed: 0.269 sec\ttotal: 1m 52s\tremaining: 1m 47s\n",
      "256:\tlearn 0.1125006194passed: 0.285 sec\ttotal: 1m 53s\tremaining: 1m 46s\n",
      "257:\tlearn 0.1124508064passed: 0.273 sec\ttotal: 1m 53s\tremaining: 1m 46s\n",
      "258:\tlearn 0.1124125208passed: 0.273 sec\ttotal: 1m 53s\tremaining: 1m 45s\n",
      "259:\tlearn 0.1123602359passed: 0.271 sec\ttotal: 1m 53s\tremaining: 1m 45s\n",
      "260:\tlearn 0.1123054857passed: 0.285 sec\ttotal: 1m 54s\tremaining: 1m 44s\n",
      "261:\tlearn 0.1122722156passed: 0.275 sec\ttotal: 1m 54s\tremaining: 1m 44s\n",
      "262:\tlearn 0.1122357342passed: 0.327 sec\ttotal: 1m 54s\tremaining: 1m 43s\n",
      "263:\tlearn 0.1122133012passed: 0.292 sec\ttotal: 1m 55s\tremaining: 1m 42s\n",
      "264:\tlearn 0.1121789401passed: 0.273 sec\ttotal: 1m 55s\tremaining: 1m 42s\n",
      "265:\tlearn 0.1121322316passed: 0.29 sec\ttotal: 1m 55s\tremaining: 1m 41s\n",
      "266:\tlearn 0.1120853765passed: 0.276 sec\ttotal: 1m 55s\tremaining: 1m 41s\n",
      "267:\tlearn 0.1120569107passed: 0.276 sec\ttotal: 1m 56s\tremaining: 1m 40s\n",
      "268:\tlearn 0.1119501718passed: 0.264 sec\ttotal: 1m 56s\tremaining: 1m 40s\n",
      "269:\tlearn 0.1119308428passed: 0.277 sec\ttotal: 1m 56s\tremaining: 1m 39s\n",
      "270:\tlearn 0.1119074219passed: 0.276 sec\ttotal: 1m 57s\tremaining: 1m 38s\n",
      "271:\tlearn 0.1118658357passed: 0.266 sec\ttotal: 1m 57s\tremaining: 1m 38s\n",
      "272:\tlearn 0.1118201582passed: 0.273 sec\ttotal: 1m 57s\tremaining: 1m 37s\n",
      "273:\tlearn 0.111746045passed: 0.274 sec\ttotal: 1m 57s\tremaining: 1m 37s\n",
      "274:\tlearn 0.1116880141passed: 0.274 sec\ttotal: 1m 58s\tremaining: 1m 36s\n",
      "275:\tlearn 0.1116268712passed: 0.264 sec\ttotal: 1m 58s\tremaining: 1m 36s\n",
      "276:\tlearn 0.1115996567passed: 0.288 sec\ttotal: 1m 58s\tremaining: 1m 35s\n",
      "277:\tlearn 0.111572781passed: 0.289 sec\ttotal: 1m 58s\tremaining: 1m 35s\n",
      "278:\tlearn 0.1115402484passed: 0.295 sec\ttotal: 1m 59s\tremaining: 1m 34s\n",
      "279:\tlearn 0.1114723785passed: 0.289 sec\ttotal: 1m 59s\tremaining: 1m 33s\n",
      "280:\tlearn 0.1114262476passed: 0.277 sec\ttotal: 1m 59s\tremaining: 1m 33s\n",
      "281:\tlearn 0.1113939936passed: 0.278 sec\ttotal: 2m\tremaining: 1m 32s\n",
      "282:\tlearn 0.1113719629passed: 0.268 sec\ttotal: 2m\tremaining: 1m 32s\n",
      "283:\tlearn 0.111346165passed: 0.275 sec\ttotal: 2m\tremaining: 1m 31s\n",
      "284:\tlearn 0.1113227127passed: 0.263 sec\ttotal: 2m\tremaining: 1m 31s\n",
      "285:\tlearn 0.1113032692passed: 0.295 sec\ttotal: 2m 1s\tremaining: 1m 30s\n",
      "286:\tlearn 0.1112780665passed: 0.291 sec\ttotal: 2m 1s\tremaining: 1m 30s\n",
      "287:\tlearn 0.1112488314passed: 0.282 sec\ttotal: 2m 1s\tremaining: 1m 29s\n",
      "288:\tlearn 0.1112280403passed: 0.321 sec\ttotal: 2m 2s\tremaining: 1m 29s\n",
      "289:\tlearn 0.1112078295passed: 0.313 sec\ttotal: 2m 2s\tremaining: 1m 28s\n",
      "290:\tlearn 0.1111801815passed: 0.29 sec\ttotal: 2m 2s\tremaining: 1m 28s\n",
      "291:\tlearn 0.1111563814passed: 0.278 sec\ttotal: 2m 3s\tremaining: 1m 27s\n",
      "292:\tlearn 0.1111005839passed: 0.281 sec\ttotal: 2m 3s\tremaining: 1m 27s\n",
      "293:\tlearn 0.111069538passed: 0.279 sec\ttotal: 2m 3s\tremaining: 1m 26s\n",
      "294:\tlearn 0.1110477059passed: 0.3 sec\ttotal: 2m 3s\tremaining: 1m 26s\n",
      "295:\tlearn 0.1110295172passed: 0.275 sec\ttotal: 2m 4s\tremaining: 1m 25s\n",
      "296:\tlearn 0.110999355passed: 0.265 sec\ttotal: 2m 4s\tremaining: 1m 25s\n",
      "297:\tlearn 0.1109766795passed: 0.276 sec\ttotal: 2m 4s\tremaining: 1m 24s\n",
      "298:\tlearn 0.1109529538passed: 0.266 sec\ttotal: 2m 4s\tremaining: 1m 24s\n",
      "299:\tlearn 0.1109196708passed: 0.271 sec\ttotal: 2m 5s\tremaining: 1m 23s\n",
      "300:\tlearn 0.110891908passed: 0.276 sec\ttotal: 2m 5s\tremaining: 1m 22s\n",
      "301:\tlearn 0.1108245062passed: 0.272 sec\ttotal: 2m 5s\tremaining: 1m 22s\n",
      "302:\tlearn 0.1107984781passed: 0.259 sec\ttotal: 2m 6s\tremaining: 1m 21s\n",
      "303:\tlearn 0.1107755223passed: 0.274 sec\ttotal: 2m 6s\tremaining: 1m 21s\n",
      "304:\tlearn 0.1107444094passed: 0.27 sec\ttotal: 2m 6s\tremaining: 1m 20s\n",
      "305:\tlearn 0.110723277passed: 0.275 sec\ttotal: 2m 6s\tremaining: 1m 20s\n",
      "306:\tlearn 0.1106983774passed: 0.273 sec\ttotal: 2m 7s\tremaining: 1m 19s\n",
      "307:\tlearn 0.1106587611passed: 0.306 sec\ttotal: 2m 7s\tremaining: 1m 19s\n",
      "308:\tlearn 0.1106364584passed: 0.29 sec\ttotal: 2m 7s\tremaining: 1m 18s\n",
      "309:\tlearn 0.1106087358passed: 0.281 sec\ttotal: 2m 8s\tremaining: 1m 18s\n",
      "310:\tlearn 0.1105854067passed: 0.32 sec\ttotal: 2m 8s\tremaining: 1m 17s\n",
      "311:\tlearn 0.1105465515passed: 0.283 sec\ttotal: 2m 8s\tremaining: 1m 17s\n",
      "312:\tlearn 0.1105058156passed: 0.268 sec\ttotal: 2m 8s\tremaining: 1m 17s\n",
      "313:\tlearn 0.1104472934passed: 0.271 sec\ttotal: 2m 9s\tremaining: 1m 16s\n",
      "314:\tlearn 0.1104242418passed: 0.28 sec\ttotal: 2m 9s\tremaining: 1m 16s\n",
      "315:\tlearn 0.1104030034passed: 0.259 sec\ttotal: 2m 9s\tremaining: 1m 15s\n",
      "316:\tlearn 0.110377658passed: 0.254 sec\ttotal: 2m 9s\tremaining: 1m 15s\n",
      "317:\tlearn 0.1103417866passed: 0.289 sec\ttotal: 2m 10s\tremaining: 1m 14s\n",
      "318:\tlearn 0.1103160946passed: 0.265 sec\ttotal: 2m 10s\tremaining: 1m 14s\n",
      "319:\tlearn 0.1102966356passed: 0.267 sec\ttotal: 2m 10s\tremaining: 1m 13s\n",
      "320:\tlearn 0.1102456949passed: 0.282 sec\ttotal: 2m 11s\tremaining: 1m 13s\n",
      "321:\tlearn 0.1102152019passed: 0.263 sec\ttotal: 2m 11s\tremaining: 1m 12s\n",
      "322:\tlearn 0.1101842833passed: 0.282 sec\ttotal: 2m 11s\tremaining: 1m 12s\n",
      "323:\tlearn 0.1101641235passed: 0.269 sec\ttotal: 2m 11s\tremaining: 1m 11s\n",
      "324:\tlearn 0.1101463783passed: 0.266 sec\ttotal: 2m 12s\tremaining: 1m 11s\n",
      "325:\tlearn 0.1101250313passed: 0.27 sec\ttotal: 2m 12s\tremaining: 1m 10s\n",
      "326:\tlearn 0.1101009748passed: 0.268 sec\ttotal: 2m 12s\tremaining: 1m 10s\n",
      "327:\tlearn 0.110068065passed: 0.266 sec\ttotal: 2m 12s\tremaining: 1m 9s\n",
      "328:\tlearn 0.1100283668passed: 0.272 sec\ttotal: 2m 13s\tremaining: 1m 9s\n",
      "329:\tlearn 0.1099530758passed: 0.276 sec\ttotal: 2m 13s\tremaining: 1m 8s\n",
      "330:\tlearn 0.109932709passed: 0.274 sec\ttotal: 2m 13s\tremaining: 1m 8s\n",
      "331:\tlearn 0.1099059428passed: 0.273 sec\ttotal: 2m 14s\tremaining: 1m 7s\n",
      "332:\tlearn 0.1098878382passed: 0.268 sec\ttotal: 2m 14s\tremaining: 1m 7s\n",
      "333:\tlearn 0.1098684507passed: 0.269 sec\ttotal: 2m 14s\tremaining: 1m 6s\n",
      "334:\tlearn 0.1098379939passed: 0.28 sec\ttotal: 2m 14s\tremaining: 1m 6s\n",
      "335:\tlearn 0.1097721908passed: 0.261 sec\ttotal: 2m 15s\tremaining: 1m 5s\n",
      "336:\tlearn 0.1097516693passed: 0.265 sec\ttotal: 2m 15s\tremaining: 1m 5s\n",
      "337:\tlearn 0.1097329273passed: 0.272 sec\ttotal: 2m 15s\tremaining: 1m 5s\n",
      "338:\tlearn 0.1097023629passed: 0.267 sec\ttotal: 2m 15s\tremaining: 1m 4s\n",
      "339:\tlearn 0.1096782984passed: 0.27 sec\ttotal: 2m 16s\tremaining: 1m 4s\n",
      "340:\tlearn 0.1096302142passed: 0.262 sec\ttotal: 2m 16s\tremaining: 1m 3s\n",
      "341:\tlearn 0.1096064785passed: 0.257 sec\ttotal: 2m 16s\tremaining: 1m 3s\n",
      "342:\tlearn 0.1095887337passed: 0.261 sec\ttotal: 2m 16s\tremaining: 1m 2s\n"
     ]
    },
    {
     "name": "stdout",
     "output_type": "stream",
     "text": [
      "343:\tlearn 0.1095610229passed: 0.266 sec\ttotal: 2m 17s\tremaining: 1m 2s\n",
      "344:\tlearn 0.1095372449passed: 0.267 sec\ttotal: 2m 17s\tremaining: 1m 1s\n",
      "345:\tlearn 0.1095107403passed: 0.271 sec\ttotal: 2m 17s\tremaining: 1m 1s\n",
      "346:\tlearn 0.1094750788passed: 0.269 sec\ttotal: 2m 18s\tremaining: 1m\n",
      "347:\tlearn 0.1094633461passed: 0.266 sec\ttotal: 2m 18s\tremaining: 1m\n",
      "348:\tlearn 0.109415882passed: 0.271 sec\ttotal: 2m 18s\tremaining: 60s\n",
      "349:\tlearn 0.1093734577passed: 0.261 sec\ttotal: 2m 18s\tremaining: 59.5s\n",
      "350:\tlearn 0.1093377634passed: 0.263 sec\ttotal: 2m 19s\tremaining: 59.1s\n",
      "351:\tlearn 0.1093022755passed: 0.269 sec\ttotal: 2m 19s\tremaining: 58.6s\n",
      "352:\tlearn 0.1092769222passed: 0.273 sec\ttotal: 2m 19s\tremaining: 58.2s\n",
      "353:\tlearn 0.109253526passed: 0.277 sec\ttotal: 2m 19s\tremaining: 57.7s\n",
      "354:\tlearn 0.1092373991passed: 0.269 sec\ttotal: 2m 20s\tremaining: 57.3s\n",
      "355:\tlearn 0.1092079953passed: 0.266 sec\ttotal: 2m 20s\tremaining: 56.8s\n",
      "356:\tlearn 0.1091819043passed: 0.269 sec\ttotal: 2m 20s\tremaining: 56.4s\n",
      "357:\tlearn 0.109144514passed: 0.271 sec\ttotal: 2m 21s\tremaining: 55.9s\n",
      "358:\tlearn 0.1091171178passed: 0.274 sec\ttotal: 2m 21s\tremaining: 55.5s\n",
      "359:\tlearn 0.1090994944passed: 0.254 sec\ttotal: 2m 21s\tremaining: 55.1s\n",
      "360:\tlearn 0.1090830213passed: 0.276 sec\ttotal: 2m 21s\tremaining: 54.6s\n",
      "361:\tlearn 0.1090573373passed: 0.28 sec\ttotal: 2m 22s\tremaining: 54.2s\n",
      "362:\tlearn 0.1090185185passed: 0.275 sec\ttotal: 2m 22s\tremaining: 53.7s\n",
      "363:\tlearn 0.1090038418passed: 0.263 sec\ttotal: 2m 22s\tremaining: 53.3s\n",
      "364:\tlearn 0.1089521841passed: 0.26 sec\ttotal: 2m 22s\tremaining: 52.9s\n",
      "365:\tlearn 0.1089354438passed: 0.285 sec\ttotal: 2m 23s\tremaining: 52.4s\n",
      "366:\tlearn 0.1089181749passed: 0.278 sec\ttotal: 2m 23s\tremaining: 52s\n",
      "367:\tlearn 0.1089003787passed: 0.28 sec\ttotal: 2m 23s\tremaining: 51.6s\n",
      "368:\tlearn 0.1088866833passed: 0.27 sec\ttotal: 2m 24s\tremaining: 51.1s\n",
      "369:\tlearn 0.1088707136passed: 0.281 sec\ttotal: 2m 24s\tremaining: 50.7s\n",
      "370:\tlearn 0.1088582394passed: 0.277 sec\ttotal: 2m 24s\tremaining: 50.3s\n",
      "371:\tlearn 0.1088436265passed: 0.282 sec\ttotal: 2m 24s\tremaining: 49.9s\n",
      "372:\tlearn 0.1087801211passed: 0.276 sec\ttotal: 2m 25s\tremaining: 49.4s\n",
      "373:\tlearn 0.1087304207passed: 0.278 sec\ttotal: 2m 25s\tremaining: 49s\n",
      "374:\tlearn 0.1087071086passed: 0.289 sec\ttotal: 2m 25s\tremaining: 48.6s\n",
      "375:\tlearn 0.1086838175passed: 0.272 sec\ttotal: 2m 26s\tremaining: 48.2s\n",
      "376:\tlearn 0.1086644357passed: 0.279 sec\ttotal: 2m 26s\tremaining: 47.7s\n",
      "377:\tlearn 0.108588961passed: 0.268 sec\ttotal: 2m 26s\tremaining: 47.3s\n",
      "378:\tlearn 0.1085695482passed: 0.283 sec\ttotal: 2m 26s\tremaining: 46.9s\n",
      "379:\tlearn 0.1085545494passed: 0.281 sec\ttotal: 2m 27s\tremaining: 46.5s\n",
      "380:\tlearn 0.1085274605passed: 0.274 sec\ttotal: 2m 27s\tremaining: 46s\n",
      "381:\tlearn 0.108497249passed: 0.296 sec\ttotal: 2m 27s\tremaining: 45.6s\n",
      "382:\tlearn 0.1084838804passed: 0.29 sec\ttotal: 2m 27s\tremaining: 45.2s\n",
      "383:\tlearn 0.1084667535passed: 0.272 sec\ttotal: 2m 28s\tremaining: 44.8s\n",
      "384:\tlearn 0.1084402508passed: 0.294 sec\ttotal: 2m 28s\tremaining: 44.4s\n",
      "385:\tlearn 0.1084245297passed: 0.284 sec\ttotal: 2m 28s\tremaining: 44s\n",
      "386:\tlearn 0.108396589passed: 0.281 sec\ttotal: 2m 29s\tremaining: 43.5s\n",
      "387:\tlearn 0.1083709531passed: 0.281 sec\ttotal: 2m 29s\tremaining: 43.1s\n",
      "388:\tlearn 0.108334709passed: 0.274 sec\ttotal: 2m 29s\tremaining: 42.7s\n",
      "389:\tlearn 0.1083152779passed: 0.265 sec\ttotal: 2m 29s\tremaining: 42.3s\n",
      "390:\tlearn 0.1082618924passed: 0.305 sec\ttotal: 2m 30s\tremaining: 41.9s\n",
      "391:\tlearn 0.1082372952passed: 0.291 sec\ttotal: 2m 30s\tremaining: 41.5s\n",
      "392:\tlearn 0.1082218816passed: 0.281 sec\ttotal: 2m 30s\tremaining: 41.1s\n",
      "393:\tlearn 0.1081864558passed: 0.274 sec\ttotal: 2m 31s\tremaining: 40.6s\n",
      "394:\tlearn 0.1081610314passed: 0.285 sec\ttotal: 2m 31s\tremaining: 40.2s\n",
      "395:\tlearn 0.1081466494passed: 0.278 sec\ttotal: 2m 31s\tremaining: 39.8s\n",
      "396:\tlearn 0.1081132137passed: 0.27 sec\ttotal: 2m 31s\tremaining: 39.4s\n",
      "397:\tlearn 0.1080941427passed: 0.288 sec\ttotal: 2m 32s\tremaining: 39s\n",
      "398:\tlearn 0.1080775852passed: 0.283 sec\ttotal: 2m 32s\tremaining: 38.6s\n",
      "399:\tlearn 0.1080639335passed: 0.266 sec\ttotal: 2m 32s\tremaining: 38.2s\n",
      "400:\tlearn 0.1080189277passed: 0.284 sec\ttotal: 2m 33s\tremaining: 37.8s\n",
      "401:\tlearn 0.1079816007passed: 0.27 sec\ttotal: 2m 33s\tremaining: 37.4s\n",
      "402:\tlearn 0.1079693463passed: 0.269 sec\ttotal: 2m 33s\tremaining: 37s\n",
      "403:\tlearn 0.1079490482passed: 0.295 sec\ttotal: 2m 33s\tremaining: 36.6s\n",
      "404:\tlearn 0.1079351003passed: 0.279 sec\ttotal: 2m 34s\tremaining: 36.2s\n",
      "405:\tlearn 0.1079217991passed: 0.269 sec\ttotal: 2m 34s\tremaining: 35.8s\n",
      "406:\tlearn 0.1079060811passed: 0.277 sec\ttotal: 2m 34s\tremaining: 35.4s\n",
      "407:\tlearn 0.1078901361passed: 0.291 sec\ttotal: 2m 35s\tremaining: 35s\n",
      "408:\tlearn 0.1078588218passed: 0.281 sec\ttotal: 2m 35s\tremaining: 34.6s\n",
      "409:\tlearn 0.1078457937passed: 0.269 sec\ttotal: 2m 35s\tremaining: 34.1s\n",
      "410:\tlearn 0.1078054946passed: 0.287 sec\ttotal: 2m 35s\tremaining: 33.7s\n",
      "411:\tlearn 0.1077644345passed: 0.27 sec\ttotal: 2m 36s\tremaining: 33.3s\n",
      "412:\tlearn 0.1077418524passed: 0.279 sec\ttotal: 2m 36s\tremaining: 32.9s\n",
      "413:\tlearn 0.1077236239passed: 0.286 sec\ttotal: 2m 36s\tremaining: 32.5s\n",
      "414:\tlearn 0.1077040088passed: 0.29 sec\ttotal: 2m 36s\tremaining: 32.2s\n",
      "415:\tlearn 0.1076815693passed: 0.278 sec\ttotal: 2m 37s\tremaining: 31.8s\n",
      "416:\tlearn 0.1076514911passed: 0.277 sec\ttotal: 2m 37s\tremaining: 31.4s\n",
      "417:\tlearn 0.1076384946passed: 0.284 sec\ttotal: 2m 37s\tremaining: 31s\n",
      "418:\tlearn 0.1076103438passed: 0.275 sec\ttotal: 2m 38s\tremaining: 30.6s\n",
      "419:\tlearn 0.1075962726passed: 0.278 sec\ttotal: 2m 38s\tremaining: 30.2s\n",
      "420:\tlearn 0.1075614735passed: 0.298 sec\ttotal: 2m 38s\tremaining: 29.8s\n",
      "421:\tlearn 0.107549141passed: 0.269 sec\ttotal: 2m 38s\tremaining: 29.4s\n",
      "422:\tlearn 0.107521486passed: 0.3 sec\ttotal: 2m 39s\tremaining: 29s\n",
      "423:\tlearn 0.1074984037passed: 0.306 sec\ttotal: 2m 39s\tremaining: 28.6s\n",
      "424:\tlearn 0.1074585519passed: 0.31 sec\ttotal: 2m 39s\tremaining: 28.2s\n",
      "425:\tlearn 0.1074456913passed: 0.302 sec\ttotal: 2m 40s\tremaining: 27.8s\n",
      "426:\tlearn 0.1074345887passed: 0.282 sec\ttotal: 2m 40s\tremaining: 27.4s\n",
      "427:\tlearn 0.1074204758passed: 0.314 sec\ttotal: 2m 40s\tremaining: 27s\n",
      "428:\tlearn 0.107401024passed: 0.295 sec\ttotal: 2m 41s\tremaining: 26.7s\n",
      "429:\tlearn 0.1073813737passed: 0.315 sec\ttotal: 2m 41s\tremaining: 26.3s\n",
      "430:\tlearn 0.1073471197passed: 0.314 sec\ttotal: 2m 41s\tremaining: 25.9s\n",
      "431:\tlearn 0.1073304352passed: 0.34 sec\ttotal: 2m 42s\tremaining: 25.5s\n",
      "432:\tlearn 0.1073138452passed: 0.306 sec\ttotal: 2m 42s\tremaining: 25.1s\n",
      "433:\tlearn 0.1072687636passed: 0.282 sec\ttotal: 2m 42s\tremaining: 24.7s\n",
      "434:\tlearn 0.1072425685passed: 0.296 sec\ttotal: 2m 42s\tremaining: 24.3s\n",
      "435:\tlearn 0.1072255978passed: 0.301 sec\ttotal: 2m 43s\tremaining: 24s\n",
      "436:\tlearn 0.1072070333passed: 0.292 sec\ttotal: 2m 43s\tremaining: 23.6s\n",
      "437:\tlearn 0.1071754946passed: 0.304 sec\ttotal: 2m 43s\tremaining: 23.2s\n",
      "438:\tlearn 0.1071588862passed: 0.323 sec\ttotal: 2m 44s\tremaining: 22.8s\n",
      "439:\tlearn 0.1071253459passed: 0.404 sec\ttotal: 2m 44s\tremaining: 22.4s\n",
      "440:\tlearn 0.1071122714passed: 0.334 sec\ttotal: 2m 44s\tremaining: 22.1s\n",
      "441:\tlearn 0.1070994496passed: 0.298 sec\ttotal: 2m 45s\tremaining: 21.7s\n",
      "442:\tlearn 0.1070878674passed: 0.271 sec\ttotal: 2m 45s\tremaining: 21.3s\n",
      "443:\tlearn 0.1070430902passed: 0.27 sec\ttotal: 2m 45s\tremaining: 20.9s\n",
      "444:\tlearn 0.1070243895passed: 0.285 sec\ttotal: 2m 46s\tremaining: 20.5s\n",
      "445:\tlearn 0.1070114513passed: 0.283 sec\ttotal: 2m 46s\tremaining: 20.1s\n",
      "446:\tlearn 0.1069897542passed: 0.28 sec\ttotal: 2m 46s\tremaining: 19.7s\n",
      "447:\tlearn 0.1069664051passed: 0.282 sec\ttotal: 2m 46s\tremaining: 19.4s\n",
      "448:\tlearn 0.1069318207passed: 0.279 sec\ttotal: 2m 47s\tremaining: 19s\n",
      "449:\tlearn 0.1068977773passed: 0.273 sec\ttotal: 2m 47s\tremaining: 18.6s\n",
      "450:\tlearn 0.1068836139passed: 0.267 sec\ttotal: 2m 47s\tremaining: 18.2s\n",
      "451:\tlearn 0.1068688313passed: 0.277 sec\ttotal: 2m 47s\tremaining: 17.8s\n",
      "452:\tlearn 0.1068224932passed: 0.32 sec\ttotal: 2m 48s\tremaining: 17.5s\n",
      "453:\tlearn 0.1067949068passed: 0.346 sec\ttotal: 2m 48s\tremaining: 17.1s\n",
      "454:\tlearn 0.1067844895passed: 0.319 sec\ttotal: 2m 48s\tremaining: 16.7s\n",
      "455:\tlearn 0.1067549343passed: 0.375 sec\ttotal: 2m 49s\tremaining: 16.3s\n",
      "456:\tlearn 0.1067365754passed: 0.277 sec\ttotal: 2m 49s\tremaining: 16s\n",
      "457:\tlearn 0.1067014248passed: 0.284 sec\ttotal: 2m 49s\tremaining: 15.6s\n"
     ]
    },
    {
     "name": "stdout",
     "output_type": "stream",
     "text": [
      "458:\tlearn 0.1066894325passed: 0.291 sec\ttotal: 2m 50s\tremaining: 15.2s\n",
      "459:\tlearn 0.1066667737passed: 0.298 sec\ttotal: 2m 50s\tremaining: 14.8s\n",
      "460:\tlearn 0.1066315229passed: 0.289 sec\ttotal: 2m 50s\tremaining: 14.4s\n",
      "461:\tlearn 0.1066032244passed: 0.301 sec\ttotal: 2m 51s\tremaining: 14.1s\n",
      "462:\tlearn 0.1065794341passed: 0.298 sec\ttotal: 2m 51s\tremaining: 13.7s\n",
      "463:\tlearn 0.1065654247passed: 0.277 sec\ttotal: 2m 51s\tremaining: 13.3s\n",
      "464:\tlearn 0.1065252508passed: 0.288 sec\ttotal: 2m 51s\tremaining: 12.9s\n",
      "465:\tlearn 0.106512636passed: 0.443 sec\ttotal: 2m 52s\tremaining: 12.6s\n",
      "466:\tlearn 0.1064835638passed: 0.293 sec\ttotal: 2m 52s\tremaining: 12.2s\n",
      "467:\tlearn 0.1064667168passed: 0.279 sec\ttotal: 2m 52s\tremaining: 11.8s\n",
      "468:\tlearn 0.1064338572passed: 0.277 sec\ttotal: 2m 53s\tremaining: 11.4s\n",
      "469:\tlearn 0.1064143262passed: 0.281 sec\ttotal: 2m 53s\tremaining: 11.1s\n",
      "470:\tlearn 0.1063959215passed: 0.273 sec\ttotal: 2m 53s\tremaining: 10.7s\n",
      "471:\tlearn 0.1063766183passed: 0.272 sec\ttotal: 2m 54s\tremaining: 10.3s\n",
      "472:\tlearn 0.1063646953passed: 0.279 sec\ttotal: 2m 54s\tremaining: 9.95s\n",
      "473:\tlearn 0.1063537411passed: 0.274 sec\ttotal: 2m 54s\tremaining: 9.58s\n",
      "474:\tlearn 0.1063427345passed: 0.269 sec\ttotal: 2m 54s\tremaining: 9.2s\n",
      "475:\tlearn 0.1063283738passed: 0.273 sec\ttotal: 2m 55s\tremaining: 8.83s\n",
      "476:\tlearn 0.1063104374passed: 0.269 sec\ttotal: 2m 55s\tremaining: 8.46s\n",
      "477:\tlearn 0.1063011587passed: 0.284 sec\ttotal: 2m 55s\tremaining: 8.09s\n",
      "478:\tlearn 0.1062904218passed: 0.278 sec\ttotal: 2m 55s\tremaining: 7.71s\n",
      "479:\tlearn 0.1062691711passed: 0.284 sec\ttotal: 2m 56s\tremaining: 7.34s\n",
      "480:\tlearn 0.1062415698passed: 0.276 sec\ttotal: 2m 56s\tremaining: 6.97s\n",
      "481:\tlearn 0.1061958635passed: 0.279 sec\ttotal: 2m 56s\tremaining: 6.6s\n",
      "482:\tlearn 0.106181716passed: 0.299 sec\ttotal: 2m 57s\tremaining: 6.23s\n",
      "483:\tlearn 0.1061554094passed: 0.28 sec\ttotal: 2m 57s\tremaining: 5.86s\n",
      "484:\tlearn 0.1061276134passed: 0.279 sec\ttotal: 2m 57s\tremaining: 5.5s\n",
      "485:\tlearn 0.1061117624passed: 0.289 sec\ttotal: 2m 57s\tremaining: 5.13s\n",
      "486:\tlearn 0.1060905413passed: 0.27 sec\ttotal: 2m 58s\tremaining: 4.76s\n",
      "487:\tlearn 0.106080872passed: 0.314 sec\ttotal: 2m 58s\tremaining: 4.39s\n",
      "488:\tlearn 0.1060677496passed: 0.308 sec\ttotal: 2m 58s\tremaining: 4.02s\n",
      "489:\tlearn 0.10605606passed: 0.324 sec\ttotal: 2m 59s\tremaining: 3.66s\n",
      "490:\tlearn 0.1060473417passed: 0.282 sec\ttotal: 2m 59s\tremaining: 3.29s\n",
      "491:\tlearn 0.1060301531passed: 0.281 sec\ttotal: 2m 59s\tremaining: 2.92s\n",
      "492:\tlearn 0.1060143023passed: 0.269 sec\ttotal: 3m\tremaining: 2.56s\n",
      "493:\tlearn 0.1060028381passed: 0.277 sec\ttotal: 3m\tremaining: 2.19s\n",
      "494:\tlearn 0.1059918081passed: 0.282 sec\ttotal: 3m\tremaining: 1.82s\n",
      "495:\tlearn 0.1059715884passed: 0.272 sec\ttotal: 3m\tremaining: 1.46s\n",
      "496:\tlearn 0.105954757passed: 0.282 sec\ttotal: 3m 1s\tremaining: 1.09s\n",
      "497:\tlearn 0.1059409798passed: 0.298 sec\ttotal: 3m 1s\tremaining: 729ms\n",
      "498:\tlearn 0.1059272719passed: 0.289 sec\ttotal: 3m 1s\tremaining: 364ms\n",
      "499:\tlearn 0.1059126615passed: 0.277 sec\ttotal: 3m 2s\tremaining: 0us\n",
      "CPU times: user 16min 48s, sys: 2min 3s, total: 18min 51s\n",
      "Wall time: 3min 4s\n"
     ]
    },
    {
     "data": {
      "text/plain": [
       "<catboost.core.CatBoostClassifier at 0x7f904c5ad748>"
      ]
     },
     "execution_count": 205,
     "metadata": {},
     "output_type": "execute_result"
    }
   ],
   "source": [
    "model = CatBoostClassifier(iterations=500, depth=8, learning_rate=1,\n",
    "                           loss_function='CrossEntropy', logging_level='Verbose', random_seed=42, verbose=True)\n",
    "\n",
    "#%time model.fit(X_train.values, y_train)\n",
    "%time model.fit(data.drop(['event_id','signal','data_ind','index'], axis=1).values, data.signal)"
   ]
  },
  {
   "cell_type": "markdown",
   "metadata": {},
   "source": [
    "## Open test"
   ]
  },
  {
   "cell_type": "code",
   "execution_count": 12,
   "metadata": {
    "collapsed": true
   },
   "outputs": [],
   "source": [
    "from sklearn.metrics import roc_auc_score"
   ]
  },
  {
   "cell_type": "code",
   "execution_count": 8,
   "metadata": {
    "collapsed": true
   },
   "outputs": [],
   "source": [
    "data6 = pd.read_hdf('data/milestone4/open6_extended3.h5', mode='r')\n",
    "data7 = pd.read_hdf('data/milestone4/open7_extended3.h5', mode='r')\n",
    "data8 = pd.read_hdf('data/milestone4/open8_extended3.h5', mode='r')\n",
    "data9 = pd.read_hdf('data/milestone4/open9_extended3.h5', mode='r')\n",
    "data10 = pd.read_hdf('data/milestone4/open10_extended3.h5', mode='r')"
   ]
  },
  {
   "cell_type": "code",
   "execution_count": 9,
   "metadata": {
    "collapsed": true
   },
   "outputs": [],
   "source": [
    "data_test = pd.concat([data6, data7, data8, data9, data10])"
   ]
  },
  {
   "cell_type": "code",
   "execution_count": 21,
   "metadata": {},
   "outputs": [
    {
     "name": "stdout",
     "output_type": "stream",
     "text": [
      "CPU times: user 1min 9s, sys: 3.14 s, total: 1min 12s\n",
      "Wall time: 1min 12s\n",
      "CPU times: user 1.24 s, sys: 4 ms, total: 1.24 s\n",
      "Wall time: 1.24 s\n"
     ]
    },
    {
     "data": {
      "text/plain": [
       "0.97535604915987806"
      ]
     },
     "execution_count": 21,
     "metadata": {},
     "output_type": "execute_result"
    }
   ],
   "source": [
    "%time predict = model.predict_proba(data_test.drop(['event_id','signal','data_ind','index'], axis=1).values)[:,1]\n",
    "%time roc_auc_score(data_test.signal, predict)"
   ]
  },
  {
   "cell_type": "markdown",
   "metadata": {},
   "source": [
    "0.95375680185860001 iter=20, depth=3, 10% signals\n",
    "0.97075916276167629 iter=20, depth=8, 10% signals\n",
    "0.9727042293224768 iter=20, depth=10, 10% signals\n",
    "0.97535604915987806 "
   ]
  },
  {
   "cell_type": "markdown",
   "metadata": {},
   "source": [
    "## Close test"
   ]
  },
  {
   "cell_type": "code",
   "execution_count": 206,
   "metadata": {
    "collapsed": true
   },
   "outputs": [],
   "source": [
    "data0 = pd.read_hdf('data/milestone4/close0_extended3.h5', mode='r')\n",
    "data1 = pd.read_hdf('data/milestone4/close1_extended3.h5', mode='r')\n",
    "data2 = pd.read_hdf('data/milestone4/close2_extended3.h5', mode='r')\n",
    "data3 = pd.read_hdf('data/milestone4/close3_extended3.h5', mode='r')\n",
    "data4 = pd.read_hdf('data/milestone4/close4_extended3.h5', mode='r')\n",
    "data5 = pd.read_hdf('data/milestone4/close5_extended3.h5', mode='r')\n",
    "data6 = pd.read_hdf('data/milestone4/close6_extended3.h5', mode='r')\n",
    "data7 = pd.read_hdf('data/milestone4/close7_extended3.h5', mode='r')\n",
    "data8 = pd.read_hdf('data/milestone4/close8_extended3.h5', mode='r')\n",
    "data9 = pd.read_hdf('data/milestone4/close9_extended3.h5', mode='r')\n",
    "data10 = pd.read_hdf('data/milestone4/close10_extended3.h5', mode='r')"
   ]
  },
  {
   "cell_type": "code",
   "execution_count": 207,
   "metadata": {
    "collapsed": true
   },
   "outputs": [],
   "source": [
    "df_test = pd.concat([data0, data1, data2, data3, data4, data5, data6, data7, data8, data9, data10 ])"
   ]
  },
  {
   "cell_type": "code",
   "execution_count": 164,
   "metadata": {},
   "outputs": [
    {
     "name": "stdout",
     "output_type": "stream",
     "text": [
      "<class 'pandas.core.frame.DataFrame'>\n",
      "Int64Index: 7698763 entries, 0 to 6998080\n",
      "Data columns (total 19 columns):\n",
      "TX            float32\n",
      "TY            float32\n",
      "X             float32\n",
      "Y             float32\n",
      "Z             float32\n",
      "data_ind      int32\n",
      "index         int32\n",
      "X1            float32\n",
      "Y1            float32\n",
      "X2            float32\n",
      "Y2            float32\n",
      "dfore         float32\n",
      "dback         float32\n",
      "X3            float32\n",
      "Y3            float32\n",
      "dfore2        float32\n",
      "dback2        float32\n",
      "dfore_simp    float32\n",
      "dback_simp    float32\n",
      "dtypes: float32(17), int32(2)\n",
      "memory usage: 616.7 MB\n"
     ]
    }
   ],
   "source": [
    "df_test.info()"
   ]
  },
  {
   "cell_type": "code",
   "execution_count": 208,
   "metadata": {},
   "outputs": [
    {
     "name": "stdout",
     "output_type": "stream",
     "text": [
      "CPU times: user 2min 16s, sys: 26.1 s, total: 2min 42s\n",
      "Wall time: 2min 42s\n"
     ]
    }
   ],
   "source": [
    "%time df_test['signal'] = model.predict_proba(df_test.drop(['data_ind','index'], axis=1).values)[:,1]"
   ]
  },
  {
   "cell_type": "code",
   "execution_count": 258,
   "metadata": {},
   "outputs": [
    {
     "name": "stdout",
     "output_type": "stream",
     "text": [
      "CPU times: user 2min 25s, sys: 22.6 s, total: 2min 48s\n",
      "Wall time: 2min 48s\n"
     ]
    }
   ],
   "source": [
    "%time df_test['signal'] = model.predict_proba(df_test.drop(['data_ind','index','signal'], axis=1).values)[:,1]"
   ]
  },
  {
   "cell_type": "code",
   "execution_count": 209,
   "metadata": {
    "collapsed": true
   },
   "outputs": [],
   "source": [
    "result = pd.DataFrame()\n",
    "result['index'] = range(7698899)"
   ]
  },
  {
   "cell_type": "code",
   "execution_count": 210,
   "metadata": {
    "collapsed": true
   },
   "outputs": [],
   "source": [
    "result = pd.merge(result, df_test[['index','signal']], how='left', on='index')\n",
    "result = result.fillna(1.0)"
   ]
  },
  {
   "cell_type": "code",
   "execution_count": 211,
   "metadata": {
    "collapsed": true
   },
   "outputs": [],
   "source": [
    "result = result.rename(columns={'index': 'id'})"
   ]
  },
  {
   "cell_type": "code",
   "execution_count": 200,
   "metadata": {},
   "outputs": [
    {
     "name": "stdout",
     "output_type": "stream",
     "text": [
      "<class 'pandas.core.frame.DataFrame'>\n",
      "Int64Index: 7698899 entries, 0 to 7698898\n",
      "Data columns (total 2 columns):\n",
      "id        int64\n",
      "signal    float64\n",
      "dtypes: float64(1), int64(1)\n",
      "memory usage: 176.2 MB\n"
     ]
    }
   ],
   "source": [
    "result.info()"
   ]
  },
  {
   "cell_type": "code",
   "execution_count": 201,
   "metadata": {},
   "outputs": [
    {
     "data": {
      "text/html": [
       "<div>\n",
       "<style>\n",
       "    .dataframe thead tr:only-child th {\n",
       "        text-align: right;\n",
       "    }\n",
       "\n",
       "    .dataframe thead th {\n",
       "        text-align: left;\n",
       "    }\n",
       "\n",
       "    .dataframe tbody tr th {\n",
       "        vertical-align: top;\n",
       "    }\n",
       "</style>\n",
       "<table border=\"1\" class=\"dataframe\">\n",
       "  <thead>\n",
       "    <tr style=\"text-align: right;\">\n",
       "      <th></th>\n",
       "      <th>id</th>\n",
       "      <th>signal</th>\n",
       "    </tr>\n",
       "  </thead>\n",
       "  <tbody>\n",
       "    <tr>\n",
       "      <th>0</th>\n",
       "      <td>0</td>\n",
       "      <td>0.015941</td>\n",
       "    </tr>\n",
       "    <tr>\n",
       "      <th>1</th>\n",
       "      <td>1</td>\n",
       "      <td>0.003924</td>\n",
       "    </tr>\n",
       "    <tr>\n",
       "      <th>2</th>\n",
       "      <td>2</td>\n",
       "      <td>0.006338</td>\n",
       "    </tr>\n",
       "    <tr>\n",
       "      <th>3</th>\n",
       "      <td>3</td>\n",
       "      <td>0.014327</td>\n",
       "    </tr>\n",
       "    <tr>\n",
       "      <th>4</th>\n",
       "      <td>4</td>\n",
       "      <td>0.002171</td>\n",
       "    </tr>\n",
       "  </tbody>\n",
       "</table>\n",
       "</div>"
      ],
      "text/plain": [
       "   id    signal\n",
       "0   0  0.015941\n",
       "1   1  0.003924\n",
       "2   2  0.006338\n",
       "3   3  0.014327\n",
       "4   4  0.002171"
      ]
     },
     "execution_count": 201,
     "metadata": {},
     "output_type": "execute_result"
    }
   ],
   "source": [
    "result.head()"
   ]
  },
  {
   "cell_type": "code",
   "execution_count": 212,
   "metadata": {
    "collapsed": true
   },
   "outputs": [],
   "source": [
    "result.to_csv('~/data/milestone4/result.csv', index=False)"
   ]
  },
  {
   "cell_type": "markdown",
   "metadata": {},
   "source": [
    "public: 0.97141 privat: 0.96776"
   ]
  }
 ],
 "metadata": {
  "kernelspec": {
   "display_name": "Python 3",
   "language": "python",
   "name": "python3"
  },
  "language_info": {
   "codemirror_mode": {
    "name": "ipython",
    "version": 3
   },
   "file_extension": ".py",
   "mimetype": "text/x-python",
   "name": "python",
   "nbconvert_exporter": "python",
   "pygments_lexer": "ipython3",
   "version": "3.6.2"
  }
 },
 "nbformat": 4,
 "nbformat_minor": 2
}
