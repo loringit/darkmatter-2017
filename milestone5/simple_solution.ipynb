{
 "cells": [
  {
   "cell_type": "code",
   "execution_count": null,
   "metadata": {},
   "outputs": [],
   "source": [
    "import numpy as np\n",
    "import pandas as pd\n",
    "from tqdm import tqdm_notebook\n",
    "\n",
    "\n",
    "from catboost import CatBoostClassifier\n",
    "from sklearn.metrics import roc_auc_score"
   ]
  },
  {
   "cell_type": "markdown",
   "metadata": {},
   "source": [
    "## Train data"
   ]
  },
  {
   "cell_type": "code",
   "execution_count": 2,
   "metadata": {},
   "outputs": [],
   "source": [
    "open0 = pd.read_hdf('data/milestone5/open0_extended3.h5', mode='r')\n",
    "open1 = pd.read_hdf('data/milestone5/open10_extended3_1.h5', mode='r')\n",
    "open2 = pd.read_hdf('data/milestone5/open10_extended3_2.h5', mode='r')\n",
    "open3 = pd.read_hdf('data/milestone5/open10_extended3_3.h5', mode='r')\n",
    "open4 = pd.read_hdf('data/milestone5/open10_extended3_4.h5', mode='r')\n",
    "open5 = pd.read_hdf('data/milestone5/open10_extended3_5.h5', mode='r')"
   ]
  },
  {
   "cell_type": "code",
   "execution_count": 3,
   "metadata": {},
   "outputs": [
    {
     "name": "stdout",
     "output_type": "stream",
     "text": [
      "<class 'pandas.core.frame.DataFrame'>\n",
      "Int64Index: 741457 entries, 7 to 7451804\n",
      "Data columns (total 20 columns):\n",
      "TX            741457 non-null float32\n",
      "TY            741457 non-null float32\n",
      "X             741457 non-null float32\n",
      "Y             741457 non-null float32\n",
      "Z             741457 non-null float32\n",
      "event_id      741457 non-null float32\n",
      "signal        741457 non-null float32\n",
      "data_ind      741457 non-null float32\n",
      "X1            741457 non-null float32\n",
      "Y1            741457 non-null float32\n",
      "X2            741457 non-null float32\n",
      "Y2            741457 non-null float32\n",
      "dfore         741457 non-null float32\n",
      "dback         741457 non-null float32\n",
      "X3            741457 non-null float32\n",
      "Y3            741457 non-null float32\n",
      "dfore2        741457 non-null float32\n",
      "dback2        741457 non-null float32\n",
      "dfore_simp    741457 non-null float32\n",
      "dback_simp    741457 non-null float32\n",
      "dtypes: float32(20)\n",
      "memory usage: 62.2 MB\n"
     ]
    }
   ],
   "source": [
    "train_df_signal = open0[open0.signal == True]\n",
    "train_df_signal = pd.concat([train_df_signal, open1[open1.signal == True]])\n",
    "train_df_signal = pd.concat([train_df_signal, open2[open2.signal == True]])\n",
    "train_df_signal = pd.concat([train_df_signal, open3[open3.signal == True]])\n",
    "train_df_signal = pd.concat([train_df_signal, open4[open4.signal == True]])\n",
    "train_df_signal = pd.concat([train_df_signal, open5[open5.signal == True]])\n",
    "train_df_signal.info()"
   ]
  },
  {
   "cell_type": "code",
   "execution_count": 4,
   "metadata": {},
   "outputs": [
    {
     "name": "stdout",
     "output_type": "stream",
     "text": [
      "<class 'pandas.core.frame.DataFrame'>\n",
      "Int64Index: 1366106 entries, 0 to 1486811\n",
      "Data columns (total 20 columns):\n",
      "TX            1366106 non-null float32\n",
      "TY            1366106 non-null float32\n",
      "X             1366106 non-null float32\n",
      "Y             1366106 non-null float32\n",
      "Z             1366106 non-null float32\n",
      "event_id      1366106 non-null float32\n",
      "signal        1366106 non-null float32\n",
      "data_ind      1366106 non-null float32\n",
      "X1            1366106 non-null float32\n",
      "Y1            1366106 non-null float32\n",
      "X2            1366106 non-null float32\n",
      "Y2            1366106 non-null float32\n",
      "dfore         1366106 non-null float32\n",
      "dback         1366106 non-null float32\n",
      "X3            1366106 non-null float32\n",
      "Y3            1366106 non-null float32\n",
      "dfore2        1366106 non-null float32\n",
      "dback2        1366106 non-null float32\n",
      "dfore_simp    1366106 non-null float32\n",
      "dback_simp    1366106 non-null float32\n",
      "dtypes: float32(20)\n",
      "memory usage: 114.6 MB\n"
     ]
    }
   ],
   "source": [
    "train_df_background = open0[open0.signal == False]\n",
    "#train_df_background = pd.concat([train_df_background, open1[open1.signal == False]])\n",
    "train_df_background.info()"
   ]
  },
  {
   "cell_type": "code",
   "execution_count": 5,
   "metadata": {},
   "outputs": [
    {
     "name": "stdout",
     "output_type": "stream",
     "text": [
      "<class 'pandas.core.frame.DataFrame'>\n",
      "Int64Index: 1482914 entries, 7 to 807101\n",
      "Data columns (total 20 columns):\n",
      "TX            1482914 non-null float32\n",
      "TY            1482914 non-null float32\n",
      "X             1482914 non-null float32\n",
      "Y             1482914 non-null float32\n",
      "Z             1482914 non-null float32\n",
      "event_id      1482914 non-null float32\n",
      "signal        1482914 non-null float32\n",
      "data_ind      1482914 non-null float32\n",
      "X1            1482914 non-null float32\n",
      "Y1            1482914 non-null float32\n",
      "X2            1482914 non-null float32\n",
      "Y2            1482914 non-null float32\n",
      "dfore         1482914 non-null float32\n",
      "dback         1482914 non-null float32\n",
      "X3            1482914 non-null float32\n",
      "Y3            1482914 non-null float32\n",
      "dfore2        1482914 non-null float32\n",
      "dback2        1482914 non-null float32\n",
      "dfore_simp    1482914 non-null float32\n",
      "dback_simp    1482914 non-null float32\n",
      "dtypes: float32(20)\n",
      "memory usage: 124.5 MB\n"
     ]
    }
   ],
   "source": [
    "train_df = pd.concat([train_df_signal, train_df_background[:train_df_signal.shape[0]]])\n",
    "train_df.info()"
   ]
  },
  {
   "cell_type": "markdown",
   "metadata": {},
   "source": [
    "## CatBoost"
   ]
  },
  {
   "cell_type": "code",
   "execution_count": 6,
   "metadata": {},
   "outputs": [
    {
     "name": "stdout",
     "output_type": "stream",
     "text": [
      "Borders generated\n",
      "0:\tlearn 0.5524372756passed: 0.717 sec\ttotal: 43.5s\tremaining: 6h 2m 6s\n",
      "1:\tlearn 0.4667233798passed: 0.571 sec\ttotal: 44.1s\tremaining: 3h 3m 4s\n",
      "2:\tlearn 0.4136240831passed: 0.54 sec\ttotal: 44.7s\tremaining: 2h 3m 17s\n",
      "3:\tlearn 0.3775085523passed: 0.554 sec\ttotal: 45.2s\tremaining: 1h 33m 25s\n",
      "4:\tlearn 0.3515831841passed: 0.53 sec\ttotal: 45.7s\tremaining: 1h 15m 28s\n",
      "5:\tlearn 0.3320149879passed: 0.539 sec\ttotal: 46.3s\tremaining: 1h 3m 30s\n",
      "6:\tlearn 0.3163863765passed: 0.535 sec\ttotal: 46.8s\tremaining: 54m 57s\n",
      "7:\tlearn 0.3043813391passed: 0.553 sec\ttotal: 47.4s\tremaining: 48m 33s\n",
      "8:\tlearn 0.2947847468passed: 0.518 sec\ttotal: 47.9s\tremaining: 43m 32s\n",
      "9:\tlearn 0.2868788794passed: 0.538 sec\ttotal: 48.4s\tremaining: 39m 32s\n",
      "10:\tlearn 0.2799484142passed: 0.531 sec\ttotal: 49s\tremaining: 36m 16s\n",
      "11:\tlearn 0.2739485537passed: 0.551 sec\ttotal: 49.5s\tremaining: 33m 33s\n",
      "12:\tlearn 0.2688443185passed: 0.608 sec\ttotal: 50.1s\tremaining: 31m 17s\n",
      "13:\tlearn 0.2645034387passed: 0.548 sec\ttotal: 50.7s\tremaining: 29m 18s\n",
      "14:\tlearn 0.260660696passed: 0.527 sec\ttotal: 51.2s\tremaining: 27m 35s\n",
      "15:\tlearn 0.2570680273passed: 0.542 sec\ttotal: 51.7s\tremaining: 26m 5s\n",
      "16:\tlearn 0.254094011passed: 0.578 sec\ttotal: 52.3s\tremaining: 24m 46s\n",
      "17:\tlearn 0.2510862195passed: 0.55 sec\ttotal: 52.9s\tremaining: 23m 35s\n",
      "18:\tlearn 0.2484582913passed: 0.579 sec\ttotal: 53.4s\tremaining: 22m 33s\n",
      "19:\tlearn 0.2462375968passed: 0.539 sec\ttotal: 54s\tremaining: 21m 35s\n",
      "20:\tlearn 0.2440373421passed: 0.531 sec\ttotal: 54.5s\tremaining: 20m 43s\n",
      "21:\tlearn 0.241972389passed: 0.549 sec\ttotal: 55.1s\tremaining: 19m 56s\n",
      "22:\tlearn 0.2401073968passed: 0.553 sec\ttotal: 55.6s\tremaining: 19m 13s\n",
      "23:\tlearn 0.2383535452passed: 0.536 sec\ttotal: 56.2s\tremaining: 18m 33s\n",
      "24:\tlearn 0.2368245741passed: 0.562 sec\ttotal: 56.7s\tremaining: 17m 57s\n",
      "25:\tlearn 0.2354275303passed: 0.539 sec\ttotal: 57.3s\tremaining: 17m 23s\n",
      "26:\tlearn 0.2341780561passed: 0.667 sec\ttotal: 57.9s\tremaining: 16m 54s\n",
      "27:\tlearn 0.2329536113passed: 0.647 sec\ttotal: 58.6s\tremaining: 16m 27s\n",
      "28:\tlearn 0.2317819455passed: 0.577 sec\ttotal: 59.2s\tremaining: 16m\n",
      "29:\tlearn 0.2306376573passed: 0.588 sec\ttotal: 59.7s\tremaining: 15m 36s\n",
      "30:\tlearn 0.2295503112passed: 0.546 sec\ttotal: 1m\tremaining: 15m 12s\n",
      "31:\tlearn 0.2285428503passed: 0.541 sec\ttotal: 1m\tremaining: 14m 49s\n",
      "32:\tlearn 0.2277010575passed: 0.54 sec\ttotal: 1m 1s\tremaining: 14m 28s\n",
      "33:\tlearn 0.226912914passed: 0.535 sec\ttotal: 1m 1s\tremaining: 14m 8s\n",
      "34:\tlearn 0.2260740638passed: 0.534 sec\ttotal: 1m 2s\tremaining: 13m 49s\n",
      "35:\tlearn 0.225270341passed: 0.553 sec\ttotal: 1m 2s\tremaining: 13m 31s\n",
      "36:\tlearn 0.2244938064passed: 0.575 sec\ttotal: 1m 3s\tremaining: 13m 15s\n",
      "37:\tlearn 0.2237442829passed: 0.565 sec\ttotal: 1m 4s\tremaining: 12m 59s\n",
      "38:\tlearn 0.2230421624passed: 0.579 sec\ttotal: 1m 4s\tremaining: 12m 45s\n",
      "39:\tlearn 0.2223347969passed: 0.611 sec\ttotal: 1m 5s\tremaining: 12m 31s\n",
      "40:\tlearn 0.2217509008passed: 0.565 sec\ttotal: 1m 5s\tremaining: 12m 17s\n",
      "41:\tlearn 0.2211887455passed: 0.534 sec\ttotal: 1m 6s\tremaining: 12m 4s\n",
      "42:\tlearn 0.2206153576passed: 0.543 sec\ttotal: 1m 6s\tremaining: 11m 51s\n",
      "43:\tlearn 0.220059664passed: 0.532 sec\ttotal: 1m 7s\tremaining: 11m 39s\n",
      "44:\tlearn 0.2195377961passed: 0.546 sec\ttotal: 1m 8s\tremaining: 11m 28s\n",
      "45:\tlearn 0.2190648155passed: 0.543 sec\ttotal: 1m 8s\tremaining: 11m 17s\n",
      "46:\tlearn 0.2185944985passed: 0.52 sec\ttotal: 1m 9s\tremaining: 11m 6s\n",
      "47:\tlearn 0.2181417095passed: 0.537 sec\ttotal: 1m 9s\tremaining: 10m 55s\n",
      "48:\tlearn 0.2176593124passed: 0.551 sec\ttotal: 1m 10s\tremaining: 10m 46s\n",
      "49:\tlearn 0.2171856923passed: 0.572 sec\ttotal: 1m 10s\tremaining: 10m 37s\n",
      "50:\tlearn 0.2168049712passed: 0.609 sec\ttotal: 1m 11s\tremaining: 10m 28s\n",
      "51:\tlearn 0.2164498362passed: 0.575 sec\ttotal: 1m 11s\tremaining: 10m 20s\n",
      "52:\tlearn 0.2160765809passed: 0.536 sec\ttotal: 1m 12s\tremaining: 10m 11s\n",
      "53:\tlearn 0.2157312792passed: 0.559 sec\ttotal: 1m 13s\tremaining: 10m 3s\n",
      "54:\tlearn 0.215368877passed: 0.598 sec\ttotal: 1m 13s\tremaining: 9m 56s\n",
      "55:\tlearn 0.2150472381passed: 0.536 sec\ttotal: 1m 14s\tremaining: 9m 48s\n",
      "56:\tlearn 0.2147175671passed: 0.558 sec\ttotal: 1m 14s\tremaining: 9m 41s\n",
      "57:\tlearn 0.2144096114passed: 0.534 sec\ttotal: 1m 15s\tremaining: 9m 33s\n",
      "58:\tlearn 0.2140374208passed: 0.534 sec\ttotal: 1m 15s\tremaining: 9m 26s\n",
      "59:\tlearn 0.2136920477passed: 0.541 sec\ttotal: 1m 16s\tremaining: 9m 20s\n",
      "60:\tlearn 0.2134063808passed: 0.516 sec\ttotal: 1m 16s\tremaining: 9m 13s\n",
      "61:\tlearn 0.2130871724passed: 0.516 sec\ttotal: 1m 17s\tremaining: 9m 6s\n",
      "62:\tlearn 0.2127503998passed: 0.529 sec\ttotal: 1m 17s\tremaining: 9m\n",
      "63:\tlearn 0.2124778716passed: 0.58 sec\ttotal: 1m 18s\tremaining: 8m 54s\n",
      "64:\tlearn 0.2122100689passed: 0.584 sec\ttotal: 1m 19s\tremaining: 8m 49s\n",
      "65:\tlearn 0.2119678258passed: 0.549 sec\ttotal: 1m 19s\tremaining: 8m 43s\n",
      "66:\tlearn 0.211665866passed: 0.533 sec\ttotal: 1m 20s\tremaining: 8m 38s\n",
      "67:\tlearn 0.2113903183passed: 0.574 sec\ttotal: 1m 20s\tremaining: 8m 33s\n",
      "68:\tlearn 0.2111404925passed: 0.552 sec\ttotal: 1m 21s\tremaining: 8m 27s\n",
      "69:\tlearn 0.2109017988passed: 0.547 sec\ttotal: 1m 21s\tremaining: 8m 22s\n",
      "70:\tlearn 0.2106371107passed: 0.531 sec\ttotal: 1m 22s\tremaining: 8m 17s\n",
      "71:\tlearn 0.2104003189passed: 0.531 sec\ttotal: 1m 22s\tremaining: 8m 12s\n",
      "72:\tlearn 0.2102052869passed: 0.552 sec\ttotal: 1m 23s\tremaining: 8m 8s\n",
      "73:\tlearn 0.2100128836passed: 0.525 sec\ttotal: 1m 24s\tremaining: 8m 3s\n",
      "74:\tlearn 0.2097782801passed: 0.567 sec\ttotal: 1m 24s\tremaining: 7m 59s\n",
      "75:\tlearn 0.2095836127passed: 0.528 sec\ttotal: 1m 25s\tremaining: 7m 54s\n",
      "76:\tlearn 0.2093794259passed: 0.603 sec\ttotal: 1m 25s\tremaining: 7m 50s\n",
      "77:\tlearn 0.2091808143passed: 0.603 sec\ttotal: 1m 26s\tremaining: 7m 46s\n",
      "78:\tlearn 0.208995759passed: 0.551 sec\ttotal: 1m 26s\tremaining: 7m 42s\n",
      "79:\tlearn 0.2088151067passed: 0.553 sec\ttotal: 1m 27s\tremaining: 7m 38s\n",
      "80:\tlearn 0.2085889967passed: 0.542 sec\ttotal: 1m 27s\tremaining: 7m 34s\n",
      "81:\tlearn 0.20836169passed: 0.566 sec\ttotal: 1m 28s\tremaining: 7m 31s\n",
      "82:\tlearn 0.2081983464passed: 0.531 sec\ttotal: 1m 29s\tremaining: 7m 27s\n",
      "83:\tlearn 0.2080263906passed: 0.525 sec\ttotal: 1m 29s\tremaining: 7m 23s\n",
      "84:\tlearn 0.2078673089passed: 0.535 sec\ttotal: 1m 30s\tremaining: 7m 19s\n",
      "85:\tlearn 0.2076729719passed: 0.525 sec\ttotal: 1m 30s\tremaining: 7m 16s\n",
      "86:\tlearn 0.2074795799passed: 0.564 sec\ttotal: 1m 31s\tremaining: 7m 12s\n",
      "87:\tlearn 0.2073099072passed: 0.536 sec\ttotal: 1m 31s\tremaining: 7m 9s\n",
      "88:\tlearn 0.2071394962passed: 0.563 sec\ttotal: 1m 32s\tremaining: 7m 6s\n",
      "89:\tlearn 0.2069816204passed: 0.576 sec\ttotal: 1m 32s\tremaining: 7m 3s\n",
      "90:\tlearn 0.206840472passed: 0.582 sec\ttotal: 1m 33s\tremaining: 7m\n",
      "91:\tlearn 0.2066827573passed: 0.556 sec\ttotal: 1m 34s\tremaining: 6m 56s\n",
      "92:\tlearn 0.206492465passed: 0.552 sec\ttotal: 1m 34s\tremaining: 6m 53s\n",
      "93:\tlearn 0.2063306004passed: 0.52 sec\ttotal: 1m 35s\tremaining: 6m 50s\n",
      "94:\tlearn 0.2061669572passed: 0.553 sec\ttotal: 1m 35s\tremaining: 6m 47s\n",
      "95:\tlearn 0.2060085323passed: 0.533 sec\ttotal: 1m 36s\tremaining: 6m 44s\n",
      "96:\tlearn 0.2058732889passed: 0.541 sec\ttotal: 1m 36s\tremaining: 6m 41s\n",
      "97:\tlearn 0.2057291736passed: 0.558 sec\ttotal: 1m 37s\tremaining: 6m 39s\n",
      "98:\tlearn 0.2056059844passed: 0.556 sec\ttotal: 1m 37s\tremaining: 6m 36s\n",
      "99:\tlearn 0.2054830172passed: 0.543 sec\ttotal: 1m 38s\tremaining: 6m 33s\n",
      "100:\tlearn 0.2053450232passed: 0.561 sec\ttotal: 1m 38s\tremaining: 6m 30s\n",
      "101:\tlearn 0.2052382131passed: 0.624 sec\ttotal: 1m 39s\tremaining: 6m 28s\n",
      "102:\tlearn 0.2050812744passed: 0.574 sec\ttotal: 1m 40s\tremaining: 6m 26s\n",
      "103:\tlearn 0.204935852passed: 0.598 sec\ttotal: 1m 40s\tremaining: 6m 23s\n",
      "104:\tlearn 0.2048209522passed: 0.562 sec\ttotal: 1m 41s\tremaining: 6m 21s\n",
      "105:\tlearn 0.2047257796passed: 0.592 sec\ttotal: 1m 41s\tremaining: 6m 18s\n",
      "106:\tlearn 0.2046054188passed: 0.533 sec\ttotal: 1m 42s\tremaining: 6m 16s\n",
      "107:\tlearn 0.2045072338passed: 0.549 sec\ttotal: 1m 42s\tremaining: 6m 13s\n",
      "108:\tlearn 0.2044163112passed: 0.578 sec\ttotal: 1m 43s\tremaining: 6m 11s\n",
      "109:\tlearn 0.2042954191passed: 0.596 sec\ttotal: 1m 44s\tremaining: 6m 9s\n",
      "110:\tlearn 0.2042056948passed: 0.551 sec\ttotal: 1m 44s\tremaining: 6m 6s\n",
      "111:\tlearn 0.2040979835passed: 0.532 sec\ttotal: 1m 45s\tremaining: 6m 4s\n",
      "112:\tlearn 0.2040168665passed: 0.548 sec\ttotal: 1m 45s\tremaining: 6m 2s\n",
      "113:\tlearn 0.2039218559passed: 0.559 sec\ttotal: 1m 46s\tremaining: 6m\n",
      "114:\tlearn 0.2038245339passed: 0.536 sec\ttotal: 1m 46s\tremaining: 5m 57s\n"
     ]
    },
    {
     "name": "stdout",
     "output_type": "stream",
     "text": [
      "115:\tlearn 0.2037237506passed: 0.51 sec\ttotal: 1m 47s\tremaining: 5m 55s\n",
      "116:\tlearn 0.203638524passed: 0.527 sec\ttotal: 1m 47s\tremaining: 5m 53s\n",
      "117:\tlearn 0.2035360953passed: 0.552 sec\ttotal: 1m 48s\tremaining: 5m 51s\n",
      "118:\tlearn 0.2034312048passed: 0.54 sec\ttotal: 1m 49s\tremaining: 5m 49s\n",
      "119:\tlearn 0.2033302507passed: 0.533 sec\ttotal: 1m 49s\tremaining: 5m 46s\n",
      "120:\tlearn 0.2032536242passed: 0.542 sec\ttotal: 1m 50s\tremaining: 5m 44s\n",
      "121:\tlearn 0.2031710722passed: 0.537 sec\ttotal: 1m 50s\tremaining: 5m 42s\n",
      "122:\tlearn 0.2030630306passed: 0.585 sec\ttotal: 1m 51s\tremaining: 5m 40s\n",
      "123:\tlearn 0.2029835582passed: 0.551 sec\ttotal: 1m 51s\tremaining: 5m 38s\n",
      "124:\tlearn 0.2029054414passed: 0.565 sec\ttotal: 1m 52s\tremaining: 5m 37s\n",
      "125:\tlearn 0.2028156223passed: 0.577 sec\ttotal: 1m 52s\tremaining: 5m 35s\n",
      "126:\tlearn 0.2027148903passed: 0.576 sec\ttotal: 1m 53s\tremaining: 5m 33s\n",
      "127:\tlearn 0.2026444083passed: 0.549 sec\ttotal: 1m 54s\tremaining: 5m 31s\n",
      "128:\tlearn 0.2025184321passed: 0.543 sec\ttotal: 1m 54s\tremaining: 5m 29s\n",
      "129:\tlearn 0.2024425356passed: 0.53 sec\ttotal: 1m 55s\tremaining: 5m 27s\n",
      "130:\tlearn 0.2023753682passed: 0.551 sec\ttotal: 1m 55s\tremaining: 5m 25s\n",
      "131:\tlearn 0.2023061493passed: 0.533 sec\ttotal: 1m 56s\tremaining: 5m 23s\n",
      "132:\tlearn 0.2022026559passed: 0.547 sec\ttotal: 1m 56s\tremaining: 5m 22s\n",
      "133:\tlearn 0.2021161502passed: 0.54 sec\ttotal: 1m 57s\tremaining: 5m 20s\n",
      "134:\tlearn 0.2020440017passed: 0.546 sec\ttotal: 1m 57s\tremaining: 5m 18s\n",
      "135:\tlearn 0.2019806009passed: 0.584 sec\ttotal: 1m 58s\tremaining: 5m 16s\n",
      "136:\tlearn 0.2018537975passed: 0.548 sec\ttotal: 1m 58s\tremaining: 5m 15s\n",
      "137:\tlearn 0.2017596068passed: 0.586 sec\ttotal: 1m 59s\tremaining: 5m 13s\n",
      "138:\tlearn 0.2016786031passed: 0.567 sec\ttotal: 2m\tremaining: 5m 11s\n",
      "139:\tlearn 0.2016045209passed: 0.532 sec\ttotal: 2m\tremaining: 5m 10s\n",
      "140:\tlearn 0.2015436957passed: 0.541 sec\ttotal: 2m 1s\tremaining: 5m 8s\n",
      "141:\tlearn 0.2014850945passed: 0.505 sec\ttotal: 2m 1s\tremaining: 5m 6s\n",
      "142:\tlearn 0.2014248264passed: 0.536 sec\ttotal: 2m 2s\tremaining: 5m 5s\n",
      "143:\tlearn 0.2013346595passed: 0.531 sec\ttotal: 2m 2s\tremaining: 5m 3s\n",
      "144:\tlearn 0.2012780322passed: 0.512 sec\ttotal: 2m 3s\tremaining: 5m 1s\n",
      "145:\tlearn 0.2012014762passed: 0.532 sec\ttotal: 2m 3s\tremaining: 5m\n",
      "146:\tlearn 0.2011419246passed: 0.535 sec\ttotal: 2m 4s\tremaining: 4m 58s\n",
      "147:\tlearn 0.2010592777passed: 0.535 sec\ttotal: 2m 4s\tremaining: 4m 57s\n",
      "148:\tlearn 0.2009714019passed: 0.557 sec\ttotal: 2m 5s\tremaining: 4m 55s\n",
      "149:\tlearn 0.2008932325passed: 0.545 sec\ttotal: 2m 6s\tremaining: 4m 54s\n",
      "150:\tlearn 0.2008279073passed: 0.522 sec\ttotal: 2m 6s\tremaining: 4m 52s\n",
      "151:\tlearn 0.200753006passed: 0.53 sec\ttotal: 2m 7s\tremaining: 4m 50s\n",
      "152:\tlearn 0.2006828474passed: 0.563 sec\ttotal: 2m 7s\tremaining: 4m 49s\n",
      "153:\tlearn 0.2006291983passed: 0.609 sec\ttotal: 2m 8s\tremaining: 4m 48s\n",
      "154:\tlearn 0.2005282687passed: 0.543 sec\ttotal: 2m 8s\tremaining: 4m 46s\n",
      "155:\tlearn 0.2004716067passed: 0.545 sec\ttotal: 2m 9s\tremaining: 4m 45s\n",
      "156:\tlearn 0.2004185179passed: 0.526 sec\ttotal: 2m 9s\tremaining: 4m 43s\n",
      "157:\tlearn 0.2003624432passed: 0.556 sec\ttotal: 2m 10s\tremaining: 4m 42s\n",
      "158:\tlearn 0.20031011passed: 0.533 sec\ttotal: 2m 10s\tremaining: 4m 40s\n",
      "159:\tlearn 0.2002290468passed: 0.53 sec\ttotal: 2m 11s\tremaining: 4m 39s\n",
      "160:\tlearn 0.2001551421passed: 0.55 sec\ttotal: 2m 12s\tremaining: 4m 37s\n",
      "161:\tlearn 0.2001004893passed: 0.543 sec\ttotal: 2m 12s\tremaining: 4m 36s\n",
      "162:\tlearn 0.200050604passed: 0.538 sec\ttotal: 2m 13s\tremaining: 4m 35s\n",
      "163:\tlearn 0.1999731233passed: 0.537 sec\ttotal: 2m 13s\tremaining: 4m 33s\n",
      "164:\tlearn 0.1999351555passed: 0.529 sec\ttotal: 2m 14s\tremaining: 4m 32s\n",
      "165:\tlearn 0.1998781353passed: 0.527 sec\ttotal: 2m 14s\tremaining: 4m 31s\n",
      "166:\tlearn 0.1998298018passed: 0.545 sec\ttotal: 2m 15s\tremaining: 4m 29s\n",
      "167:\tlearn 0.1997742296passed: 0.552 sec\ttotal: 2m 15s\tremaining: 4m 28s\n",
      "168:\tlearn 0.1996974793passed: 0.534 sec\ttotal: 2m 16s\tremaining: 4m 27s\n",
      "169:\tlearn 0.1996501485passed: 0.527 sec\ttotal: 2m 16s\tremaining: 4m 25s\n",
      "170:\tlearn 0.19957927passed: 0.534 sec\ttotal: 2m 17s\tremaining: 4m 24s\n",
      "171:\tlearn 0.1995295044passed: 0.541 sec\ttotal: 2m 17s\tremaining: 4m 23s\n",
      "172:\tlearn 0.199415162passed: 0.524 sec\ttotal: 2m 18s\tremaining: 4m 21s\n",
      "173:\tlearn 0.1992850648passed: 0.525 sec\ttotal: 2m 18s\tremaining: 4m 20s\n",
      "174:\tlearn 0.1992281522passed: 0.524 sec\ttotal: 2m 19s\tremaining: 4m 19s\n",
      "175:\tlearn 0.1991879724passed: 0.537 sec\ttotal: 2m 20s\tremaining: 4m 17s\n",
      "176:\tlearn 0.199141223passed: 0.551 sec\ttotal: 2m 20s\tremaining: 4m 16s\n",
      "177:\tlearn 0.1990970594passed: 0.537 sec\ttotal: 2m 21s\tremaining: 4m 15s\n",
      "178:\tlearn 0.1990390846passed: 0.537 sec\ttotal: 2m 21s\tremaining: 4m 14s\n",
      "179:\tlearn 0.1990000613passed: 0.537 sec\ttotal: 2m 22s\tremaining: 4m 12s\n",
      "180:\tlearn 0.1989453882passed: 0.655 sec\ttotal: 2m 22s\tremaining: 4m 11s\n",
      "181:\tlearn 0.1988898083passed: 0.565 sec\ttotal: 2m 23s\tremaining: 4m 10s\n",
      "182:\tlearn 0.1987974316passed: 0.558 sec\ttotal: 2m 23s\tremaining: 4m 9s\n",
      "183:\tlearn 0.1987462441passed: 0.557 sec\ttotal: 2m 24s\tremaining: 4m 8s\n",
      "184:\tlearn 0.1987121075passed: 0.536 sec\ttotal: 2m 25s\tremaining: 4m 7s\n",
      "185:\tlearn 0.1986264445passed: 0.537 sec\ttotal: 2m 25s\tremaining: 4m 5s\n",
      "186:\tlearn 0.1985873643passed: 0.526 sec\ttotal: 2m 26s\tremaining: 4m 4s\n",
      "187:\tlearn 0.19853746passed: 0.535 sec\ttotal: 2m 26s\tremaining: 4m 3s\n",
      "188:\tlearn 0.1984962721passed: 0.523 sec\ttotal: 2m 27s\tremaining: 4m 2s\n",
      "189:\tlearn 0.1984603847passed: 0.526 sec\ttotal: 2m 27s\tremaining: 4m 1s\n",
      "190:\tlearn 0.1983882272passed: 0.543 sec\ttotal: 2m 28s\tremaining: 3m 59s\n",
      "191:\tlearn 0.1983469148passed: 0.524 sec\ttotal: 2m 28s\tremaining: 3m 58s\n",
      "192:\tlearn 0.1983143492passed: 0.533 sec\ttotal: 2m 29s\tremaining: 3m 57s\n",
      "193:\tlearn 0.1982324922passed: 0.522 sec\ttotal: 2m 29s\tremaining: 3m 56s\n",
      "194:\tlearn 0.198173491passed: 0.599 sec\ttotal: 2m 30s\tremaining: 3m 55s\n",
      "195:\tlearn 0.198130157passed: 0.546 sec\ttotal: 2m 31s\tremaining: 3m 54s\n",
      "196:\tlearn 0.1980649486passed: 0.538 sec\ttotal: 2m 31s\tremaining: 3m 53s\n",
      "197:\tlearn 0.1980060147passed: 0.555 sec\ttotal: 2m 32s\tremaining: 3m 52s\n",
      "198:\tlearn 0.1979513934passed: 0.563 sec\ttotal: 2m 32s\tremaining: 3m 50s\n",
      "199:\tlearn 0.1979116791passed: 0.518 sec\ttotal: 2m 33s\tremaining: 3m 49s\n",
      "200:\tlearn 0.1978383521passed: 0.517 sec\ttotal: 2m 33s\tremaining: 3m 48s\n",
      "201:\tlearn 0.197800583passed: 0.523 sec\ttotal: 2m 34s\tremaining: 3m 47s\n",
      "202:\tlearn 0.1977556712passed: 0.534 sec\ttotal: 2m 34s\tremaining: 3m 46s\n",
      "203:\tlearn 0.197686709passed: 0.536 sec\ttotal: 2m 35s\tremaining: 3m 45s\n",
      "204:\tlearn 0.1976564149passed: 0.509 sec\ttotal: 2m 35s\tremaining: 3m 44s\n",
      "205:\tlearn 0.1976295486passed: 0.514 sec\ttotal: 2m 36s\tremaining: 3m 43s\n",
      "206:\tlearn 0.1975840467passed: 0.529 sec\ttotal: 2m 36s\tremaining: 3m 42s\n",
      "207:\tlearn 0.1975154516passed: 0.593 sec\ttotal: 2m 37s\tremaining: 3m 41s\n",
      "208:\tlearn 0.1974495265passed: 0.526 sec\ttotal: 2m 37s\tremaining: 3m 39s\n",
      "209:\tlearn 0.1974160065passed: 0.524 sec\ttotal: 2m 38s\tremaining: 3m 38s\n",
      "210:\tlearn 0.197381448passed: 0.525 sec\ttotal: 2m 39s\tremaining: 3m 37s\n",
      "211:\tlearn 0.1973361436passed: 0.522 sec\ttotal: 2m 39s\tremaining: 3m 36s\n",
      "212:\tlearn 0.197283166passed: 0.547 sec\ttotal: 2m 40s\tremaining: 3m 35s\n",
      "213:\tlearn 0.1972247788passed: 0.528 sec\ttotal: 2m 40s\tremaining: 3m 34s\n",
      "214:\tlearn 0.1971867673passed: 0.533 sec\ttotal: 2m 41s\tremaining: 3m 33s\n",
      "215:\tlearn 0.1971440635passed: 0.548 sec\ttotal: 2m 41s\tremaining: 3m 32s\n",
      "216:\tlearn 0.1971196596passed: 0.526 sec\ttotal: 2m 42s\tremaining: 3m 31s\n",
      "217:\tlearn 0.1970717002passed: 0.51 sec\ttotal: 2m 42s\tremaining: 3m 30s\n",
      "218:\tlearn 0.1970116438passed: 0.548 sec\ttotal: 2m 43s\tremaining: 3m 29s\n",
      "219:\tlearn 0.1969796559passed: 0.52 sec\ttotal: 2m 43s\tremaining: 3m 28s\n",
      "220:\tlearn 0.1969559056passed: 0.52 sec\ttotal: 2m 44s\tremaining: 3m 27s\n",
      "221:\tlearn 0.1968979136passed: 0.612 sec\ttotal: 2m 44s\tremaining: 3m 26s\n",
      "222:\tlearn 0.1968231502passed: 0.59 sec\ttotal: 2m 45s\tremaining: 3m 25s\n",
      "223:\tlearn 0.1967915572passed: 0.523 sec\ttotal: 2m 46s\tremaining: 3m 24s\n",
      "224:\tlearn 0.1967642069passed: 0.533 sec\ttotal: 2m 46s\tremaining: 3m 23s\n",
      "225:\tlearn 0.1966851021passed: 0.562 sec\ttotal: 2m 47s\tremaining: 3m 22s\n",
      "226:\tlearn 0.1966581701passed: 0.53 sec\ttotal: 2m 47s\tremaining: 3m 21s\n",
      "227:\tlearn 0.1965974895passed: 0.524 sec\ttotal: 2m 48s\tremaining: 3m 20s\n",
      "228:\tlearn 0.1965428948passed: 0.556 sec\ttotal: 2m 48s\tremaining: 3m 19s\n"
     ]
    },
    {
     "name": "stdout",
     "output_type": "stream",
     "text": [
      "229:\tlearn 0.1964920668passed: 0.547 sec\ttotal: 2m 49s\tremaining: 3m 18s\n",
      "230:\tlearn 0.1964653189passed: 0.545 sec\ttotal: 2m 49s\tremaining: 3m 17s\n",
      "231:\tlearn 0.1964000655passed: 0.52 sec\ttotal: 2m 50s\tremaining: 3m 16s\n",
      "232:\tlearn 0.196364236passed: 0.527 sec\ttotal: 2m 50s\tremaining: 3m 15s\n",
      "233:\tlearn 0.1963040456passed: 0.549 sec\ttotal: 2m 51s\tremaining: 3m 14s\n",
      "234:\tlearn 0.1962776349passed: 0.54 sec\ttotal: 2m 52s\tremaining: 3m 13s\n",
      "235:\tlearn 0.1962421382passed: 0.578 sec\ttotal: 2m 52s\tremaining: 3m 13s\n",
      "236:\tlearn 0.1962021139passed: 0.517 sec\ttotal: 2m 53s\tremaining: 3m 12s\n",
      "237:\tlearn 0.1961587486passed: 0.577 sec\ttotal: 2m 53s\tremaining: 3m 11s\n",
      "238:\tlearn 0.1961335688passed: 0.528 sec\ttotal: 2m 54s\tremaining: 3m 10s\n",
      "239:\tlearn 0.1960952698passed: 0.527 sec\ttotal: 2m 54s\tremaining: 3m 9s\n",
      "240:\tlearn 0.1960277957passed: 0.548 sec\ttotal: 2m 55s\tremaining: 3m 8s\n",
      "241:\tlearn 0.1959829508passed: 0.543 sec\ttotal: 2m 55s\tremaining: 3m 7s\n",
      "242:\tlearn 0.195952119passed: 0.53 sec\ttotal: 2m 56s\tremaining: 3m 6s\n",
      "243:\tlearn 0.1959162364passed: 0.531 sec\ttotal: 2m 56s\tremaining: 3m 5s\n",
      "244:\tlearn 0.1958892948passed: 0.526 sec\ttotal: 2m 57s\tremaining: 3m 4s\n",
      "245:\tlearn 0.1958414854passed: 0.585 sec\ttotal: 2m 58s\tremaining: 3m 3s\n",
      "246:\tlearn 0.1957757575passed: 0.542 sec\ttotal: 2m 58s\tremaining: 3m 2s\n",
      "247:\tlearn 0.1957260364passed: 0.539 sec\ttotal: 2m 59s\tremaining: 3m 1s\n",
      "248:\tlearn 0.1956995657passed: 0.55 sec\ttotal: 2m 59s\tremaining: 3m 1s\n",
      "249:\tlearn 0.195670497passed: 0.532 sec\ttotal: 3m\tremaining: 3m\n",
      "250:\tlearn 0.1956448193passed: 0.553 sec\ttotal: 3m\tremaining: 2m 59s\n",
      "251:\tlearn 0.1956219769passed: 0.562 sec\ttotal: 3m 1s\tremaining: 2m 58s\n",
      "252:\tlearn 0.1955938653passed: 0.501 sec\ttotal: 3m 1s\tremaining: 2m 57s\n",
      "253:\tlearn 0.195562412passed: 0.527 sec\ttotal: 3m 2s\tremaining: 2m 56s\n",
      "254:\tlearn 0.1955251451passed: 0.557 sec\ttotal: 3m 2s\tremaining: 2m 55s\n",
      "255:\tlearn 0.1954680041passed: 0.521 sec\ttotal: 3m 3s\tremaining: 2m 54s\n",
      "256:\tlearn 0.1954442084passed: 0.528 sec\ttotal: 3m 3s\tremaining: 2m 53s\n",
      "257:\tlearn 0.1954116902passed: 0.524 sec\ttotal: 3m 4s\tremaining: 2m 53s\n",
      "258:\tlearn 0.1953820045passed: 0.525 sec\ttotal: 3m 4s\tremaining: 2m 52s\n",
      "259:\tlearn 0.1953494456passed: 0.553 sec\ttotal: 3m 5s\tremaining: 2m 51s\n",
      "260:\tlearn 0.1952758236passed: 0.516 sec\ttotal: 3m 6s\tremaining: 2m 50s\n",
      "261:\tlearn 0.1952399945passed: 0.553 sec\ttotal: 3m 6s\tremaining: 2m 49s\n",
      "262:\tlearn 0.1951825339passed: 0.582 sec\ttotal: 3m 7s\tremaining: 2m 48s\n",
      "263:\tlearn 0.1951656509passed: 0.546 sec\ttotal: 3m 7s\tremaining: 2m 47s\n",
      "264:\tlearn 0.1951051559passed: 0.555 sec\ttotal: 3m 8s\tremaining: 2m 46s\n",
      "265:\tlearn 0.1950537246passed: 0.513 sec\ttotal: 3m 8s\tremaining: 2m 46s\n",
      "266:\tlearn 0.1950334446passed: 0.537 sec\ttotal: 3m 9s\tremaining: 2m 45s\n",
      "267:\tlearn 0.1950160008passed: 0.535 sec\ttotal: 3m 9s\tremaining: 2m 44s\n",
      "268:\tlearn 0.1949836531passed: 0.547 sec\ttotal: 3m 10s\tremaining: 2m 43s\n",
      "269:\tlearn 0.1949349304passed: 0.543 sec\ttotal: 3m 10s\tremaining: 2m 42s\n",
      "270:\tlearn 0.1949154697passed: 0.532 sec\ttotal: 3m 11s\tremaining: 2m 41s\n",
      "271:\tlearn 0.1948828177passed: 0.526 sec\ttotal: 3m 12s\tremaining: 2m 40s\n",
      "272:\tlearn 0.1948597159passed: 0.516 sec\ttotal: 3m 12s\tremaining: 2m 40s\n",
      "273:\tlearn 0.1948337598passed: 0.51 sec\ttotal: 3m 13s\tremaining: 2m 39s\n",
      "274:\tlearn 0.1948121042passed: 0.575 sec\ttotal: 3m 13s\tremaining: 2m 38s\n",
      "275:\tlearn 0.1947609376passed: 0.585 sec\ttotal: 3m 14s\tremaining: 2m 37s\n",
      "276:\tlearn 0.194731769passed: 0.534 sec\ttotal: 3m 14s\tremaining: 2m 36s\n",
      "277:\tlearn 0.1947090944passed: 0.53 sec\ttotal: 3m 15s\tremaining: 2m 35s\n",
      "278:\tlearn 0.1946662697passed: 0.538 sec\ttotal: 3m 15s\tremaining: 2m 35s\n",
      "279:\tlearn 0.1946467451passed: 0.508 sec\ttotal: 3m 16s\tremaining: 2m 34s\n",
      "280:\tlearn 0.1946232812passed: 0.52 sec\ttotal: 3m 16s\tremaining: 2m 33s\n",
      "281:\tlearn 0.1946007849passed: 0.514 sec\ttotal: 3m 17s\tremaining: 2m 32s\n",
      "282:\tlearn 0.1945801501passed: 0.525 sec\ttotal: 3m 17s\tremaining: 2m 31s\n",
      "283:\tlearn 0.194525996passed: 0.513 sec\ttotal: 3m 18s\tremaining: 2m 30s\n",
      "284:\tlearn 0.1945007336passed: 0.535 sec\ttotal: 3m 18s\tremaining: 2m 30s\n",
      "285:\tlearn 0.1944331866passed: 0.531 sec\ttotal: 3m 19s\tremaining: 2m 29s\n",
      "286:\tlearn 0.1943961453passed: 0.514 sec\ttotal: 3m 19s\tremaining: 2m 28s\n",
      "287:\tlearn 0.1943643339passed: 0.574 sec\ttotal: 3m 20s\tremaining: 2m 27s\n",
      "288:\tlearn 0.1943493904passed: 0.624 sec\ttotal: 3m 21s\tremaining: 2m 26s\n",
      "289:\tlearn 0.1943272667passed: 0.556 sec\ttotal: 3m 21s\tremaining: 2m 26s\n",
      "290:\tlearn 0.1943131775passed: 0.529 sec\ttotal: 3m 22s\tremaining: 2m 25s\n",
      "291:\tlearn 0.1942951951passed: 0.535 sec\ttotal: 3m 22s\tremaining: 2m 24s\n",
      "292:\tlearn 0.1942658141passed: 0.558 sec\ttotal: 3m 23s\tremaining: 2m 23s\n",
      "293:\tlearn 0.1942301746passed: 0.529 sec\ttotal: 3m 23s\tremaining: 2m 22s\n",
      "294:\tlearn 0.1942163255passed: 0.521 sec\ttotal: 3m 24s\tremaining: 2m 22s\n",
      "295:\tlearn 0.1941632918passed: 0.552 sec\ttotal: 3m 24s\tremaining: 2m 21s\n",
      "296:\tlearn 0.1941438732passed: 0.538 sec\ttotal: 3m 25s\tremaining: 2m 20s\n",
      "297:\tlearn 0.1940851998passed: 0.513 sec\ttotal: 3m 26s\tremaining: 2m 19s\n",
      "298:\tlearn 0.194054174passed: 0.514 sec\ttotal: 3m 26s\tremaining: 2m 18s\n",
      "299:\tlearn 0.1940077406passed: 0.554 sec\ttotal: 3m 27s\tremaining: 2m 18s\n",
      "300:\tlearn 0.193988233passed: 0.526 sec\ttotal: 3m 27s\tremaining: 2m 17s\n",
      "301:\tlearn 0.1939478133passed: 0.524 sec\ttotal: 3m 28s\tremaining: 2m 16s\n",
      "302:\tlearn 0.1939332762passed: 0.542 sec\ttotal: 3m 28s\tremaining: 2m 15s\n",
      "303:\tlearn 0.1938934549passed: 0.584 sec\ttotal: 3m 29s\tremaining: 2m 14s\n",
      "304:\tlearn 0.1938520033passed: 0.523 sec\ttotal: 3m 29s\tremaining: 2m 14s\n",
      "305:\tlearn 0.193823741passed: 0.525 sec\ttotal: 3m 30s\tremaining: 2m 13s\n",
      "306:\tlearn 0.1937876959passed: 0.545 sec\ttotal: 3m 30s\tremaining: 2m 12s\n",
      "307:\tlearn 0.1937599118passed: 0.514 sec\ttotal: 3m 31s\tremaining: 2m 11s\n",
      "308:\tlearn 0.1937402462passed: 0.538 sec\ttotal: 3m 31s\tremaining: 2m 11s\n",
      "309:\tlearn 0.1937261286passed: 0.517 sec\ttotal: 3m 32s\tremaining: 2m 10s\n",
      "310:\tlearn 0.1937033652passed: 0.527 sec\ttotal: 3m 32s\tremaining: 2m 9s\n",
      "311:\tlearn 0.1936527752passed: 0.563 sec\ttotal: 3m 33s\tremaining: 2m 8s\n",
      "312:\tlearn 0.1935817714passed: 0.521 sec\ttotal: 3m 34s\tremaining: 2m 7s\n",
      "313:\tlearn 0.1935553348passed: 0.542 sec\ttotal: 3m 34s\tremaining: 2m 7s\n",
      "314:\tlearn 0.1935302642passed: 0.518 sec\ttotal: 3m 35s\tremaining: 2m 6s\n",
      "315:\tlearn 0.1934878488passed: 0.552 sec\ttotal: 3m 35s\tremaining: 2m 5s\n",
      "316:\tlearn 0.1934702113passed: 0.551 sec\ttotal: 3m 36s\tremaining: 2m 4s\n",
      "317:\tlearn 0.1934531991passed: 0.544 sec\ttotal: 3m 36s\tremaining: 2m 4s\n",
      "318:\tlearn 0.1934105116passed: 0.602 sec\ttotal: 3m 37s\tremaining: 2m 3s\n",
      "319:\tlearn 0.1933899372passed: 0.534 sec\ttotal: 3m 37s\tremaining: 2m 2s\n",
      "320:\tlearn 0.1933718722passed: 0.584 sec\ttotal: 3m 38s\tremaining: 2m 1s\n",
      "321:\tlearn 0.1933495871passed: 0.588 sec\ttotal: 3m 39s\tremaining: 2m 1s\n",
      "322:\tlearn 0.1933235687passed: 0.571 sec\ttotal: 3m 39s\tremaining: 2m\n",
      "323:\tlearn 0.1932999535passed: 0.533 sec\ttotal: 3m 40s\tremaining: 1m 59s\n",
      "324:\tlearn 0.1932634144passed: 0.53 sec\ttotal: 3m 40s\tremaining: 1m 58s\n",
      "325:\tlearn 0.1932457693passed: 0.523 sec\ttotal: 3m 41s\tremaining: 1m 58s\n",
      "326:\tlearn 0.1932069836passed: 0.515 sec\ttotal: 3m 41s\tremaining: 1m 57s\n",
      "327:\tlearn 0.1931886157passed: 0.526 sec\ttotal: 3m 42s\tremaining: 1m 56s\n",
      "328:\tlearn 0.1931697451passed: 0.538 sec\ttotal: 3m 42s\tremaining: 1m 55s\n",
      "329:\tlearn 0.1931512834passed: 0.544 sec\ttotal: 3m 43s\tremaining: 1m 55s\n",
      "330:\tlearn 0.1931254204passed: 0.51 sec\ttotal: 3m 43s\tremaining: 1m 54s\n",
      "331:\tlearn 0.1930943172passed: 0.539 sec\ttotal: 3m 44s\tremaining: 1m 53s\n",
      "332:\tlearn 0.1930720584passed: 0.541 sec\ttotal: 3m 44s\tremaining: 1m 52s\n",
      "333:\tlearn 0.1930521876passed: 0.527 sec\ttotal: 3m 45s\tremaining: 1m 52s\n",
      "334:\tlearn 0.1930314927passed: 0.537 sec\ttotal: 3m 46s\tremaining: 1m 51s\n",
      "335:\tlearn 0.1930203168passed: 0.601 sec\ttotal: 3m 46s\tremaining: 1m 50s\n",
      "336:\tlearn 0.1930033997passed: 0.531 sec\ttotal: 3m 47s\tremaining: 1m 49s\n",
      "337:\tlearn 0.1929669828passed: 0.552 sec\ttotal: 3m 47s\tremaining: 1m 49s\n",
      "338:\tlearn 0.1929489761passed: 0.553 sec\ttotal: 3m 48s\tremaining: 1m 48s\n",
      "339:\tlearn 0.1929274513passed: 0.514 sec\ttotal: 3m 48s\tremaining: 1m 47s\n",
      "340:\tlearn 0.1929032515passed: 0.511 sec\ttotal: 3m 49s\tremaining: 1m 46s\n",
      "341:\tlearn 0.1928831255passed: 0.554 sec\ttotal: 3m 49s\tremaining: 1m 46s\n",
      "342:\tlearn 0.1928638925passed: 0.539 sec\ttotal: 3m 50s\tremaining: 1m 45s\n"
     ]
    },
    {
     "name": "stdout",
     "output_type": "stream",
     "text": [
      "343:\tlearn 0.1928359846passed: 0.519 sec\ttotal: 3m 50s\tremaining: 1m 44s\n",
      "344:\tlearn 0.1928112854passed: 0.554 sec\ttotal: 3m 51s\tremaining: 1m 43s\n",
      "345:\tlearn 0.1927919712passed: 0.541 sec\ttotal: 3m 52s\tremaining: 1m 43s\n",
      "346:\tlearn 0.1927697079passed: 0.506 sec\ttotal: 3m 52s\tremaining: 1m 42s\n",
      "347:\tlearn 0.1927455214passed: 0.551 sec\ttotal: 3m 53s\tremaining: 1m 41s\n",
      "348:\tlearn 0.192704163passed: 0.558 sec\ttotal: 3m 53s\tremaining: 1m 41s\n",
      "349:\tlearn 0.1926673434passed: 0.609 sec\ttotal: 3m 54s\tremaining: 1m 40s\n",
      "350:\tlearn 0.192648995passed: 0.54 sec\ttotal: 3m 54s\tremaining: 1m 39s\n",
      "351:\tlearn 0.1926107789passed: 0.559 sec\ttotal: 3m 55s\tremaining: 1m 38s\n",
      "352:\tlearn 0.1925968873passed: 0.529 sec\ttotal: 3m 55s\tremaining: 1m 38s\n",
      "353:\tlearn 0.1925790649passed: 0.538 sec\ttotal: 3m 56s\tremaining: 1m 37s\n",
      "354:\tlearn 0.1925226569passed: 0.529 sec\ttotal: 3m 56s\tremaining: 1m 36s\n",
      "355:\tlearn 0.1925026972passed: 0.531 sec\ttotal: 3m 57s\tremaining: 1m 36s\n",
      "356:\tlearn 0.192487964passed: 0.561 sec\ttotal: 3m 58s\tremaining: 1m 35s\n",
      "357:\tlearn 0.1924504411passed: 0.618 sec\ttotal: 3m 58s\tremaining: 1m 34s\n",
      "358:\tlearn 0.192429278passed: 0.531 sec\ttotal: 3m 59s\tremaining: 1m 33s\n",
      "359:\tlearn 0.1923740693passed: 0.566 sec\ttotal: 3m 59s\tremaining: 1m 33s\n",
      "360:\tlearn 0.1923377477passed: 0.551 sec\ttotal: 4m\tremaining: 1m 32s\n",
      "361:\tlearn 0.1923162533passed: 0.51 sec\ttotal: 4m\tremaining: 1m 31s\n",
      "362:\tlearn 0.19229512passed: 0.532 sec\ttotal: 4m 1s\tremaining: 1m 31s\n",
      "363:\tlearn 0.1922750965passed: 0.521 sec\ttotal: 4m 1s\tremaining: 1m 30s\n",
      "364:\tlearn 0.192245186passed: 0.534 sec\ttotal: 4m 2s\tremaining: 1m 29s\n",
      "365:\tlearn 0.1922263091passed: 0.517 sec\ttotal: 4m 2s\tremaining: 1m 28s\n",
      "366:\tlearn 0.192209846passed: 0.546 sec\ttotal: 4m 3s\tremaining: 1m 28s\n",
      "367:\tlearn 0.1921938128passed: 0.528 sec\ttotal: 4m 4s\tremaining: 1m 27s\n",
      "368:\tlearn 0.1921696412passed: 0.541 sec\ttotal: 4m 4s\tremaining: 1m 26s\n",
      "369:\tlearn 0.1921415413passed: 0.536 sec\ttotal: 4m 5s\tremaining: 1m 26s\n",
      "370:\tlearn 0.1921107803passed: 0.548 sec\ttotal: 4m 5s\tremaining: 1m 25s\n",
      "371:\tlearn 0.192098604passed: 0.567 sec\ttotal: 4m 6s\tremaining: 1m 24s\n",
      "372:\tlearn 0.1920755476passed: 0.536 sec\ttotal: 4m 6s\tremaining: 1m 24s\n",
      "373:\tlearn 0.1920555906passed: 0.541 sec\ttotal: 4m 7s\tremaining: 1m 23s\n",
      "374:\tlearn 0.1920377138passed: 0.527 sec\ttotal: 4m 7s\tremaining: 1m 22s\n",
      "375:\tlearn 0.1920089177passed: 0.521 sec\ttotal: 4m 8s\tremaining: 1m 21s\n",
      "376:\tlearn 0.191991086passed: 0.523 sec\ttotal: 4m 8s\tremaining: 1m 21s\n",
      "377:\tlearn 0.1919659238passed: 0.539 sec\ttotal: 4m 9s\tremaining: 1m 20s\n",
      "378:\tlearn 0.1919476286passed: 0.525 sec\ttotal: 4m 9s\tremaining: 1m 19s\n",
      "379:\tlearn 0.1919108825passed: 0.53 sec\ttotal: 4m 10s\tremaining: 1m 19s\n",
      "380:\tlearn 0.1918964346passed: 0.508 sec\ttotal: 4m 10s\tremaining: 1m 18s\n",
      "381:\tlearn 0.1918776253passed: 0.518 sec\ttotal: 4m 11s\tremaining: 1m 17s\n",
      "382:\tlearn 0.1918630566passed: 0.511 sec\ttotal: 4m 11s\tremaining: 1m 16s\n",
      "383:\tlearn 0.1918418233passed: 0.563 sec\ttotal: 4m 12s\tremaining: 1m 16s\n",
      "384:\tlearn 0.191831693passed: 0.581 sec\ttotal: 4m 13s\tremaining: 1m 15s\n",
      "385:\tlearn 0.1917802408passed: 0.618 sec\ttotal: 4m 13s\tremaining: 1m 14s\n",
      "386:\tlearn 0.1917429219passed: 0.55 sec\ttotal: 4m 14s\tremaining: 1m 14s\n",
      "387:\tlearn 0.191721559passed: 0.545 sec\ttotal: 4m 14s\tremaining: 1m 13s\n",
      "388:\tlearn 0.1917010001passed: 0.534 sec\ttotal: 4m 15s\tremaining: 1m 12s\n",
      "389:\tlearn 0.1916888739passed: 0.508 sec\ttotal: 4m 15s\tremaining: 1m 12s\n",
      "390:\tlearn 0.1916614927passed: 0.566 sec\ttotal: 4m 16s\tremaining: 1m 11s\n",
      "391:\tlearn 0.1916373218passed: 0.535 sec\ttotal: 4m 16s\tremaining: 1m 10s\n",
      "392:\tlearn 0.1916228444passed: 0.52 sec\ttotal: 4m 17s\tremaining: 1m 10s\n",
      "393:\tlearn 0.1916012703passed: 0.53 sec\ttotal: 4m 18s\tremaining: 1m 9s\n",
      "394:\tlearn 0.191587136passed: 0.511 sec\ttotal: 4m 18s\tremaining: 1m 8s\n",
      "395:\tlearn 0.1915748742passed: 0.516 sec\ttotal: 4m 19s\tremaining: 1m 8s\n",
      "396:\tlearn 0.1915656111passed: 0.514 sec\ttotal: 4m 19s\tremaining: 1m 7s\n",
      "397:\tlearn 0.1915331182passed: 0.526 sec\ttotal: 4m 20s\tremaining: 1m 6s\n",
      "398:\tlearn 0.1915214013passed: 0.582 sec\ttotal: 4m 20s\tremaining: 1m 5s\n",
      "399:\tlearn 0.1914935263passed: 0.538 sec\ttotal: 4m 21s\tremaining: 1m 5s\n",
      "400:\tlearn 0.1914594704passed: 0.556 sec\ttotal: 4m 21s\tremaining: 1m 4s\n",
      "401:\tlearn 0.1914199125passed: 0.519 sec\ttotal: 4m 22s\tremaining: 1m 3s\n",
      "402:\tlearn 0.1914041342passed: 0.522 sec\ttotal: 4m 22s\tremaining: 1m 3s\n",
      "403:\tlearn 0.1913908784passed: 0.517 sec\ttotal: 4m 23s\tremaining: 1m 2s\n",
      "404:\tlearn 0.1913566683passed: 0.536 sec\ttotal: 4m 23s\tremaining: 1m 1s\n",
      "405:\tlearn 0.1913218023passed: 0.561 sec\ttotal: 4m 24s\tremaining: 1m 1s\n",
      "406:\tlearn 0.191303441passed: 0.518 sec\ttotal: 4m 24s\tremaining: 1m\n",
      "407:\tlearn 0.1912756159passed: 0.537 sec\ttotal: 4m 25s\tremaining: 59.9s\n",
      "408:\tlearn 0.1912553654passed: 0.543 sec\ttotal: 4m 26s\tremaining: 59.2s\n",
      "409:\tlearn 0.1912427058passed: 0.517 sec\ttotal: 4m 26s\tremaining: 58.5s\n",
      "410:\tlearn 0.1912272659passed: 0.524 sec\ttotal: 4m 27s\tremaining: 57.8s\n",
      "411:\tlearn 0.1911862381passed: 0.549 sec\ttotal: 4m 27s\tremaining: 57.2s\n",
      "412:\tlearn 0.1911761197passed: 0.577 sec\ttotal: 4m 28s\tremaining: 56.5s\n",
      "413:\tlearn 0.1911595988passed: 0.531 sec\ttotal: 4m 28s\tremaining: 55.8s\n",
      "414:\tlearn 0.1911444833passed: 0.551 sec\ttotal: 4m 29s\tremaining: 55.2s\n",
      "415:\tlearn 0.1911220201passed: 0.536 sec\ttotal: 4m 29s\tremaining: 54.5s\n",
      "416:\tlearn 0.1911052067passed: 0.517 sec\ttotal: 4m 30s\tremaining: 53.8s\n",
      "417:\tlearn 0.191087313passed: 0.51 sec\ttotal: 4m 30s\tremaining: 53.1s\n",
      "418:\tlearn 0.191064925passed: 0.533 sec\ttotal: 4m 31s\tremaining: 52.5s\n",
      "419:\tlearn 0.1910484808passed: 0.517 sec\ttotal: 4m 31s\tremaining: 51.8s\n",
      "420:\tlearn 0.1910049361passed: 0.52 sec\ttotal: 4m 32s\tremaining: 51.1s\n",
      "421:\tlearn 0.1909806183passed: 0.523 sec\ttotal: 4m 32s\tremaining: 50.5s\n",
      "422:\tlearn 0.1909661543passed: 0.519 sec\ttotal: 4m 33s\tremaining: 49.8s\n",
      "423:\tlearn 0.1909210227passed: 0.525 sec\ttotal: 4m 34s\tremaining: 49.1s\n",
      "424:\tlearn 0.1909094763passed: 0.533 sec\ttotal: 4m 34s\tremaining: 48.5s\n",
      "425:\tlearn 0.1908999346passed: 0.532 sec\ttotal: 4m 35s\tremaining: 47.8s\n",
      "426:\tlearn 0.190881291passed: 0.516 sec\ttotal: 4m 35s\tremaining: 47.1s\n",
      "427:\tlearn 0.190871992passed: 0.526 sec\ttotal: 4m 36s\tremaining: 46.5s\n",
      "428:\tlearn 0.1908353385passed: 0.515 sec\ttotal: 4m 36s\tremaining: 45.8s\n",
      "429:\tlearn 0.190824585passed: 0.535 sec\ttotal: 4m 37s\tremaining: 45.1s\n",
      "430:\tlearn 0.1908022909passed: 0.536 sec\ttotal: 4m 37s\tremaining: 44.5s\n",
      "431:\tlearn 0.1907747015passed: 0.565 sec\ttotal: 4m 38s\tremaining: 43.8s\n",
      "432:\tlearn 0.1907592649passed: 0.634 sec\ttotal: 4m 38s\tremaining: 43.2s\n",
      "433:\tlearn 0.1907301611passed: 0.559 sec\ttotal: 4m 39s\tremaining: 42.5s\n",
      "434:\tlearn 0.190708976passed: 0.529 sec\ttotal: 4m 40s\tremaining: 41.8s\n",
      "435:\tlearn 0.1906966228passed: 0.533 sec\ttotal: 4m 40s\tremaining: 41.2s\n",
      "436:\tlearn 0.1906753262passed: 0.549 sec\ttotal: 4m 41s\tremaining: 40.5s\n",
      "437:\tlearn 0.1906586919passed: 0.542 sec\ttotal: 4m 41s\tremaining: 39.9s\n",
      "438:\tlearn 0.1906288836passed: 0.527 sec\ttotal: 4m 42s\tremaining: 39.2s\n",
      "439:\tlearn 0.190613745passed: 0.527 sec\ttotal: 4m 42s\tremaining: 38.5s\n",
      "440:\tlearn 0.190602171passed: 0.536 sec\ttotal: 4m 43s\tremaining: 37.9s\n",
      "441:\tlearn 0.1905579335passed: 0.536 sec\ttotal: 4m 43s\tremaining: 37.2s\n",
      "442:\tlearn 0.1905422037passed: 0.533 sec\ttotal: 4m 44s\tremaining: 36.6s\n",
      "443:\tlearn 0.1905265385passed: 0.538 sec\ttotal: 4m 44s\tremaining: 35.9s\n",
      "444:\tlearn 0.1905091114passed: 0.553 sec\ttotal: 4m 45s\tremaining: 35.3s\n",
      "445:\tlearn 0.1904735962passed: 0.585 sec\ttotal: 4m 45s\tremaining: 34.6s\n",
      "446:\tlearn 0.1904511752passed: 0.558 sec\ttotal: 4m 46s\tremaining: 34s\n",
      "447:\tlearn 0.1904279377passed: 0.579 sec\ttotal: 4m 47s\tremaining: 33.3s\n",
      "448:\tlearn 0.1904139213passed: 0.531 sec\ttotal: 4m 47s\tremaining: 32.7s\n",
      "449:\tlearn 0.1903920643passed: 0.544 sec\ttotal: 4m 48s\tremaining: 32s\n",
      "450:\tlearn 0.1903772136passed: 0.522 sec\ttotal: 4m 48s\tremaining: 31.4s\n",
      "451:\tlearn 0.1903479463passed: 0.54 sec\ttotal: 4m 49s\tremaining: 30.7s\n",
      "452:\tlearn 0.1903268707passed: 0.506 sec\ttotal: 4m 49s\tremaining: 30.1s\n",
      "453:\tlearn 0.1903181681passed: 0.523 sec\ttotal: 4m 50s\tremaining: 29.4s\n",
      "454:\tlearn 0.1903006474passed: 0.556 sec\ttotal: 4m 50s\tremaining: 28.8s\n",
      "455:\tlearn 0.1902750835passed: 0.543 sec\ttotal: 4m 51s\tremaining: 28.1s\n",
      "456:\tlearn 0.190249201passed: 0.551 sec\ttotal: 4m 51s\tremaining: 27.5s\n"
     ]
    },
    {
     "name": "stdout",
     "output_type": "stream",
     "text": [
      "457:\tlearn 0.1902279184passed: 0.534 sec\ttotal: 4m 52s\tremaining: 26.8s\n",
      "458:\tlearn 0.1902137563passed: 0.619 sec\ttotal: 4m 53s\tremaining: 26.2s\n",
      "459:\tlearn 0.1901777272passed: 0.554 sec\ttotal: 4m 53s\tremaining: 25.5s\n",
      "460:\tlearn 0.1901576779passed: 0.532 sec\ttotal: 4m 54s\tremaining: 24.9s\n",
      "461:\tlearn 0.190135864passed: 0.549 sec\ttotal: 4m 54s\tremaining: 24.2s\n",
      "462:\tlearn 0.1901161395passed: 0.541 sec\ttotal: 4m 55s\tremaining: 23.6s\n",
      "463:\tlearn 0.1900976925passed: 0.536 sec\ttotal: 4m 55s\tremaining: 23s\n",
      "464:\tlearn 0.1900799372passed: 0.546 sec\ttotal: 4m 56s\tremaining: 22.3s\n",
      "465:\tlearn 0.1900483851passed: 0.517 sec\ttotal: 4m 56s\tremaining: 21.7s\n",
      "466:\tlearn 0.1900358085passed: 0.539 sec\ttotal: 4m 57s\tremaining: 21s\n",
      "467:\tlearn 0.1900078934passed: 0.541 sec\ttotal: 4m 57s\tremaining: 20.4s\n",
      "468:\tlearn 0.1899852573passed: 0.555 sec\ttotal: 4m 58s\tremaining: 19.7s\n",
      "469:\tlearn 0.1899757049passed: 0.513 sec\ttotal: 4m 59s\tremaining: 19.1s\n",
      "470:\tlearn 0.1899657512passed: 0.529 sec\ttotal: 4m 59s\tremaining: 18.4s\n",
      "471:\tlearn 0.1899322625passed: 0.571 sec\ttotal: 5m\tremaining: 17.8s\n",
      "472:\tlearn 0.1899142514passed: 0.547 sec\ttotal: 5m\tremaining: 17.2s\n",
      "473:\tlearn 0.1898871384passed: 0.531 sec\ttotal: 5m 1s\tremaining: 16.5s\n",
      "474:\tlearn 0.1898662035passed: 0.519 sec\ttotal: 5m 1s\tremaining: 15.9s\n",
      "475:\tlearn 0.189858128passed: 0.505 sec\ttotal: 5m 2s\tremaining: 15.2s\n",
      "476:\tlearn 0.1898305435passed: 0.543 sec\ttotal: 5m 2s\tremaining: 14.6s\n",
      "477:\tlearn 0.189818369passed: 0.529 sec\ttotal: 5m 3s\tremaining: 14s\n",
      "478:\tlearn 0.1898060178passed: 0.54 sec\ttotal: 5m 3s\tremaining: 13.3s\n",
      "479:\tlearn 0.1897924927passed: 0.527 sec\ttotal: 5m 4s\tremaining: 12.7s\n",
      "480:\tlearn 0.1897811447passed: 0.519 sec\ttotal: 5m 4s\tremaining: 12s\n",
      "481:\tlearn 0.1897640558passed: 0.548 sec\ttotal: 5m 5s\tremaining: 11.4s\n",
      "482:\tlearn 0.1897293598passed: 0.536 sec\ttotal: 5m 5s\tremaining: 10.8s\n",
      "483:\tlearn 0.1896947121passed: 0.549 sec\ttotal: 5m 6s\tremaining: 10.1s\n",
      "484:\tlearn 0.1896758032passed: 0.533 sec\ttotal: 5m 7s\tremaining: 9.5s\n",
      "485:\tlearn 0.1896603951passed: 0.543 sec\ttotal: 5m 7s\tremaining: 8.86s\n",
      "486:\tlearn 0.1896423738passed: 0.602 sec\ttotal: 5m 8s\tremaining: 8.23s\n",
      "487:\tlearn 0.1896242392passed: 0.553 sec\ttotal: 5m 8s\tremaining: 7.59s\n",
      "488:\tlearn 0.1896121496passed: 0.53 sec\ttotal: 5m 9s\tremaining: 6.96s\n",
      "489:\tlearn 0.189592759passed: 0.527 sec\ttotal: 5m 9s\tremaining: 6.32s\n",
      "490:\tlearn 0.1895738716passed: 0.54 sec\ttotal: 5m 10s\tremaining: 5.69s\n",
      "491:\tlearn 0.1895456931passed: 0.543 sec\ttotal: 5m 10s\tremaining: 5.05s\n",
      "492:\tlearn 0.1895177439passed: 0.521 sec\ttotal: 5m 11s\tremaining: 4.42s\n",
      "493:\tlearn 0.1895046665passed: 0.515 sec\ttotal: 5m 11s\tremaining: 3.79s\n",
      "494:\tlearn 0.189466501passed: 0.538 sec\ttotal: 5m 12s\tremaining: 3.16s\n",
      "495:\tlearn 0.1894294468passed: 0.517 sec\ttotal: 5m 13s\tremaining: 2.52s\n",
      "496:\tlearn 0.1894034422passed: 0.536 sec\ttotal: 5m 13s\tremaining: 1.89s\n",
      "497:\tlearn 0.1893935838passed: 0.501 sec\ttotal: 5m 14s\tremaining: 1.26s\n",
      "498:\tlearn 0.1893815488passed: 0.54 sec\ttotal: 5m 14s\tremaining: 630ms\n",
      "499:\tlearn 0.1893548985passed: 0.514 sec\ttotal: 5m 15s\tremaining: 0us\n",
      "CPU times: user 31min 2s, sys: 2min 4s, total: 33min 7s\n",
      "Wall time: 5min 19s\n"
     ]
    },
    {
     "data": {
      "text/plain": [
       "<catboost.core.CatBoostClassifier at 0x7f5a1cd0dac8>"
      ]
     },
     "execution_count": 6,
     "metadata": {},
     "output_type": "execute_result"
    }
   ],
   "source": [
    "model = CatBoostClassifier(iterations=500, depth=10, learning_rate=1,\n",
    "                           loss_function='CrossEntropy', logging_level='Verbose', random_seed=42, verbose=True)\n",
    "\n",
    "%time model.fit(train_df.drop(['event_id','signal','data_ind'], axis=1).values, train_df.signal.ravel())"
   ]
  },
  {
   "cell_type": "markdown",
   "metadata": {},
   "source": [
    "## Open test"
   ]
  },
  {
   "cell_type": "code",
   "execution_count": 9,
   "metadata": {},
   "outputs": [],
   "source": [
    "open_test6 = pd.read_hdf('data/milestone5/open10_extended3_6.h5', mode='r')\n",
    "open_test7 = pd.read_hdf('data/milestone5/open10_extended3_7.h5', mode='r')\n",
    "open_test8 = pd.read_hdf('data/milestone5/open10_extended3_8.h5', mode='r')\n",
    "open_test9 = pd.read_hdf('data/milestone5/open10_extended3_9.h5', mode='r')\n",
    "open_test10 = pd.read_hdf('data/milestone5/open10_extended3_10.h5', mode='r')\n",
    "\n",
    "open_test = pd.concat([open_test6, open_test7, open_test8, open_test9, open_test10])"
   ]
  },
  {
   "cell_type": "code",
   "execution_count": 10,
   "metadata": {},
   "outputs": [
    {
     "name": "stdout",
     "output_type": "stream",
     "text": [
      "CPU times: user 2min 18s, sys: 3.11 s, total: 2min 21s\n",
      "Wall time: 2min 20s\n",
      "CPU times: user 3.57 s, sys: 224 ms, total: 3.79 s\n",
      "Wall time: 3.79 s\n"
     ]
    },
    {
     "data": {
      "text/plain": [
       "0.97108331297020223"
      ]
     },
     "execution_count": 10,
     "metadata": {},
     "output_type": "execute_result"
    }
   ],
   "source": [
    "%time predict = model.predict_proba(open_test.drop(['event_id','signal','data_ind'], axis=1).values)[:,1]\n",
    "%time roc_auc_score(open_test.signal, predict)"
   ]
  },
  {
   "cell_type": "code",
   "execution_count": 11,
   "metadata": {},
   "outputs": [
    {
     "name": "stdout",
     "output_type": "stream",
     "text": [
      "CPU times: user 2min 17s, sys: 2.82 s, total: 2min 20s\n",
      "Wall time: 2min 20s\n",
      "CPU times: user 1.66 s, sys: 12 ms, total: 1.68 s\n",
      "Wall time: 1.68 s\n"
     ]
    },
    {
     "data": {
      "text/plain": [
       "0.90824823126323573"
      ]
     },
     "execution_count": 11,
     "metadata": {},
     "output_type": "execute_result"
    }
   ],
   "source": [
    "%time predict = model.predict(open_test.drop(['event_id','signal','data_ind'], axis=1).values)\n",
    "%time roc_auc_score(open_test.signal, predict)"
   ]
  },
  {
   "cell_type": "markdown",
   "metadata": {},
   "source": [
    "## CatBoost on 11 bricks"
   ]
  },
  {
   "cell_type": "code",
   "execution_count": null,
   "metadata": {
    "collapsed": true
   },
   "outputs": [],
   "source": [
    "open0 = pd.read_hdf('data/milestone5/open0_extended3.h5', mode='r')\n",
    "open1 = pd.read_hdf('data/milestone5/open10_extended3_1.h5', mode='r')\n",
    "open2 = pd.read_hdf('data/milestone5/open10_extended3_2.h5', mode='r')\n",
    "open3 = pd.read_hdf('data/milestone5/open10_extended3_3.h5', mode='r')\n",
    "open4 = pd.read_hdf('data/milestone5/open10_extended3_4.h5', mode='r')\n",
    "open5 = pd.read_hdf('data/milestone5/open10_extended3_5.h5', mode='r')\n",
    "open6 = pd.read_hdf('data/milestone5/open10_extended3_6.h5', mode='r')\n",
    "open7 = pd.read_hdf('data/milestone5/open10_extended3_7.h5', mode='r')\n",
    "open8 = pd.read_hdf('data/milestone5/open10_extended3_8.h5', mode='r')\n",
    "open9 = pd.read_hdf('data/milestone5/open10_extended3_9.h5', mode='r')\n",
    "open10 = pd.read_hdf('data/milestone5/open10_extended3_10.h5', mode='r')"
   ]
  },
  {
   "cell_type": "code",
   "execution_count": null,
   "metadata": {},
   "outputs": [],
   "source": [
    "train_df_signal = pd.concat([open0[open0.signal == True], open1[open1.signal == True], open2[open2.signal == True],\n",
    "                             open3[open3.signal == True], open4[open4.signal == True], open5[open5.signal == True],\n",
    "                             open6[open6.signal == True], open7[open7.signal == True], open8[open8.signal == True],\n",
    "                             open9[open9.signal == True], open10[open10.signal == True]])\n",
    "train_df_signal.info()"
   ]
  },
  {
   "cell_type": "code",
   "execution_count": null,
   "metadata": {},
   "outputs": [],
   "source": [
    "train_df_background = open0[open0.signal == False]\n",
    "#train_df_background = pd.concat([train_df_background, open10[open10.signal == False]])\n",
    "train_df_background.info()"
   ]
  },
  {
   "cell_type": "code",
   "execution_count": null,
   "metadata": {},
   "outputs": [],
   "source": [
    "train_df = pd.concat([train_df_signal, train_df_background[:train_df_signal.shape[0]]])\n",
    "train_df.info()"
   ]
  },
  {
   "cell_type": "code",
   "execution_count": null,
   "metadata": {},
   "outputs": [],
   "source": [
    "model = CatBoostClassifier(iterations=500, depth=10, learning_rate=1, #l2_leaf_reg=0.01,\n",
    "                           loss_function='CrossEntropy', logging_level='Verbose', random_seed=42, verbose=True)\n",
    "\n",
    "%time model.fit(train_df.drop(['event_id','signal','data_ind'], axis=1).values, train_df.signal.ravel())"
   ]
  },
  {
   "cell_type": "markdown",
   "metadata": {},
   "source": [
    "## Close test"
   ]
  },
  {
   "cell_type": "code",
   "execution_count": null,
   "metadata": {},
   "outputs": [],
   "source": [
    "test = pd.read_hdf('data/milestone5/test_extended3.h5', mode='r')"
   ]
  },
  {
   "cell_type": "code",
   "execution_count": null,
   "metadata": {},
   "outputs": [],
   "source": [
    "test.info()"
   ]
  },
  {
   "cell_type": "code",
   "execution_count": null,
   "metadata": {
    "collapsed": true
   },
   "outputs": [],
   "source": [
    "test['predict_proba'] = model.predict_proba(test.drop(['id','data_ind'], axis=1).values)[:,1]\n",
    "test['predict'] = model.predict(test.drop(['id','data_ind','predict_proba'], axis=1).values)\n",
    "\n",
    "test['predict_proba'] = test['predict_proba'].astype(np.float32)\n",
    "test['predict'] = test['predict'].astype(np.float32)"
   ]
  },
  {
   "cell_type": "code",
   "execution_count": null,
   "metadata": {
    "collapsed": true
   },
   "outputs": [],
   "source": [
    "test.to_hdf('data/milestone5/test_with_signal_11_06.h5','key_to_store',mode='w')"
   ]
  },
  {
   "cell_type": "markdown",
   "metadata": {},
   "source": [
    "## Make solution"
   ]
  },
  {
   "cell_type": "code",
   "execution_count": null,
   "metadata": {},
   "outputs": [],
   "source": [
    "test = pd.read_hdf('data/milestone5/test_with_signal_11_06.h5', mode='r')"
   ]
  },
  {
   "cell_type": "code",
   "execution_count": null,
   "metadata": {},
   "outputs": [],
   "source": [
    "test.head()"
   ]
  },
  {
   "cell_type": "code",
   "execution_count": null,
   "metadata": {},
   "outputs": [],
   "source": [
    "result = pd.DataFrame()\n",
    "result['id'] = (np.int32)(range(2958072))\n",
    "result = pd.merge(result, test[['id','predict_proba']], how='left',on='id').fillna(1.0)"
   ]
  },
  {
   "cell_type": "code",
   "execution_count": null,
   "metadata": {},
   "outputs": [],
   "source": [
    "result.head()"
   ]
  },
  {
   "cell_type": "code",
   "execution_count": null,
   "metadata": {},
   "outputs": [],
   "source": [
    "result['class_0'] = 1.0 - result.predict_proba\n",
    "for i in range(1,50):\n",
    "    result['class_{}'.format(i)] = (np.float32)((result.predict_proba) / 1000.0)"
   ]
  },
  {
   "cell_type": "code",
   "execution_count": null,
   "metadata": {},
   "outputs": [],
   "source": [
    "result.head()"
   ]
  },
  {
   "cell_type": "code",
   "execution_count": null,
   "metadata": {},
   "outputs": [],
   "source": [
    "result.drop(['predict_proba'], axis=1).to_csv('data/milestone5/result_11_06_5.csv', index=False, float_format='%.4f')"
   ]
  },
  {
   "cell_type": "markdown",
   "metadata": {},
   "source": [
    "public: 0.21869 privat: 0.19213"
   ]
  }
 ],
 "metadata": {
  "kernelspec": {
   "display_name": "Python 3",
   "language": "python",
   "name": "python3"
  },
  "language_info": {
   "codemirror_mode": {
    "name": "ipython",
    "version": 3
   },
   "file_extension": ".py",
   "mimetype": "text/x-python",
   "name": "python",
   "nbconvert_exporter": "python",
   "pygments_lexer": "ipython3",
   "version": "3.6.2"
  }
 },
 "nbformat": 4,
 "nbformat_minor": 2
}
