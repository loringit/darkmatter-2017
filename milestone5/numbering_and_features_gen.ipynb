{
 "cells": [
  {
   "cell_type": "markdown",
   "metadata": {},
   "source": [
    "## Train EM-shower numbering"
   ]
  },
  {
   "cell_type": "code",
   "execution_count": 1,
   "metadata": {
    "collapsed": true
   },
   "outputs": [],
   "source": [
    "import numpy as np\n",
    "import pandas as pd\n",
    "from tqdm import tqdm_notebook"
   ]
  },
  {
   "cell_type": "code",
   "execution_count": null,
   "metadata": {
    "collapsed": true
   },
   "outputs": [],
   "source": [
    "data = pd.read_hdf('../data/milestone5/open0.h5', mode='r')"
   ]
  },
  {
   "cell_type": "code",
   "execution_count": null,
   "metadata": {},
   "outputs": [],
   "source": [
    "np.unique(data.data_ind)"
   ]
  },
  {
   "cell_type": "code",
   "execution_count": null,
   "metadata": {
    "collapsed": true
   },
   "outputs": [],
   "source": [
    "num_pic = 0"
   ]
  },
  {
   "cell_type": "code",
   "execution_count": null,
   "metadata": {
    "collapsed": true
   },
   "outputs": [],
   "source": [
    "data = data[data.data_ind == num_pic]"
   ]
  },
  {
   "cell_type": "code",
   "execution_count": null,
   "metadata": {
    "collapsed": true
   },
   "outputs": [],
   "source": [
    "data['event_id'] = data['event_id'].astype(np.int32)\n",
    "data['signal'] = data['signal'].astype(np.int32)\n",
    "data['data_ind'] = data['data_ind'].astype(np.int32)\n",
    "data['track_id'] = range(len(data))\n",
    "data['track_id'] = data['track_id'].astype(np.int32)"
   ]
  },
  {
   "cell_type": "code",
   "execution_count": null,
   "metadata": {},
   "outputs": [],
   "source": [
    "data.info()"
   ]
  },
  {
   "cell_type": "code",
   "execution_count": null,
   "metadata": {
    "collapsed": true
   },
   "outputs": [],
   "source": [
    "data_background = data[data.event_id == -999]"
   ]
  },
  {
   "cell_type": "code",
   "execution_count": null,
   "metadata": {},
   "outputs": [],
   "source": [
    "from scipy.spatial import distance\n",
    "cols = ['X', 'Y', 'Z']\n",
    "\n",
    "qq = data.loc[data.data_ind == num_pic]\n",
    "uniq = np.unique(qq.event_id)\n",
    "uniq = uniq[np.where(uniq != -999.0)]\n",
    "\n",
    "center = np.array([(qq[i].max() +  qq[i].min())/2 for i in cols])\n",
    "\n",
    "dst = []\n",
    "bad_ind = []\n",
    "for ind in tqdm_notebook(uniq):\n",
    "    min_z = min(qq.loc[qq.event_id == ind].Z)\n",
    "    start = qq.loc[((qq.Z == min_z) & (qq.event_id == ind))]\n",
    "    if (len(start.X) == 1):\n",
    "        zz = list([float(start.X), float(start.Y), float(start.Z)])\n",
    "        dst.append((ind, distance.euclidean(zz, center)))\n",
    "    else:\n",
    "        bad_ind.append(ind)\n",
    "\n",
    "\n",
    "dtype = [('prev_ind', float), ('dst', float)]\n",
    "dst = np.array(dst, dtype=dtype)\n",
    "dst.sort(order='dst')\n",
    "\n",
    "new_data = data.loc[(data.event_id == 0) & (data.data_ind == num_pic)].copy()\n",
    "new_data.data_ind.max()\n",
    "for num in tqdm_notebook(range(len(dst))):\n",
    "    ind = dst[num][0]\n",
    "    if ind not in bad_ind:\n",
    "        qq = data.loc[(data.data_ind == num_pic) & (data.event_id == ind)].copy()\n",
    "        qq.event_id = num + 1\n",
    "        new_data = pd.concat([new_data, qq], ignore_index=True)\n",
    "new_data.sample(frac=1).reset_index(drop=True)\n",
    "\n",
    "if (new_data.data_ind.max() != num_pic):\n",
    "    print(\"error. use another pic\")\n",
    "\n",
    "new_data = new_data.sample(frac=1).reset_index(drop=True)\n",
    "new_data['event_id'] = new_data['event_id'].astype(np.int32)"
   ]
  },
  {
   "cell_type": "code",
   "execution_count": null,
   "metadata": {},
   "outputs": [],
   "source": [
    "bad_ind"
   ]
  },
  {
   "cell_type": "code",
   "execution_count": null,
   "metadata": {},
   "outputs": [],
   "source": [
    "new_data.info()"
   ]
  },
  {
   "cell_type": "code",
   "execution_count": null,
   "metadata": {
    "collapsed": true
   },
   "outputs": [],
   "source": [
    "pd.concat([new_data, data_background]).sort_values(by='track_id').reset_index(drop=True).to_hdf('../data/milestone5/open{}_num.h5'.format(num_pic),'key_to_store',mode='w')"
   ]
  },
  {
   "cell_type": "markdown",
   "metadata": {},
   "source": [
    "## Feature generating: dfore, dback"
   ]
  },
  {
   "cell_type": "code",
   "execution_count": null,
   "metadata": {
    "collapsed": true
   },
   "outputs": [],
   "source": [
    "import numpy as np\n",
    "import pandas as pd"
   ]
  },
  {
   "cell_type": "code",
   "execution_count": null,
   "metadata": {
    "collapsed": true
   },
   "outputs": [],
   "source": [
    "data = pd.read_hdf('../data/milestone5/open{}_num.h5'.format(num_pic), mode='r')"
   ]
  },
  {
   "cell_type": "code",
   "execution_count": null,
   "metadata": {},
   "outputs": [],
   "source": [
    "data.info()"
   ]
  },
  {
   "cell_type": "code",
   "execution_count": null,
   "metadata": {
    "collapsed": true
   },
   "outputs": [],
   "source": [
    "data = data[data.Z % 1293 == 0]"
   ]
  },
  {
   "cell_type": "code",
   "execution_count": null,
   "metadata": {},
   "outputs": [],
   "source": [
    "zl = np.unique(data['Z'])\n",
    "zmin = np.min(zl)\n",
    "zmax = np.max(zl)\n",
    "dz = np.diff(zl)[0]\n",
    "print('zmin = {}'.format(zmin))\n",
    "print('zmax = {}'.format(zmax))\n",
    "print('len(zl) = {}'.format(len(zl)))\n",
    "print('dz = {}'.format(dz))"
   ]
  },
  {
   "cell_type": "code",
   "execution_count": null,
   "metadata": {
    "collapsed": true
   },
   "outputs": [],
   "source": [
    "def dmin(v, vl):\n",
    "    return np.min(np.sum((v.values - vl)**2, axis=1))\n",
    "def ddmin_f(efr, df):\n",
    "    z0 = efr.iloc[0]['Z']\n",
    "    if z0 == zmax:\n",
    "        efr['dfore'] = 1e6\n",
    "    else:\n",
    "        eto = df.query(\"Z=={}\".format(z0 + dz))\n",
    "        gfr = efr[[\"X1\", \"Y1\", \"X2\", \"Y2\"]]\n",
    "        gto = eto[[\"X\", \"Y\", \"X1\", \"Y1\"]]\n",
    "        d = gfr.apply(dmin, axis=1, args=(gto.values,))\n",
    "        efr['dfore'] = d\n",
    "    return efr\n",
    "def ddmin_b(eto, df):\n",
    "    z0 = eto.iloc[0]['Z']\n",
    "    if z0 == zmin:\n",
    "        eto['dback'] = 1e6\n",
    "    else:\n",
    "        efr = df.query(\"Z=={}\".format(z0 - dz))\n",
    "        gfr = efr[[\"X1\", \"Y1\", \"X2\", \"Y2\"]]\n",
    "        gto = eto[[\"X\", \"Y\", \"X1\", \"Y1\"]]\n",
    "        d = gto.apply(dmin, axis=1, args=(gfr.values,))\n",
    "        eto['dback'] = d\n",
    "    return eto\n",
    "def ddmin(ev, df):\n",
    "    return ddmin_b(ddmin_f(ev, df), df)\n",
    "def features(df):\n",
    "    dx = df['TX'] * dz\n",
    "    dy = df['TY'] * dz\n",
    "    df['X1'] = df['X'] + dx\n",
    "    df['Y1'] = df['Y'] + dy\n",
    "    df['X2'] = df['X1'] + dx\n",
    "    df['Y2'] = df['Y1'] + dy\n",
    "    return df.groupby(\"Z\").apply(ddmin, df)"
   ]
  },
  {
   "cell_type": "code",
   "execution_count": null,
   "metadata": {},
   "outputs": [],
   "source": [
    "%time data = features(data)"
   ]
  },
  {
   "cell_type": "code",
   "execution_count": null,
   "metadata": {},
   "outputs": [],
   "source": [
    "data['dfore'] = data['dfore'].astype(np.float32)\n",
    "data['dback'] = data['dback'].astype(np.float32)\n",
    "data.info()"
   ]
  },
  {
   "cell_type": "code",
   "execution_count": null,
   "metadata": {
    "collapsed": true
   },
   "outputs": [],
   "source": [
    "data.to_hdf('../data/milestone5/open{}_num_extended.h5'.format(num_pic), 'key_to_store', mode='w')"
   ]
  },
  {
   "cell_type": "markdown",
   "metadata": {},
   "source": [
    "### dfore2, dback2"
   ]
  },
  {
   "cell_type": "code",
   "execution_count": null,
   "metadata": {
    "collapsed": true
   },
   "outputs": [],
   "source": [
    "dz2 = dz*2\n",
    "def dmin(v, vl):\n",
    "    return np.min(np.sum((v.values - vl)**2, axis=1))\n",
    "def ddmin_f(efr, df):\n",
    "    z0 = efr.iloc[0]['Z']\n",
    "    if (z0 == zmax) or (z0 == (zmax - 1293)):\n",
    "        efr['dfore2'] = 1e6\n",
    "    else:\n",
    "        eto = df.query(\"Z=={}\".format(z0 + dz2))\n",
    "        gfr = efr[[\"X2\", \"Y2\", \"X3\", \"Y3\"]]\n",
    "        gto = eto[[\"X\", \"Y\", \"X1\", \"Y1\"]]\n",
    "        d = gfr.apply(dmin, axis=1, args=(gto.values,))\n",
    "        efr['dfore2'] = d\n",
    "    return efr\n",
    "def ddmin_b(eto, df):\n",
    "    z0 = eto.iloc[0]['Z']\n",
    "    if (z0 == zmin) or (z0 == (zmin + 1293)):\n",
    "        eto['dback2'] = 1e6\n",
    "    else:\n",
    "        efr = df.query(\"Z=={}\".format(z0 - dz2))\n",
    "        gfr = efr[[\"X2\", \"Y2\", \"X3\", \"Y3\"]]\n",
    "        gto = eto[[\"X\", \"Y\", \"X1\", \"Y1\"]]\n",
    "        d = gto.apply(dmin, axis=1, args=(gfr.values,))\n",
    "        eto['dback2'] = d\n",
    "    return eto\n",
    "def ddmin(ev, df):\n",
    "    return ddmin_b(ddmin_f(ev, df), df)\n",
    "def features_2_layer(df):\n",
    "    dx = df['TX'] * dz\n",
    "    dy = df['TY'] * dz\n",
    "    #df['X1'] = df['X'] + dx\n",
    "    #df['Y1'] = df['Y'] + dy\n",
    "    #df['X2'] = df['X1'] + dx\n",
    "    #df['Y2'] = df['Y1'] + dy\n",
    "    \n",
    "    df['X3'] = df['X2'] + dx\n",
    "    df['Y3'] = df['Y2'] + dy\n",
    "    \n",
    "    return df.groupby(\"Z\").apply(ddmin, df)"
   ]
  },
  {
   "cell_type": "code",
   "execution_count": null,
   "metadata": {},
   "outputs": [],
   "source": [
    "%time data = features_2_layer(data)"
   ]
  },
  {
   "cell_type": "code",
   "execution_count": null,
   "metadata": {},
   "outputs": [],
   "source": [
    "data['dfore2'] = data['dfore2'].astype(np.float32)\n",
    "data['dback2'] = data['dback2'].astype(np.float32)\n",
    "data.info()"
   ]
  },
  {
   "cell_type": "code",
   "execution_count": null,
   "metadata": {
    "collapsed": true
   },
   "outputs": [],
   "source": [
    "data.to_hdf('../data/milestone5/open{}_num_extended2.h5'.format(num_pic), 'key_to_store', mode='w')"
   ]
  },
  {
   "cell_type": "markdown",
   "metadata": {},
   "source": [
    "### dfore_simp, dback_simp"
   ]
  },
  {
   "cell_type": "code",
   "execution_count": null,
   "metadata": {
    "collapsed": true
   },
   "outputs": [],
   "source": [
    "def dmin(v, vl):\n",
    "    return np.min(np.sum((v.values - vl)**2, axis=1))\n",
    "def ddmin_f(efr, df):\n",
    "    z0 = efr.iloc[0]['Z']\n",
    "    if (z0 == zmax):\n",
    "        efr['dfore_simp'] = 1e6\n",
    "    else:\n",
    "        eto = df.query(\"Z=={}\".format(z0 + dz))\n",
    "        gfr = efr[[\"X1\", \"Y1\"]]\n",
    "        gto = eto[[\"X\", \"Y\"]]\n",
    "        d = gfr.apply(dmin, axis=1, args=(gto.values,))\n",
    "        efr['dfore_simp'] = d\n",
    "    return efr\n",
    "def ddmin_b(eto, df):\n",
    "    z0 = eto.iloc[0]['Z']\n",
    "    if (z0 == zmin):\n",
    "        eto['dback_simp'] = 1e6\n",
    "    else:\n",
    "        efr = df.query(\"Z=={}\".format(z0 - dz))\n",
    "        gfr = efr[[\"X1\", \"Y1\"]]\n",
    "        gto = eto[[\"X\", \"Y\"]]\n",
    "        d = gto.apply(dmin, axis=1, args=(gfr.values,))\n",
    "        eto['dback_simp'] = d\n",
    "    return eto\n",
    "def ddmin(ev, df):\n",
    "    return ddmin_b(ddmin_f(ev, df), df)\n",
    "def features_simp(df):\n",
    "    return df.groupby(\"Z\").apply(ddmin, df)"
   ]
  },
  {
   "cell_type": "code",
   "execution_count": null,
   "metadata": {},
   "outputs": [],
   "source": [
    "%time data = features_simp(data)"
   ]
  },
  {
   "cell_type": "code",
   "execution_count": null,
   "metadata": {},
   "outputs": [],
   "source": [
    "data['dfore_simp'] = data['dfore_simp'].astype(np.float32)\n",
    "data['dback_simp'] = data['dback_simp'].astype(np.float32)\n",
    "data.info()"
   ]
  },
  {
   "cell_type": "code",
   "execution_count": null,
   "metadata": {
    "collapsed": true
   },
   "outputs": [],
   "source": [
    "data.to_hdf('../data/milestone5/open{}_num_extended3.h5'.format(num_pic), 'key_to_store', mode='w')"
   ]
  },
  {
   "cell_type": "code",
   "execution_count": null,
   "metadata": {},
   "outputs": [],
   "source": [
    "num_pic"
   ]
  },
  {
   "cell_type": "code",
   "execution_count": null,
   "metadata": {},
   "outputs": [],
   "source": [
    "len(data[data.event_id == 8])"
   ]
  },
  {
   "cell_type": "code",
   "execution_count": null,
   "metadata": {},
   "outputs": [],
   "source": [
    "data.drop(['X','Y','Z','X1','X2','X3','Y1','Y2','Y3','event_id','signal','data_ind','track_id'], axis=1).info()"
   ]
  }
 ],
 "metadata": {
  "kernelspec": {
   "display_name": "Python 3",
   "language": "python",
   "name": "python3"
  },
  "language_info": {
   "codemirror_mode": {
    "name": "ipython",
    "version": 3
   },
   "file_extension": ".py",
   "mimetype": "text/x-python",
   "name": "python",
   "nbconvert_exporter": "python",
   "pygments_lexer": "ipython3",
   "version": "3.6.2"
  }
 },
 "nbformat": 4,
 "nbformat_minor": 2
}
