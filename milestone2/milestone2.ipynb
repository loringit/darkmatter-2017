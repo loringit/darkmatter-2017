{
 "cells": [
  {
   "cell_type": "markdown",
   "metadata": {},
   "source": [
    "## Data observe"
   ]
  },
  {
   "cell_type": "code",
   "execution_count": 117,
   "metadata": {
    "collapsed": true
   },
   "outputs": [],
   "source": [
    "import pandas as pd\n",
    "import numpy as np\n",
    "from matplotlib import pyplot as plt\n",
    "from tqdm import tqdm_notebook"
   ]
  },
  {
   "cell_type": "code",
   "execution_count": 3,
   "metadata": {
    "collapsed": true
   },
   "outputs": [],
   "source": [
    "data = pd.read_csv('~/data/milestone2/train.csv')"
   ]
  },
  {
   "cell_type": "code",
   "execution_count": 9,
   "metadata": {
    "collapsed": true
   },
   "outputs": [],
   "source": [
    "data = data.drop(['ele_P'], axis=1)\n",
    "\n",
    "data['index'] = data['index'].astype(np.int32)\n",
    "\n",
    "data['TX'] = data['TX'].astype(np.float32)\n",
    "data['TY'] = data['TY'].astype(np.float32)\n",
    "\n",
    "data['X'] = data['X'].astype(np.float32)\n",
    "data['Y'] = data['Y'].astype(np.float32)\n",
    "data['Z'] = data['Z'].astype(np.float32)\n",
    "\n",
    "data['chi2'] = data['chi2'].astype(np.float32)\n",
    "data['data_ind'] = data['data_ind'].astype(np.int32)\n",
    "data['signal'] = data['signal'].astype(np.bool)"
   ]
  },
  {
   "cell_type": "code",
   "execution_count": 10,
   "metadata": {},
   "outputs": [
    {
     "name": "stdout",
     "output_type": "stream",
     "text": [
      "<class 'pandas.core.frame.DataFrame'>\n",
      "RangeIndex: 7503968 entries, 0 to 7503967\n",
      "Data columns (total 9 columns):\n",
      "index       int32\n",
      "TX          float32\n",
      "TY          float32\n",
      "X           float32\n",
      "Y           float32\n",
      "Z           float32\n",
      "chi2        float32\n",
      "data_ind    int32\n",
      "signal      bool\n",
      "dtypes: bool(1), float32(6), int32(2)\n",
      "memory usage: 236.2 MB\n"
     ]
    }
   ],
   "source": [
    "data.info()"
   ]
  },
  {
   "cell_type": "code",
   "execution_count": 11,
   "metadata": {},
   "outputs": [
    {
     "data": {
      "text/html": [
       "<div>\n",
       "<style>\n",
       "    .dataframe thead tr:only-child th {\n",
       "        text-align: right;\n",
       "    }\n",
       "\n",
       "    .dataframe thead th {\n",
       "        text-align: left;\n",
       "    }\n",
       "\n",
       "    .dataframe tbody tr th {\n",
       "        vertical-align: top;\n",
       "    }\n",
       "</style>\n",
       "<table border=\"1\" class=\"dataframe\">\n",
       "  <thead>\n",
       "    <tr style=\"text-align: right;\">\n",
       "      <th></th>\n",
       "      <th>index</th>\n",
       "      <th>TX</th>\n",
       "      <th>TY</th>\n",
       "      <th>X</th>\n",
       "      <th>Y</th>\n",
       "      <th>Z</th>\n",
       "      <th>chi2</th>\n",
       "      <th>data_ind</th>\n",
       "      <th>signal</th>\n",
       "    </tr>\n",
       "  </thead>\n",
       "  <tbody>\n",
       "    <tr>\n",
       "      <th>0</th>\n",
       "      <td>0</td>\n",
       "      <td>0.013209</td>\n",
       "      <td>0.067202</td>\n",
       "      <td>66081.937500</td>\n",
       "      <td>52968.695312</td>\n",
       "      <td>11637.0</td>\n",
       "      <td>0.880506</td>\n",
       "      <td>0</td>\n",
       "      <td>True</td>\n",
       "    </tr>\n",
       "    <tr>\n",
       "      <th>1</th>\n",
       "      <td>1</td>\n",
       "      <td>0.014165</td>\n",
       "      <td>0.071018</td>\n",
       "      <td>66100.265625</td>\n",
       "      <td>53058.140625</td>\n",
       "      <td>12930.0</td>\n",
       "      <td>0.522405</td>\n",
       "      <td>0</td>\n",
       "      <td>True</td>\n",
       "    </tr>\n",
       "    <tr>\n",
       "      <th>2</th>\n",
       "      <td>2</td>\n",
       "      <td>0.017983</td>\n",
       "      <td>0.069956</td>\n",
       "      <td>66118.492188</td>\n",
       "      <td>53147.492188</td>\n",
       "      <td>14223.0</td>\n",
       "      <td>0.971824</td>\n",
       "      <td>0</td>\n",
       "      <td>True</td>\n",
       "    </tr>\n",
       "    <tr>\n",
       "      <th>3</th>\n",
       "      <td>3</td>\n",
       "      <td>0.013956</td>\n",
       "      <td>-0.058355</td>\n",
       "      <td>66121.281250</td>\n",
       "      <td>53082.601562</td>\n",
       "      <td>14223.0</td>\n",
       "      <td>0.771712</td>\n",
       "      <td>0</td>\n",
       "      <td>True</td>\n",
       "    </tr>\n",
       "    <tr>\n",
       "      <th>4</th>\n",
       "      <td>4</td>\n",
       "      <td>0.002209</td>\n",
       "      <td>0.045891</td>\n",
       "      <td>66116.429688</td>\n",
       "      <td>53143.609375</td>\n",
       "      <td>14223.0</td>\n",
       "      <td>0.345887</td>\n",
       "      <td>0</td>\n",
       "      <td>True</td>\n",
       "    </tr>\n",
       "  </tbody>\n",
       "</table>\n",
       "</div>"
      ],
      "text/plain": [
       "   index        TX        TY             X             Y        Z      chi2  \\\n",
       "0      0  0.013209  0.067202  66081.937500  52968.695312  11637.0  0.880506   \n",
       "1      1  0.014165  0.071018  66100.265625  53058.140625  12930.0  0.522405   \n",
       "2      2  0.017983  0.069956  66118.492188  53147.492188  14223.0  0.971824   \n",
       "3      3  0.013956 -0.058355  66121.281250  53082.601562  14223.0  0.771712   \n",
       "4      4  0.002209  0.045891  66116.429688  53143.609375  14223.0  0.345887   \n",
       "\n",
       "   data_ind  signal  \n",
       "0         0    True  \n",
       "1         0    True  \n",
       "2         0    True  \n",
       "3         0    True  \n",
       "4         0    True  "
      ]
     },
     "execution_count": 11,
     "metadata": {},
     "output_type": "execute_result"
    }
   ],
   "source": [
    "data.head()"
   ]
  },
  {
   "cell_type": "code",
   "execution_count": 49,
   "metadata": {
    "collapsed": true
   },
   "outputs": [],
   "source": [
    "def drow_brick(data, signal=None):\n",
    "    plt.figure(figsize=(16, 4))\n",
    "    for i, axis in zip([1, 2], ['X','Y']):\n",
    "        plt.subplot(1, 2, i)\n",
    "        if (signal):\n",
    "            plt.scatter(data[data.signal == signal].Z, data[data.signal == signal][axis])\n",
    "        else:\n",
    "            plt.scatter(data.Z, data[axis])\n",
    "\n",
    "        plt.title('EM shower')\n",
    "        plt.xlabel('Z')\n",
    "        plt.ylabel(axis)\n",
    "\n",
    "    plt.show()"
   ]
  },
  {
   "cell_type": "code",
   "execution_count": 50,
   "metadata": {},
   "outputs": [
    {
     "data": {
      "image/png": "[encoded data removed]",
      "text/plain": [
       "<matplotlib.figure.Figure at 0x7f2f18c59cc0>"
      ]
     },
     "metadata": {},
     "output_type": "display_data"
    }
   ],
   "source": [
    "drow_brick(data[data.data_ind == 7], signal=True)"
   ]
  },
  {
   "cell_type": "code",
   "execution_count": 86,
   "metadata": {
    "collapsed": true
   },
   "outputs": [],
   "source": [
    "def draw_tan(data):\n",
    "    plt.figure(figsize=(14, 4))\n",
    "    \n",
    "    for i, axis in zip([1, 2], ['TX','TY']):\n",
    "        plt.subplot(1, 2, i)\n",
    "        plt.hist(data[data.signal == True]['TY'].dropna(), bins=50, histtype=\"step\", normed=True)\n",
    "        plt.hist(data[data.signal == False]['TY'].dropna(), bins=50, histtype=\"step\", normed=True)\n",
    "        plt.title(axis + ' hist')\n",
    "        plt.legend(['signal','background'])\n",
    "\n",
    "    plt.show()"
   ]
  },
  {
   "cell_type": "code",
   "execution_count": 88,
   "metadata": {},
   "outputs": [
    {
     "data": {
      "image/png": "[encoded data removed]",
      "text/plain": [
       "<matplotlib.figure.Figure at 0x7f2f18ecbc88>"
      ]
     },
     "metadata": {},
     "output_type": "display_data"
    }
   ],
   "source": [
    "draw_tan(data)"
   ]
  },
  {
   "cell_type": "code",
   "execution_count": 103,
   "metadata": {
    "collapsed": true
   },
   "outputs": [],
   "source": [
    "def draw_axes(data):\n",
    "    plt.figure(figsize=(18, 4))\n",
    "    \n",
    "    for i, axis in zip([1, 2, 3], ['X','Y','Z']):\n",
    "        plt.subplot(1, 3, i)\n",
    "        plt.hist(data[data.signal == True][axis], bins=58, histtype=\"step\", normed=True)\n",
    "        plt.hist(data[data.signal == False][axis], bins=58, histtype=\"step\", normed=True)\n",
    "        plt.title(axis + ' hist')\n",
    "        plt.legend(['signal','background'])\n",
    "\n",
    "    plt.show()"
   ]
  },
  {
   "cell_type": "code",
   "execution_count": 104,
   "metadata": {},
   "outputs": [
    {
     "data": {
      "image/png": "[encoded data removed]",
      "text/plain": [
       "<matplotlib.figure.Figure at 0x7f2f18ee6a90>"
      ]
     },
     "metadata": {},
     "output_type": "display_data"
    }
   ],
   "source": [
    "draw_axes(data)"
   ]
  },
  {
   "cell_type": "code",
   "execution_count": 95,
   "metadata": {},
   "outputs": [
    {
     "data": {
      "image/png": "[encoded data removed]",
      "text/plain": [
       "<matplotlib.figure.Figure at 0x7f2f1894a470>"
      ]
     },
     "metadata": {},
     "output_type": "display_data"
    }
   ],
   "source": [
    "draw_axes(data[data.data_ind == 7])"
   ]
  },
  {
   "cell_type": "code",
   "execution_count": 99,
   "metadata": {
    "collapsed": true
   },
   "outputs": [],
   "source": [
    "def draw_chi2(data):\n",
    "    plt.hist(data[data.signal == True].chi2.dropna(), bins=50, histtype=\"step\", normed=True)\n",
    "    plt.hist(data[data.signal == False].chi2.dropna(), bins=50, histtype=\"step\", normed=True)\n",
    "    plt.title('chi2 hist')\n",
    "    plt.legend(['signal','background'])\n",
    "    plt.show()"
   ]
  },
  {
   "cell_type": "code",
   "execution_count": 100,
   "metadata": {},
   "outputs": [
    {
     "data": {
      "image/png": "[encoded data removed]",
      "text/plain": [
       "<matplotlib.figure.Figure at 0x7f2f19178358>"
      ]
     },
     "metadata": {},
     "output_type": "display_data"
    }
   ],
   "source": [
    "draw_chi2(data)"
   ]
  },
  {
   "cell_type": "markdown",
   "metadata": {},
   "source": [
    "## New features"
   ]
  },
  {
   "cell_type": "code",
   "execution_count": 191,
   "metadata": {
    "collapsed": true
   },
   "outputs": [],
   "source": [
    "def dmin(v, vl):\n",
    "    return np.min(np.sum((v.values - vl)**2, axis=1))\n",
    "def ddmin_f(efr, df):\n",
    "    z0 = efr.iloc[0]['Z']\n",
    "    if z0 == zmax:\n",
    "        efr['dfore'] = (np.float32)(1e6)\n",
    "    else:\n",
    "        eto = df.query(\"Z=={}\".format(z0 + dz))\n",
    "        gfr = efr[[\"X1\", \"Y1\", \"X2\", \"Y2\"]]\n",
    "        gto = eto[[\"X\", \"Y\", \"X1\", \"Y1\"]]\n",
    "        d = gfr.apply(dmin, axis=1, args=(gto.values,))\n",
    "        efr['dfore'] = d.astype(np.float32)\n",
    "    return efr\n",
    "def ddmin_b(eto, df):\n",
    "    z0 = eto.iloc[0]['Z']\n",
    "    if z0 == zmin:\n",
    "        eto['dback'] = (np.float32)(1e6)\n",
    "    else:\n",
    "        efr = df.query(\"Z=={}\".format(z0 - dz))\n",
    "        gfr = efr[[\"X1\", \"Y1\", \"X2\", \"Y2\"]]\n",
    "        gto = eto[[\"X\", \"Y\", \"X1\", \"Y1\"]]\n",
    "        d = gto.apply(dmin, axis=1, args=(gfr.values,))\n",
    "        eto['dback'] = d.astype(np.float32)\n",
    "    return eto\n",
    "def ddmin(ev, df):\n",
    "    return ddmin_b(ddmin_f(ev, df), df)\n",
    "def features(df):\n",
    "    dx = df['TX'] * dz\n",
    "    dy = df['TY'] * dz\n",
    "    df['X1'] = df['X'] + dx\n",
    "    df['Y1'] = df['Y'] + dy\n",
    "    df['X2'] = df['X1'] + dx\n",
    "    df['Y2'] = df['Y1'] + dy\n",
    "    return df.groupby(\"Z\").apply(ddmin, df)"
   ]
  },
  {
   "cell_type": "code",
   "execution_count": 188,
   "metadata": {},
   "outputs": [
    {
     "name": "stdout",
     "output_type": "stream",
     "text": [
      "zmin = 0.0\n",
      "zmax = 73701.0\n",
      "len(zl) = 58\n",
      "dz = 1293.0\n"
     ]
    }
   ],
   "source": [
    "zl = np.unique(brick['Z'])\n",
    "zmin = np.min(zl)\n",
    "zmax = np.max(zl)\n",
    "dz = np.diff(zl)[0]\n",
    "print('zmin = {}'.format(zmin))\n",
    "print('zmax = {}'.format(zmax))\n",
    "print('len(zl) = {}'.format(len(zl)))\n",
    "print('dz = {}'.format(dz))"
   ]
  },
  {
   "cell_type": "code",
   "execution_count": 177,
   "metadata": {
    "collapsed": true
   },
   "outputs": [],
   "source": [
    "data = data[data.Z % 1293 == 0]"
   ]
  },
  {
   "cell_type": "code",
   "execution_count": 196,
   "metadata": {},
   "outputs": [
    {
     "name": "stderr",
     "output_type": "stream",
     "text": [
      "/opt/conda/anaconda3/lib/python3.6/site-packages/ipykernel_launcher.py:30: SettingWithCopyWarning: \n",
      "A value is trying to be set on a copy of a slice from a DataFrame.\n",
      "Try using .loc[row_indexer,col_indexer] = value instead\n",
      "\n",
      "See the caveats in the documentation: http://pandas.pydata.org/pandas-docs/stable/indexing.html#indexing-view-versus-copy\n",
      "/opt/conda/anaconda3/lib/python3.6/site-packages/ipykernel_launcher.py:31: SettingWithCopyWarning: \n",
      "A value is trying to be set on a copy of a slice from a DataFrame.\n",
      "Try using .loc[row_indexer,col_indexer] = value instead\n",
      "\n",
      "See the caveats in the documentation: http://pandas.pydata.org/pandas-docs/stable/indexing.html#indexing-view-versus-copy\n",
      "/opt/conda/anaconda3/lib/python3.6/site-packages/ipykernel_launcher.py:32: SettingWithCopyWarning: \n",
      "A value is trying to be set on a copy of a slice from a DataFrame.\n",
      "Try using .loc[row_indexer,col_indexer] = value instead\n",
      "\n",
      "See the caveats in the documentation: http://pandas.pydata.org/pandas-docs/stable/indexing.html#indexing-view-versus-copy\n",
      "/opt/conda/anaconda3/lib/python3.6/site-packages/ipykernel_launcher.py:33: SettingWithCopyWarning: \n",
      "A value is trying to be set on a copy of a slice from a DataFrame.\n",
      "Try using .loc[row_indexer,col_indexer] = value instead\n",
      "\n",
      "See the caveats in the documentation: http://pandas.pydata.org/pandas-docs/stable/indexing.html#indexing-view-versus-copy\n"
     ]
    },
    {
     "data": {
      "application/vnd.jupyter.widget-view+json": {
       "model_id": "804636e32f554848988260e575e3d9c1"
      }
     },
     "metadata": {},
     "output_type": "display_data"
    },
    {
     "name": "stdout",
     "output_type": "stream",
     "text": [
      "\n",
      "\n"
     ]
    }
   ],
   "source": [
    "brick = data[data.data_ind == 0]\n",
    "data_extended = features(brick)\n",
    "\n",
    "for i in tqdm_notebook(range(1,100)):\n",
    "    brick = data[data.data_ind == i]\n",
    "    brick = features(brick)\n",
    "    data_extended = pd.concat([data_extended, brick])"
   ]
  },
  {
   "cell_type": "code",
   "execution_count": 210,
   "metadata": {},
   "outputs": [
    {
     "name": "stderr",
     "output_type": "stream",
     "text": [
      "/opt/conda/anaconda3/lib/python3.6/site-packages/ipykernel_launcher.py:36: SettingWithCopyWarning: \n",
      "A value is trying to be set on a copy of a slice from a DataFrame.\n",
      "Try using .loc[row_indexer,col_indexer] = value instead\n",
      "\n",
      "See the caveats in the documentation: http://pandas.pydata.org/pandas-docs/stable/indexing.html#indexing-view-versus-copy\n",
      "/opt/conda/anaconda3/lib/python3.6/site-packages/ipykernel_launcher.py:37: SettingWithCopyWarning: \n",
      "A value is trying to be set on a copy of a slice from a DataFrame.\n",
      "Try using .loc[row_indexer,col_indexer] = value instead\n",
      "\n",
      "See the caveats in the documentation: http://pandas.pydata.org/pandas-docs/stable/indexing.html#indexing-view-versus-copy\n"
     ]
    },
    {
     "data": {
      "application/vnd.jupyter.widget-view+json": {
       "model_id": "b9b925f17f234e23a5c1120cfd565038"
      }
     },
     "metadata": {},
     "output_type": "display_data"
    },
    {
     "name": "stdout",
     "output_type": "stream",
     "text": [
      "\n",
      "\n"
     ]
    }
   ],
   "source": [
    "dz2 = dz*2\n",
    "def dmin(v, vl):\n",
    "    return np.min(np.sum((v.values - vl)**2, axis=1))\n",
    "def ddmin_f(efr, df):\n",
    "    z0 = efr.iloc[0]['Z']\n",
    "    if (z0 == zmax) or (z0 == (zmax - 1293)):\n",
    "        efr['dfore2'] = (np.float32)(1e6)\n",
    "    else:\n",
    "        eto = df.query(\"Z=={}\".format(z0 + dz2))\n",
    "        gfr = efr[[\"X2\", \"Y2\", \"X3\", \"Y3\"]]\n",
    "        gto = eto[[\"X\", \"Y\", \"X1\", \"Y1\"]]\n",
    "        d = gfr.apply(dmin, axis=1, args=(gto.values,))\n",
    "        efr['dfore2'] = d.astype(np.float32)\n",
    "    return efr\n",
    "def ddmin_b(eto, df):\n",
    "    z0 = eto.iloc[0]['Z']\n",
    "    if (z0 == zmin) or (z0 == (zmin + 1293)):\n",
    "        eto['dback2'] = (np.float32)(1e6)\n",
    "    else:\n",
    "        efr = df.query(\"Z=={}\".format(z0 - dz2))\n",
    "        gfr = efr[[\"X2\", \"Y2\", \"X3\", \"Y3\"]]\n",
    "        gto = eto[[\"X\", \"Y\", \"X1\", \"Y1\"]]\n",
    "        d = gto.apply(dmin, axis=1, args=(gfr.values,))\n",
    "        eto['dback2'] = d.astype(np.float32)\n",
    "    return eto\n",
    "def ddmin(ev, df):\n",
    "    return ddmin_b(ddmin_f(ev, df), df)\n",
    "def features_2_layer(df):\n",
    "    dx = df['TX'] * dz\n",
    "    dy = df['TY'] * dz\n",
    "    #df['X1'] = df['X'] + dx\n",
    "    #df['Y1'] = df['Y'] + dy\n",
    "    #df['X2'] = df['X1'] + dx\n",
    "    #df['Y2'] = df['Y1'] + dy\n",
    "    \n",
    "    df['X3'] = df['X2'] + dx\n",
    "    df['Y3'] = df['Y2'] + dy\n",
    "    \n",
    "    return df.groupby(\"Z\").apply(ddmin, df)\n",
    "\n",
    "\n",
    "brick = data_extended[data_extended.data_ind == 0]\n",
    "data_extended2 = features_2_layer(brick)\n",
    "\n",
    "for i in tqdm_notebook(range(1,100)):\n",
    "    brick = data_extended[data_extended.data_ind == i]\n",
    "    brick = features_2_layer(brick)\n",
    "    data_extended2 = pd.concat([data_extended2, brick])"
   ]
  },
  {
   "cell_type": "code",
   "execution_count": 212,
   "metadata": {},
   "outputs": [
    {
     "data": {
      "application/vnd.jupyter.widget-view+json": {
       "model_id": "293b0382d3ba464dbb2a21c1fc65cf78"
      }
     },
     "metadata": {},
     "output_type": "display_data"
    },
    {
     "name": "stdout",
     "output_type": "stream",
     "text": [
      "\n"
     ]
    }
   ],
   "source": [
    "def dmin(v, vl):\n",
    "    return np.min(np.sum((v.values - vl)**2, axis=1))\n",
    "def ddmin_f(efr, df):\n",
    "    z0 = efr.iloc[0]['Z']\n",
    "    if (z0 == zmax):\n",
    "        efr['dfore_simp'] = (np.float32)(1e6)\n",
    "    else:\n",
    "        eto = df.query(\"Z=={}\".format(z0 + dz))\n",
    "        gfr = efr[[\"X1\", \"Y1\"]]\n",
    "        gto = eto[[\"X\", \"Y\"]]\n",
    "        d = gfr.apply(dmin, axis=1, args=(gto.values,))\n",
    "        efr['dfore_simp'] = d.astype(np.float32)\n",
    "    return efr\n",
    "def ddmin_b(eto, df):\n",
    "    z0 = eto.iloc[0]['Z']\n",
    "    if (z0 == zmin):\n",
    "        eto['dback_simp'] = (np.float32)(1e6)\n",
    "    else:\n",
    "        efr = df.query(\"Z=={}\".format(z0 - dz))\n",
    "        gfr = efr[[\"X1\", \"Y1\"]]\n",
    "        gto = eto[[\"X\", \"Y\"]]\n",
    "        d = gto.apply(dmin, axis=1, args=(gfr.values,))\n",
    "        eto['dback_simp'] = d.astype(np.float32)\n",
    "    return eto\n",
    "def ddmin(ev, df):\n",
    "    return ddmin_b(ddmin_f(ev, df), df)\n",
    "def features_simp(df):\n",
    "    return df.groupby(\"Z\").apply(ddmin, df)\n",
    "\n",
    "\n",
    "brick = data_extended2[data_extended2.data_ind == 0]\n",
    "data_extended3 = features_simp(brick)\n",
    "\n",
    "for i in tqdm_notebook(range(1,100)):\n",
    "    brick = data_extended2[data_extended2.data_ind == i]\n",
    "    brick = features_simp(brick)\n",
    "    data_extended3 = pd.concat([data_extended3, brick])"
   ]
  },
  {
   "cell_type": "code",
   "execution_count": 213,
   "metadata": {},
   "outputs": [
    {
     "name": "stdout",
     "output_type": "stream",
     "text": [
      "<class 'pandas.core.frame.DataFrame'>\n",
      "Int64Index: 1504417 entries, 0 to 2039567\n",
      "Data columns (total 21 columns):\n",
      "index         1504417 non-null int32\n",
      "TX            1504417 non-null float32\n",
      "TY            1504417 non-null float32\n",
      "X             1504417 non-null float32\n",
      "Y             1504417 non-null float32\n",
      "Z             1504417 non-null float32\n",
      "chi2          1504417 non-null float32\n",
      "data_ind      1504417 non-null int32\n",
      "signal        1504417 non-null bool\n",
      "X1            1504417 non-null float32\n",
      "Y1            1504417 non-null float32\n",
      "X2            1504417 non-null float32\n",
      "Y2            1504417 non-null float32\n",
      "dfore         1504417 non-null float32\n",
      "dback         1504417 non-null float32\n",
      "X3            1504417 non-null float32\n",
      "Y3            1504417 non-null float32\n",
      "dfore2        1504417 non-null float32\n",
      "dback2        1504417 non-null float32\n",
      "dfore_simp    1504417 non-null float32\n",
      "dback_simp    1504417 non-null float32\n",
      "dtypes: bool(1), float32(18), int32(2)\n",
      "memory usage: 127.7 MB\n"
     ]
    }
   ],
   "source": [
    "data_extended3.info()"
   ]
  },
  {
   "cell_type": "code",
   "execution_count": 214,
   "metadata": {},
   "outputs": [
    {
     "data": {
      "text/html": [
       "<div>\n",
       "<style>\n",
       "    .dataframe thead tr:only-child th {\n",
       "        text-align: right;\n",
       "    }\n",
       "\n",
       "    .dataframe thead th {\n",
       "        text-align: left;\n",
       "    }\n",
       "\n",
       "    .dataframe tbody tr th {\n",
       "        vertical-align: top;\n",
       "    }\n",
       "</style>\n",
       "<table border=\"1\" class=\"dataframe\">\n",
       "  <thead>\n",
       "    <tr style=\"text-align: right;\">\n",
       "      <th></th>\n",
       "      <th>index</th>\n",
       "      <th>TX</th>\n",
       "      <th>TY</th>\n",
       "      <th>X</th>\n",
       "      <th>Y</th>\n",
       "      <th>Z</th>\n",
       "      <th>chi2</th>\n",
       "      <th>data_ind</th>\n",
       "      <th>signal</th>\n",
       "      <th>X1</th>\n",
       "      <th>...</th>\n",
       "      <th>X2</th>\n",
       "      <th>Y2</th>\n",
       "      <th>dfore</th>\n",
       "      <th>dback</th>\n",
       "      <th>X3</th>\n",
       "      <th>Y3</th>\n",
       "      <th>dfore2</th>\n",
       "      <th>dback2</th>\n",
       "      <th>dfore_simp</th>\n",
       "      <th>dback_simp</th>\n",
       "    </tr>\n",
       "  </thead>\n",
       "  <tbody>\n",
       "    <tr>\n",
       "      <th>0</th>\n",
       "      <td>0</td>\n",
       "      <td>0.013209</td>\n",
       "      <td>0.067202</td>\n",
       "      <td>66081.937500</td>\n",
       "      <td>52968.695312</td>\n",
       "      <td>11637.0</td>\n",
       "      <td>0.880506</td>\n",
       "      <td>0</td>\n",
       "      <td>True</td>\n",
       "      <td>66099.015625</td>\n",
       "      <td>...</td>\n",
       "      <td>66116.093750</td>\n",
       "      <td>53142.484375</td>\n",
       "      <td>70.256973</td>\n",
       "      <td>1.915982e+07</td>\n",
       "      <td>66133.171875</td>\n",
       "      <td>53229.378906</td>\n",
       "      <td>177.664261</td>\n",
       "      <td>2.891000e+06</td>\n",
       "      <td>8.068985</td>\n",
       "      <td>1.072171e+07</td>\n",
       "    </tr>\n",
       "    <tr>\n",
       "      <th>1</th>\n",
       "      <td>1</td>\n",
       "      <td>0.014165</td>\n",
       "      <td>0.071018</td>\n",
       "      <td>66100.265625</td>\n",
       "      <td>53058.140625</td>\n",
       "      <td>12930.0</td>\n",
       "      <td>0.522405</td>\n",
       "      <td>0</td>\n",
       "      <td>True</td>\n",
       "      <td>66118.578125</td>\n",
       "      <td>...</td>\n",
       "      <td>66136.890625</td>\n",
       "      <td>53241.796875</td>\n",
       "      <td>44.512939</td>\n",
       "      <td>7.025697e+01</td>\n",
       "      <td>66155.203125</td>\n",
       "      <td>53333.625000</td>\n",
       "      <td>55.864685</td>\n",
       "      <td>1.543606e+07</td>\n",
       "      <td>6.140747</td>\n",
       "      <td>8.068985e+00</td>\n",
       "    </tr>\n",
       "    <tr>\n",
       "      <th>2</th>\n",
       "      <td>2</td>\n",
       "      <td>0.017983</td>\n",
       "      <td>0.069956</td>\n",
       "      <td>66118.492188</td>\n",
       "      <td>53147.492188</td>\n",
       "      <td>14223.0</td>\n",
       "      <td>0.971824</td>\n",
       "      <td>0</td>\n",
       "      <td>True</td>\n",
       "      <td>66141.742188</td>\n",
       "      <td>...</td>\n",
       "      <td>66164.992188</td>\n",
       "      <td>53328.398438</td>\n",
       "      <td>183.387268</td>\n",
       "      <td>4.451294e+01</td>\n",
       "      <td>66188.242188</td>\n",
       "      <td>53418.851562</td>\n",
       "      <td>552.480896</td>\n",
       "      <td>1.776643e+02</td>\n",
       "      <td>28.555908</td>\n",
       "      <td>6.140747e+00</td>\n",
       "    </tr>\n",
       "    <tr>\n",
       "      <th>3</th>\n",
       "      <td>3</td>\n",
       "      <td>0.013956</td>\n",
       "      <td>-0.058355</td>\n",
       "      <td>66121.281250</td>\n",
       "      <td>53082.601562</td>\n",
       "      <td>14223.0</td>\n",
       "      <td>0.771712</td>\n",
       "      <td>0</td>\n",
       "      <td>True</td>\n",
       "      <td>66139.328125</td>\n",
       "      <td>...</td>\n",
       "      <td>66157.375000</td>\n",
       "      <td>52931.695312</td>\n",
       "      <td>5990.734375</td>\n",
       "      <td>5.961148e+04</td>\n",
       "      <td>66175.421875</td>\n",
       "      <td>52856.242188</td>\n",
       "      <td>37861.121094</td>\n",
       "      <td>5.303714e+04</td>\n",
       "      <td>207.869263</td>\n",
       "      <td>4.545645e+03</td>\n",
       "    </tr>\n",
       "    <tr>\n",
       "      <th>4</th>\n",
       "      <td>4</td>\n",
       "      <td>0.002209</td>\n",
       "      <td>0.045891</td>\n",
       "      <td>66116.429688</td>\n",
       "      <td>53143.609375</td>\n",
       "      <td>14223.0</td>\n",
       "      <td>0.345887</td>\n",
       "      <td>0</td>\n",
       "      <td>True</td>\n",
       "      <td>66119.289062</td>\n",
       "      <td>...</td>\n",
       "      <td>66122.148438</td>\n",
       "      <td>53262.281250</td>\n",
       "      <td>278.122070</td>\n",
       "      <td>1.864316e+03</td>\n",
       "      <td>66125.007812</td>\n",
       "      <td>53321.617188</td>\n",
       "      <td>6056.386719</td>\n",
       "      <td>8.928458e+02</td>\n",
       "      <td>15.965820</td>\n",
       "      <td>4.505743e+01</td>\n",
       "    </tr>\n",
       "  </tbody>\n",
       "</table>\n",
       "<p>5 rows × 21 columns</p>\n",
       "</div>"
      ],
      "text/plain": [
       "   index        TX        TY             X             Y        Z      chi2  \\\n",
       "0      0  0.013209  0.067202  66081.937500  52968.695312  11637.0  0.880506   \n",
       "1      1  0.014165  0.071018  66100.265625  53058.140625  12930.0  0.522405   \n",
       "2      2  0.017983  0.069956  66118.492188  53147.492188  14223.0  0.971824   \n",
       "3      3  0.013956 -0.058355  66121.281250  53082.601562  14223.0  0.771712   \n",
       "4      4  0.002209  0.045891  66116.429688  53143.609375  14223.0  0.345887   \n",
       "\n",
       "   data_ind  signal            X1      ...                 X2            Y2  \\\n",
       "0         0    True  66099.015625      ...       66116.093750  53142.484375   \n",
       "1         0    True  66118.578125      ...       66136.890625  53241.796875   \n",
       "2         0    True  66141.742188      ...       66164.992188  53328.398438   \n",
       "3         0    True  66139.328125      ...       66157.375000  52931.695312   \n",
       "4         0    True  66119.289062      ...       66122.148438  53262.281250   \n",
       "\n",
       "         dfore         dback            X3            Y3        dfore2  \\\n",
       "0    70.256973  1.915982e+07  66133.171875  53229.378906    177.664261   \n",
       "1    44.512939  7.025697e+01  66155.203125  53333.625000     55.864685   \n",
       "2   183.387268  4.451294e+01  66188.242188  53418.851562    552.480896   \n",
       "3  5990.734375  5.961148e+04  66175.421875  52856.242188  37861.121094   \n",
       "4   278.122070  1.864316e+03  66125.007812  53321.617188   6056.386719   \n",
       "\n",
       "         dback2  dfore_simp    dback_simp  \n",
       "0  2.891000e+06    8.068985  1.072171e+07  \n",
       "1  1.543606e+07    6.140747  8.068985e+00  \n",
       "2  1.776643e+02   28.555908  6.140747e+00  \n",
       "3  5.303714e+04  207.869263  4.545645e+03  \n",
       "4  8.928458e+02   15.965820  4.505743e+01  \n",
       "\n",
       "[5 rows x 21 columns]"
      ]
     },
     "execution_count": 214,
     "metadata": {},
     "output_type": "execute_result"
    }
   ],
   "source": [
    "data_extended3.head()"
   ]
  },
  {
   "cell_type": "markdown",
   "metadata": {},
   "source": [
    "## CatBoost"
   ]
  },
  {
   "cell_type": "code",
   "execution_count": 105,
   "metadata": {},
   "outputs": [
    {
     "name": "stderr",
     "output_type": "stream",
     "text": [
      "/opt/conda/anaconda3/lib/python3.6/importlib/_bootstrap.py:205: RuntimeWarning: compiletime version 3.5 of module '_catboost' does not match runtime version 3.6\n",
      "  return f(*args, **kwds)\n"
     ]
    }
   ],
   "source": [
    "from catboost import CatBoostClassifier"
   ]
  },
  {
   "cell_type": "code",
   "execution_count": 219,
   "metadata": {
    "collapsed": true
   },
   "outputs": [],
   "source": [
    "data_ind_train = [x for x in range(50)]"
   ]
  },
  {
   "cell_type": "code",
   "execution_count": 220,
   "metadata": {},
   "outputs": [
    {
     "data": {
      "application/vnd.jupyter.widget-view+json": {
       "model_id": "e65e49d92d294e1e868f7b932980356d"
      }
     },
     "metadata": {},
     "output_type": "display_data"
    },
    {
     "name": "stdout",
     "output_type": "stream",
     "text": [
      "\n"
     ]
    }
   ],
   "source": [
    "X_train = data_extended3[data_extended3.data_ind == data_ind_train[0]].drop(['data_ind', 'signal','index'], axis=1)\n",
    "y_train = data_extended3[data_extended3.data_ind == data_ind_train[0]].signal\n",
    "\n",
    "for i in tqdm_notebook(range(len(data_ind_train))):\n",
    "    X_train = pd.concat([X_train, \\\n",
    "                         data_extended3[data_extended3.data_ind == data_ind_train[i]].drop(['data_ind', 'signal','index'], axis=1)], copy=False)\n",
    "    y_train = pd.concat([y_train, data_extended3[data_extended3.data_ind == data_ind_train[i]].signal], copy=False)"
   ]
  },
  {
   "cell_type": "code",
   "execution_count": 257,
   "metadata": {},
   "outputs": [
    {
     "name": "stdout",
     "output_type": "stream",
     "text": [
      "Borders generated\n",
      "0:\tlearn 0.4798472233passed: 0.75 sec\ttotal: 1m 40s\tremaining: 13h 53m\n",
      "1:\tlearn 0.3561892183passed: 0.634 sec\ttotal: 1m 40s\tremaining: 6h 58m 18s\n",
      "2:\tlearn 0.2798878855passed: 0.571 sec\ttotal: 1m 41s\tremaining: 4h 39m 53s\n",
      "3:\tlearn 0.229626105passed: 0.584 sec\ttotal: 1m 41s\tremaining: 3h 30m 42s\n",
      "4:\tlearn 0.194483838passed: 0.561 sec\ttotal: 1m 42s\tremaining: 2h 49m 9s\n",
      "5:\tlearn 0.1688265799passed: 0.644 sec\ttotal: 1m 43s\tremaining: 2h 21m 33s\n",
      "6:\tlearn 0.1490852194passed: 0.605 sec\ttotal: 1m 43s\tremaining: 2h 1m 48s\n",
      "7:\tlearn 0.1337140699passed: 0.658 sec\ttotal: 1m 44s\tremaining: 1h 47m 2s\n",
      "8:\tlearn 0.121391468passed: 0.618 sec\ttotal: 1m 45s\tremaining: 1h 35m 30s\n",
      "9:\tlearn 0.1113030057passed: 0.586 sec\ttotal: 1m 45s\tremaining: 1h 26m 15s\n",
      "10:\tlearn 0.102813579passed: 0.582 sec\ttotal: 1m 46s\tremaining: 1h 18m 41s\n",
      "11:\tlearn 0.09570394652passed: 0.577 sec\ttotal: 1m 46s\tremaining: 1h 12m 22s\n",
      "12:\tlearn 0.089613064passed: 0.583 sec\ttotal: 1m 47s\tremaining: 1h 7m 2s\n",
      "13:\tlearn 0.08432923013passed: 0.7 sec\ttotal: 1m 48s\tremaining: 1h 2m 31s\n",
      "14:\tlearn 0.07969690712passed: 0.598 sec\ttotal: 1m 48s\tremaining: 58m 33s\n",
      "15:\tlearn 0.07562001446passed: 0.603 sec\ttotal: 1m 49s\tremaining: 55m 5s\n",
      "16:\tlearn 0.07203374068passed: 0.57 sec\ttotal: 1m 49s\tremaining: 52m\n",
      "17:\tlearn 0.06883596786passed: 0.556 sec\ttotal: 1m 50s\tremaining: 49m 16s\n",
      "18:\tlearn 0.0659732688passed: 0.555 sec\ttotal: 1m 50s\tremaining: 46m 49s\n",
      "19:\tlearn 0.06336694829passed: 0.583 sec\ttotal: 1m 51s\tremaining: 44m 37s\n",
      "20:\tlearn 0.06099554374passed: 0.594 sec\ttotal: 1m 52s\tremaining: 42m 37s\n",
      "21:\tlearn 0.05884529101passed: 0.587 sec\ttotal: 1m 52s\tremaining: 40m 49s\n",
      "22:\tlearn 0.056901069passed: 0.547 sec\ttotal: 1m 53s\tremaining: 39m 9s\n",
      "23:\tlearn 0.05509489329passed: 0.675 sec\ttotal: 1m 53s\tremaining: 37m 39s\n",
      "24:\tlearn 0.05343557971passed: 0.796 sec\ttotal: 1m 54s\tremaining: 36m 20s\n",
      "25:\tlearn 0.05189729512passed: 0.576 sec\ttotal: 1m 55s\tremaining: 35m 2s\n",
      "26:\tlearn 0.05047628448passed: 0.602 sec\ttotal: 1m 55s\tremaining: 33m 50s\n",
      "27:\tlearn 0.04916281305passed: 0.589 sec\ttotal: 1m 56s\tremaining: 32m 44s\n",
      "28:\tlearn 0.04793524819passed: 0.556 sec\ttotal: 1m 57s\tremaining: 31m 41s\n",
      "29:\tlearn 0.04676908806passed: 0.568 sec\ttotal: 1m 57s\tremaining: 30m 43s\n",
      "30:\tlearn 0.04568742049passed: 0.59 sec\ttotal: 1m 58s\tremaining: 29m 48s\n",
      "31:\tlearn 0.04467782291passed: 0.615 sec\ttotal: 1m 58s\tremaining: 28m 58s\n",
      "32:\tlearn 0.04373167594passed: 0.597 sec\ttotal: 1m 59s\tremaining: 28m 10s\n",
      "33:\tlearn 0.04283470676passed: 0.61 sec\ttotal: 2m\tremaining: 27m 25s\n",
      "34:\tlearn 0.0419927035passed: 0.651 sec\ttotal: 2m\tremaining: 26m 43s\n",
      "35:\tlearn 0.04120432604passed: 0.561 sec\ttotal: 2m 1s\tremaining: 26m 3s\n",
      "36:\tlearn 0.04044909886passed: 0.584 sec\ttotal: 2m 1s\tremaining: 25m 24s\n",
      "37:\tlearn 0.03972529256passed: 0.579 sec\ttotal: 2m 2s\tremaining: 24m 48s\n",
      "38:\tlearn 0.03904652058passed: 0.552 sec\ttotal: 2m 2s\tremaining: 24m 13s\n",
      "39:\tlearn 0.03841100306passed: 0.558 sec\ttotal: 2m 3s\tremaining: 23m 40s\n",
      "40:\tlearn 0.03779004289passed: 0.58 sec\ttotal: 2m 4s\tremaining: 23m 9s\n",
      "41:\tlearn 0.03721177579passed: 0.571 sec\ttotal: 2m 4s\tremaining: 22m 39s\n",
      "42:\tlearn 0.03665482831passed: 0.623 sec\ttotal: 2m 5s\tremaining: 22m 11s\n",
      "43:\tlearn 0.0361255668passed: 0.58 sec\ttotal: 2m 5s\tremaining: 21m 44s\n",
      "44:\tlearn 0.03560762943passed: 0.7 sec\ttotal: 2m 6s\tremaining: 21m 20s\n",
      "45:\tlearn 0.03511601717passed: 0.607 sec\ttotal: 2m 7s\tremaining: 20m 55s\n",
      "46:\tlearn 0.03465403725passed: 0.611 sec\ttotal: 2m 7s\tremaining: 20m 32s\n",
      "47:\tlearn 0.03420949022passed: 0.63 sec\ttotal: 2m 8s\tremaining: 20m 9s\n",
      "48:\tlearn 0.03378195069passed: 0.565 sec\ttotal: 2m 9s\tremaining: 19m 47s\n",
      "49:\tlearn 0.0333728188passed: 0.549 sec\ttotal: 2m 9s\tremaining: 19m 26s\n",
      "50:\tlearn 0.03297343075passed: 0.57 sec\ttotal: 2m 10s\tremaining: 19m 5s\n",
      "51:\tlearn 0.03259345764passed: 0.564 sec\ttotal: 2m 10s\tremaining: 18m 46s\n",
      "52:\tlearn 0.03222046018passed: 0.569 sec\ttotal: 2m 11s\tremaining: 18m 27s\n",
      "53:\tlearn 0.0318682762passed: 0.569 sec\ttotal: 2m 11s\tremaining: 18m 8s\n",
      "54:\tlearn 0.03151969798passed: 0.651 sec\ttotal: 2m 12s\tremaining: 17m 52s\n",
      "55:\tlearn 0.03118998305passed: 0.59 sec\ttotal: 2m 13s\tremaining: 17m 35s\n",
      "56:\tlearn 0.03087411173passed: 0.586 sec\ttotal: 2m 13s\tremaining: 17m 18s\n",
      "57:\tlearn 0.0305626906passed: 0.586 sec\ttotal: 2m 14s\tremaining: 17m 3s\n",
      "58:\tlearn 0.03026449102passed: 0.564 sec\ttotal: 2m 14s\tremaining: 16m 47s\n",
      "59:\tlearn 0.02998264323passed: 0.594 sec\ttotal: 2m 15s\tremaining: 16m 33s\n",
      "60:\tlearn 0.0297011401passed: 0.626 sec\ttotal: 2m 16s\tremaining: 16m 19s\n",
      "61:\tlearn 0.0294349503passed: 0.641 sec\ttotal: 2m 16s\tremaining: 16m 5s\n",
      "62:\tlearn 0.02916908535passed: 0.581 sec\ttotal: 2m 17s\tremaining: 15m 52s\n",
      "63:\tlearn 0.02891445094passed: 0.592 sec\ttotal: 2m 17s\tremaining: 15m 39s\n",
      "64:\tlearn 0.0286712202passed: 0.572 sec\ttotal: 2m 18s\tremaining: 15m 26s\n",
      "65:\tlearn 0.02843211254passed: 0.554 sec\ttotal: 2m 18s\tremaining: 15m 13s\n",
      "66:\tlearn 0.02820078447passed: 0.575 sec\ttotal: 2m 19s\tremaining: 15m 1s\n",
      "67:\tlearn 0.02796651933passed: 0.577 sec\ttotal: 2m 20s\tremaining: 14m 50s\n",
      "68:\tlearn 0.02775296649passed: 0.577 sec\ttotal: 2m 20s\tremaining: 14m 39s\n",
      "69:\tlearn 0.02754939973passed: 0.565 sec\ttotal: 2m 21s\tremaining: 14m 27s\n",
      "70:\tlearn 0.0273459048passed: 0.627 sec\ttotal: 2m 21s\tremaining: 14m 17s\n",
      "71:\tlearn 0.02714178582passed: 0.678 sec\ttotal: 2m 22s\tremaining: 14m 7s\n",
      "72:\tlearn 0.02694539777passed: 0.636 sec\ttotal: 2m 23s\tremaining: 13m 57s\n",
      "73:\tlearn 0.0267517315passed: 0.621 sec\ttotal: 2m 23s\tremaining: 13m 48s\n",
      "74:\tlearn 0.02656344318passed: 0.614 sec\ttotal: 2m 24s\tremaining: 13m 38s\n",
      "75:\tlearn 0.02638076213passed: 0.6 sec\ttotal: 2m 25s\tremaining: 13m 29s\n",
      "76:\tlearn 0.02620546353passed: 0.577 sec\ttotal: 2m 25s\tremaining: 13m 20s\n",
      "77:\tlearn 0.02603457826passed: 0.551 sec\ttotal: 2m 26s\tremaining: 13m 10s\n",
      "78:\tlearn 0.02586403496passed: 0.643 sec\ttotal: 2m 26s\tremaining: 13m 2s\n",
      "79:\tlearn 0.02570505276passed: 0.648 sec\ttotal: 2m 27s\tremaining: 12m 54s\n",
      "80:\tlearn 0.02554051467passed: 0.745 sec\ttotal: 2m 28s\tremaining: 12m 46s\n",
      "81:\tlearn 0.02538299963passed: 0.602 sec\ttotal: 2m 28s\tremaining: 12m 38s\n",
      "82:\tlearn 0.02523392917passed: 0.573 sec\ttotal: 2m 29s\tremaining: 12m 30s\n",
      "83:\tlearn 0.0250864178passed: 0.588 sec\ttotal: 2m 30s\tremaining: 12m 22s\n",
      "84:\tlearn 0.02494574623passed: 0.579 sec\ttotal: 2m 30s\tremaining: 12m 15s\n",
      "85:\tlearn 0.02480729554passed: 0.56 sec\ttotal: 2m 31s\tremaining: 12m 7s\n",
      "86:\tlearn 0.0246680854passed: 0.601 sec\ttotal: 2m 31s\tremaining: 12m\n",
      "87:\tlearn 0.02453625074passed: 0.658 sec\ttotal: 2m 32s\tremaining: 11m 53s\n",
      "88:\tlearn 0.02440409064passed: 0.643 sec\ttotal: 2m 33s\tremaining: 11m 46s\n",
      "89:\tlearn 0.02427660897passed: 0.595 sec\ttotal: 2m 33s\tremaining: 11m 39s\n",
      "90:\tlearn 0.02415444594passed: 0.568 sec\ttotal: 2m 34s\tremaining: 11m 33s\n",
      "91:\tlearn 0.0240284198passed: 0.59 sec\ttotal: 2m 34s\tremaining: 11m 26s\n",
      "92:\tlearn 0.02390724656passed: 0.565 sec\ttotal: 2m 35s\tremaining: 11m 19s\n",
      "93:\tlearn 0.02378563524passed: 0.564 sec\ttotal: 2m 35s\tremaining: 11m 13s\n",
      "94:\tlearn 0.02367082741passed: 0.657 sec\ttotal: 2m 36s\tremaining: 11m 7s\n",
      "95:\tlearn 0.02355875308passed: 0.632 sec\ttotal: 2m 37s\tremaining: 11m 1s\n",
      "96:\tlearn 0.02344439905passed: 0.59 sec\ttotal: 2m 37s\tremaining: 10m 55s\n",
      "97:\tlearn 0.02333468354passed: 0.594 sec\ttotal: 2m 38s\tremaining: 10m 49s\n",
      "98:\tlearn 0.02323074776passed: 0.629 sec\ttotal: 2m 39s\tremaining: 10m 44s\n",
      "99:\tlearn 0.02312854971passed: 0.554 sec\ttotal: 2m 39s\tremaining: 10m 38s\n",
      "100:\tlearn 0.0230314696passed: 0.602 sec\ttotal: 2m 40s\tremaining: 10m 32s\n",
      "101:\tlearn 0.02293203679passed: 0.594 sec\ttotal: 2m 40s\tremaining: 10m 27s\n",
      "102:\tlearn 0.02282770278passed: 0.614 sec\ttotal: 2m 41s\tremaining: 10m 22s\n",
      "103:\tlearn 0.02273081272passed: 0.618 sec\ttotal: 2m 42s\tremaining: 10m 16s\n",
      "104:\tlearn 0.02263897279passed: 0.567 sec\ttotal: 2m 42s\tremaining: 10m 11s\n",
      "105:\tlearn 0.02254472704passed: 0.598 sec\ttotal: 2m 43s\tremaining: 10m 6s\n",
      "106:\tlearn 0.02245385946passed: 0.556 sec\ttotal: 2m 43s\tremaining: 10m 1s\n",
      "107:\tlearn 0.02235732131passed: 0.567 sec\ttotal: 2m 44s\tremaining: 9m 56s\n",
      "108:\tlearn 0.02227144908passed: 0.578 sec\ttotal: 2m 44s\tremaining: 9m 51s\n",
      "109:\tlearn 0.02218125523passed: 0.601 sec\ttotal: 2m 45s\tremaining: 9m 46s\n",
      "110:\tlearn 0.02209723336passed: 0.654 sec\ttotal: 2m 46s\tremaining: 9m 42s\n",
      "111:\tlearn 0.02201693571passed: 0.635 sec\ttotal: 2m 46s\tremaining: 9m 37s\n"
     ]
    },
    {
     "name": "stdout",
     "output_type": "stream",
     "text": [
      "112:\tlearn 0.0219358588passed: 0.595 sec\ttotal: 2m 47s\tremaining: 9m 33s\n",
      "113:\tlearn 0.02185859945passed: 0.561 sec\ttotal: 2m 47s\tremaining: 9m 28s\n",
      "114:\tlearn 0.02177823846passed: 0.552 sec\ttotal: 2m 48s\tremaining: 9m 24s\n",
      "115:\tlearn 0.02169868207passed: 0.57 sec\ttotal: 2m 49s\tremaining: 9m 19s\n",
      "116:\tlearn 0.0216190267passed: 0.637 sec\ttotal: 2m 49s\tremaining: 9m 15s\n",
      "117:\tlearn 0.02154761658passed: 0.659 sec\ttotal: 2m 50s\tremaining: 9m 11s\n",
      "118:\tlearn 0.02147415314passed: 0.6 sec\ttotal: 2m 50s\tremaining: 9m 7s\n",
      "119:\tlearn 0.02139879179passed: 0.599 sec\ttotal: 2m 51s\tremaining: 9m 3s\n",
      "120:\tlearn 0.02132687931passed: 0.613 sec\ttotal: 2m 52s\tremaining: 8m 59s\n",
      "121:\tlearn 0.0212552858passed: 0.572 sec\ttotal: 2m 52s\tremaining: 8m 55s\n",
      "122:\tlearn 0.02118406116passed: 0.575 sec\ttotal: 2m 53s\tremaining: 8m 51s\n",
      "123:\tlearn 0.02111165319passed: 0.555 sec\ttotal: 2m 53s\tremaining: 8m 47s\n",
      "124:\tlearn 0.02104649743passed: 0.58 sec\ttotal: 2m 54s\tremaining: 8m 43s\n",
      "125:\tlearn 0.02098290748passed: 0.542 sec\ttotal: 2m 55s\tremaining: 8m 39s\n",
      "126:\tlearn 0.0209173132passed: 0.548 sec\ttotal: 2m 55s\tremaining: 8m 35s\n",
      "127:\tlearn 0.02085217882passed: 0.614 sec\ttotal: 2m 56s\tremaining: 8m 32s\n",
      "128:\tlearn 0.02079026622passed: 0.61 sec\ttotal: 2m 56s\tremaining: 8m 28s\n",
      "129:\tlearn 0.02072882418passed: 0.674 sec\ttotal: 2m 57s\tremaining: 8m 25s\n",
      "130:\tlearn 0.02066982443passed: 0.788 sec\ttotal: 2m 58s\tremaining: 8m 22s\n",
      "131:\tlearn 0.02060951876passed: 0.574 sec\ttotal: 2m 58s\tremaining: 8m 18s\n",
      "132:\tlearn 0.02055256945passed: 0.589 sec\ttotal: 2m 59s\tremaining: 8m 15s\n",
      "133:\tlearn 0.02049372291passed: 0.555 sec\ttotal: 2m 59s\tremaining: 8m 11s\n",
      "134:\tlearn 0.02043570736passed: 0.587 sec\ttotal: 3m\tremaining: 8m 8s\n",
      "135:\tlearn 0.02037560418passed: 0.565 sec\ttotal: 3m 1s\tremaining: 8m 4s\n",
      "136:\tlearn 0.02031926119passed: 0.602 sec\ttotal: 3m 1s\tremaining: 8m 1s\n",
      "137:\tlearn 0.02026113204passed: 0.572 sec\ttotal: 3m 2s\tremaining: 7m 58s\n",
      "138:\tlearn 0.02020872379passed: 0.62 sec\ttotal: 3m 2s\tremaining: 7m 55s\n",
      "139:\tlearn 0.02015398539passed: 0.674 sec\ttotal: 3m 3s\tremaining: 7m 52s\n",
      "140:\tlearn 0.0201001235passed: 0.588 sec\ttotal: 3m 4s\tremaining: 7m 48s\n",
      "141:\tlearn 0.02004818363passed: 0.581 sec\ttotal: 3m 4s\tremaining: 7m 45s\n",
      "142:\tlearn 0.01999036874passed: 0.6 sec\ttotal: 3m 5s\tremaining: 7m 42s\n",
      "143:\tlearn 0.019942184passed: 0.584 sec\ttotal: 3m 5s\tremaining: 7m 39s\n",
      "144:\tlearn 0.01989263687passed: 0.612 sec\ttotal: 3m 6s\tremaining: 7m 36s\n",
      "145:\tlearn 0.01984066669passed: 0.564 sec\ttotal: 3m 7s\tremaining: 7m 33s\n",
      "146:\tlearn 0.01978987205passed: 0.629 sec\ttotal: 3m 7s\tremaining: 7m 30s\n",
      "147:\tlearn 0.01974092836passed: 0.573 sec\ttotal: 3m 8s\tremaining: 7m 27s\n",
      "148:\tlearn 0.01969329203passed: 0.578 sec\ttotal: 3m 8s\tremaining: 7m 25s\n",
      "149:\tlearn 0.01964709622passed: 0.544 sec\ttotal: 3m 9s\tremaining: 7m 22s\n",
      "150:\tlearn 0.01959897987passed: 0.575 sec\ttotal: 3m 10s\tremaining: 7m 19s\n",
      "151:\tlearn 0.01955356054passed: 0.562 sec\ttotal: 3m 10s\tremaining: 7m 16s\n",
      "152:\tlearn 0.01950587406passed: 0.547 sec\ttotal: 3m 11s\tremaining: 7m 13s\n",
      "153:\tlearn 0.01946121154passed: 0.613 sec\ttotal: 3m 11s\tremaining: 7m 10s\n",
      "154:\tlearn 0.01941792288passed: 0.609 sec\ttotal: 3m 12s\tremaining: 7m 8s\n",
      "155:\tlearn 0.01937366passed: 0.607 sec\ttotal: 3m 12s\tremaining: 7m 5s\n",
      "156:\tlearn 0.01932786774passed: 0.576 sec\ttotal: 3m 13s\tremaining: 7m 2s\n",
      "157:\tlearn 0.01928379734passed: 0.602 sec\ttotal: 3m 14s\tremaining: 7m\n",
      "158:\tlearn 0.01924045136passed: 0.592 sec\ttotal: 3m 14s\tremaining: 6m 57s\n",
      "159:\tlearn 0.01920027531passed: 0.573 sec\ttotal: 3m 15s\tremaining: 6m 55s\n",
      "160:\tlearn 0.01915698468passed: 0.573 sec\ttotal: 3m 15s\tremaining: 6m 52s\n",
      "161:\tlearn 0.01911448191passed: 0.586 sec\ttotal: 3m 16s\tremaining: 6m 49s\n",
      "162:\tlearn 0.01907127723passed: 0.571 sec\ttotal: 3m 17s\tremaining: 6m 47s\n",
      "163:\tlearn 0.01902909146passed: 0.575 sec\ttotal: 3m 17s\tremaining: 6m 44s\n",
      "164:\tlearn 0.01898906725passed: 0.565 sec\ttotal: 3m 18s\tremaining: 6m 42s\n",
      "165:\tlearn 0.01894676706passed: 0.631 sec\ttotal: 3m 18s\tremaining: 6m 40s\n",
      "166:\tlearn 0.0189090052passed: 0.682 sec\ttotal: 3m 19s\tremaining: 6m 37s\n",
      "167:\tlearn 0.01887106263passed: 0.564 sec\ttotal: 3m 20s\tremaining: 6m 35s\n",
      "168:\tlearn 0.01883119242passed: 0.591 sec\ttotal: 3m 20s\tremaining: 6m 33s\n",
      "169:\tlearn 0.01878875847passed: 0.578 sec\ttotal: 3m 21s\tremaining: 6m 30s\n",
      "170:\tlearn 0.01875074929passed: 0.61 sec\ttotal: 3m 21s\tremaining: 6m 28s\n",
      "171:\tlearn 0.01871546384passed: 0.639 sec\ttotal: 3m 22s\tremaining: 6m 26s\n",
      "172:\tlearn 0.01868121465passed: 0.641 sec\ttotal: 3m 23s\tremaining: 6m 23s\n",
      "173:\tlearn 0.01864633757passed: 0.605 sec\ttotal: 3m 23s\tremaining: 6m 21s\n",
      "174:\tlearn 0.01861305199passed: 0.574 sec\ttotal: 3m 24s\tremaining: 6m 19s\n",
      "175:\tlearn 0.01857281626passed: 0.588 sec\ttotal: 3m 24s\tremaining: 6m 17s\n",
      "176:\tlearn 0.01853320358passed: 0.582 sec\ttotal: 3m 25s\tremaining: 6m 15s\n",
      "177:\tlearn 0.01849860527passed: 0.566 sec\ttotal: 3m 26s\tremaining: 6m 12s\n",
      "178:\tlearn 0.0184643725passed: 0.574 sec\ttotal: 3m 26s\tremaining: 6m 10s\n",
      "179:\tlearn 0.01843013855passed: 0.558 sec\ttotal: 3m 27s\tremaining: 6m 8s\n",
      "180:\tlearn 0.01839666754passed: 0.612 sec\ttotal: 3m 27s\tremaining: 6m 6s\n",
      "181:\tlearn 0.01836312691passed: 0.649 sec\ttotal: 3m 28s\tremaining: 6m 4s\n",
      "182:\tlearn 0.01832759445passed: 0.65 sec\ttotal: 3m 29s\tremaining: 6m 2s\n",
      "183:\tlearn 0.0182929434passed: 0.618 sec\ttotal: 3m 29s\tremaining: 6m\n",
      "184:\tlearn 0.01826060547passed: 0.579 sec\ttotal: 3m 30s\tremaining: 5m 58s\n",
      "185:\tlearn 0.01823069674passed: 0.595 sec\ttotal: 3m 30s\tremaining: 5m 56s\n",
      "186:\tlearn 0.01819729175passed: 0.598 sec\ttotal: 3m 31s\tremaining: 5m 54s\n",
      "187:\tlearn 0.01816666575passed: 0.647 sec\ttotal: 3m 32s\tremaining: 5m 52s\n",
      "188:\tlearn 0.01813543176passed: 0.599 sec\ttotal: 3m 32s\tremaining: 5m 50s\n",
      "189:\tlearn 0.01810589673passed: 0.702 sec\ttotal: 3m 33s\tremaining: 5m 48s\n",
      "190:\tlearn 0.01807477678passed: 0.661 sec\ttotal: 3m 34s\tremaining: 5m 46s\n",
      "191:\tlearn 0.01804333133passed: 0.566 sec\ttotal: 3m 34s\tremaining: 5m 44s\n",
      "192:\tlearn 0.01801539557passed: 0.563 sec\ttotal: 3m 35s\tremaining: 5m 42s\n",
      "193:\tlearn 0.01798753674passed: 0.551 sec\ttotal: 3m 35s\tremaining: 5m 40s\n",
      "194:\tlearn 0.01796070009passed: 0.659 sec\ttotal: 3m 36s\tremaining: 5m 38s\n",
      "195:\tlearn 0.01793248867passed: 0.658 sec\ttotal: 3m 37s\tremaining: 5m 36s\n",
      "196:\tlearn 0.01789974531passed: 0.675 sec\ttotal: 3m 37s\tremaining: 5m 34s\n",
      "197:\tlearn 0.01787013922passed: 0.617 sec\ttotal: 3m 38s\tremaining: 5m 33s\n",
      "198:\tlearn 0.01784357917passed: 0.708 sec\ttotal: 3m 39s\tremaining: 5m 31s\n",
      "199:\tlearn 0.01781766005passed: 0.586 sec\ttotal: 3m 39s\tremaining: 5m 29s\n",
      "200:\tlearn 0.01778860378passed: 0.587 sec\ttotal: 3m 40s\tremaining: 5m 27s\n",
      "201:\tlearn 0.01776187029passed: 0.546 sec\ttotal: 3m 40s\tremaining: 5m 25s\n",
      "202:\tlearn 0.01773492496passed: 0.56 sec\ttotal: 3m 41s\tremaining: 5m 23s\n",
      "203:\tlearn 0.01770799215passed: 0.567 sec\ttotal: 3m 41s\tremaining: 5m 22s\n",
      "204:\tlearn 0.01768173211passed: 0.572 sec\ttotal: 3m 42s\tremaining: 5m 20s\n",
      "205:\tlearn 0.01765576133passed: 0.578 sec\ttotal: 3m 43s\tremaining: 5m 18s\n",
      "206:\tlearn 0.01763181978passed: 0.556 sec\ttotal: 3m 43s\tremaining: 5m 16s\n",
      "207:\tlearn 0.01760652793passed: 0.554 sec\ttotal: 3m 44s\tremaining: 5m 14s\n",
      "208:\tlearn 0.01758296095passed: 0.563 sec\ttotal: 3m 44s\tremaining: 5m 13s\n",
      "209:\tlearn 0.01755962725passed: 0.568 sec\ttotal: 3m 45s\tremaining: 5m 11s\n",
      "210:\tlearn 0.01753314337passed: 0.602 sec\ttotal: 3m 45s\tremaining: 5m 9s\n",
      "211:\tlearn 0.01750848497passed: 0.629 sec\ttotal: 3m 46s\tremaining: 5m 7s\n",
      "212:\tlearn 0.01748653835passed: 0.615 sec\ttotal: 3m 47s\tremaining: 5m 6s\n",
      "213:\tlearn 0.01746374275passed: 0.568 sec\ttotal: 3m 47s\tremaining: 5m 4s\n",
      "214:\tlearn 0.01744125581passed: 0.572 sec\ttotal: 3m 48s\tremaining: 5m 2s\n",
      "215:\tlearn 0.01741607256passed: 0.604 sec\ttotal: 3m 48s\tremaining: 5m 1s\n",
      "216:\tlearn 0.0173855432passed: 0.568 sec\ttotal: 3m 49s\tremaining: 4m 59s\n",
      "217:\tlearn 0.01736134172passed: 0.574 sec\ttotal: 3m 50s\tremaining: 4m 57s\n",
      "218:\tlearn 0.01733899182passed: 0.553 sec\ttotal: 3m 50s\tremaining: 4m 55s\n",
      "219:\tlearn 0.01731526503passed: 0.574 sec\ttotal: 3m 51s\tremaining: 4m 54s\n",
      "220:\tlearn 0.0172885218passed: 0.583 sec\ttotal: 3m 51s\tremaining: 4m 52s\n",
      "221:\tlearn 0.01726509663passed: 0.568 sec\ttotal: 3m 52s\tremaining: 4m 51s\n",
      "222:\tlearn 0.01724132564passed: 0.602 sec\ttotal: 3m 52s\tremaining: 4m 49s\n",
      "223:\tlearn 0.01721734551passed: 0.614 sec\ttotal: 3m 53s\tremaining: 4m 47s\n"
     ]
    },
    {
     "name": "stdout",
     "output_type": "stream",
     "text": [
      "224:\tlearn 0.01719490341passed: 0.725 sec\ttotal: 3m 54s\tremaining: 4m 46s\n",
      "225:\tlearn 0.01717311115passed: 0.611 sec\ttotal: 3m 54s\tremaining: 4m 44s\n",
      "226:\tlearn 0.01715046358passed: 0.619 sec\ttotal: 3m 55s\tremaining: 4m 43s\n",
      "227:\tlearn 0.01712575237passed: 0.6 sec\ttotal: 3m 56s\tremaining: 4m 41s\n",
      "228:\tlearn 0.01710357887passed: 0.571 sec\ttotal: 3m 56s\tremaining: 4m 40s\n",
      "229:\tlearn 0.01708376554passed: 0.582 sec\ttotal: 3m 57s\tremaining: 4m 38s\n",
      "230:\tlearn 0.01706361015passed: 0.57 sec\ttotal: 3m 57s\tremaining: 4m 37s\n",
      "231:\tlearn 0.01704395726passed: 0.625 sec\ttotal: 3m 58s\tremaining: 4m 35s\n",
      "232:\tlearn 0.01702277594passed: 0.584 sec\ttotal: 3m 59s\tremaining: 4m 33s\n",
      "233:\tlearn 0.01700183318passed: 0.648 sec\ttotal: 3m 59s\tremaining: 4m 32s\n",
      "234:\tlearn 0.01698015157passed: 0.591 sec\ttotal: 4m\tremaining: 4m 31s\n",
      "235:\tlearn 0.01695918755passed: 0.596 sec\ttotal: 4m\tremaining: 4m 29s\n",
      "236:\tlearn 0.01693912345passed: 0.582 sec\ttotal: 4m 1s\tremaining: 4m 28s\n",
      "237:\tlearn 0.01692095929passed: 0.559 sec\ttotal: 4m 2s\tremaining: 4m 26s\n",
      "238:\tlearn 0.01690246642passed: 0.594 sec\ttotal: 4m 2s\tremaining: 4m 25s\n",
      "239:\tlearn 0.01688212002passed: 0.649 sec\ttotal: 4m 3s\tremaining: 4m 23s\n",
      "240:\tlearn 0.01686351175passed: 0.666 sec\ttotal: 4m 3s\tremaining: 4m 22s\n",
      "241:\tlearn 0.01684072109passed: 0.718 sec\ttotal: 4m 4s\tremaining: 4m 20s\n",
      "242:\tlearn 0.01682083152passed: 0.687 sec\ttotal: 4m 5s\tremaining: 4m 19s\n",
      "243:\tlearn 0.01680364341passed: 0.6 sec\ttotal: 4m 6s\tremaining: 4m 18s\n",
      "244:\tlearn 0.01678534167passed: 0.595 sec\ttotal: 4m 6s\tremaining: 4m 16s\n",
      "245:\tlearn 0.01676099095passed: 0.582 sec\ttotal: 4m 7s\tremaining: 4m 15s\n",
      "246:\tlearn 0.01673812801passed: 0.589 sec\ttotal: 4m 7s\tremaining: 4m 13s\n",
      "247:\tlearn 0.0167160127passed: 0.594 sec\ttotal: 4m 8s\tremaining: 4m 12s\n",
      "248:\tlearn 0.01669524355passed: 0.575 sec\ttotal: 4m 8s\tremaining: 4m 10s\n",
      "249:\tlearn 0.01667579956passed: 0.571 sec\ttotal: 4m 9s\tremaining: 4m 9s\n",
      "250:\tlearn 0.01665818781passed: 0.592 sec\ttotal: 4m 10s\tremaining: 4m 8s\n",
      "251:\tlearn 0.01663912664passed: 0.584 sec\ttotal: 4m 10s\tremaining: 4m 6s\n",
      "252:\tlearn 0.01662196858passed: 0.672 sec\ttotal: 4m 11s\tremaining: 4m 5s\n",
      "253:\tlearn 0.01660585804passed: 0.647 sec\ttotal: 4m 12s\tremaining: 4m 4s\n",
      "254:\tlearn 0.01658607418passed: 0.589 sec\ttotal: 4m 12s\tremaining: 4m 2s\n",
      "255:\tlearn 0.01656146959passed: 0.613 sec\ttotal: 4m 13s\tremaining: 4m 1s\n",
      "256:\tlearn 0.01654387492passed: 0.57 sec\ttotal: 4m 13s\tremaining: 3m 59s\n",
      "257:\tlearn 0.01652452666passed: 0.54 sec\ttotal: 4m 14s\tremaining: 3m 58s\n",
      "258:\tlearn 0.01650611445passed: 0.568 sec\ttotal: 4m 14s\tremaining: 3m 57s\n",
      "259:\tlearn 0.01648902905passed: 0.654 sec\ttotal: 4m 15s\tremaining: 3m 55s\n",
      "260:\tlearn 0.0164720174passed: 0.65 sec\ttotal: 4m 16s\tremaining: 3m 54s\n",
      "261:\tlearn 0.01645389809passed: 0.64 sec\ttotal: 4m 16s\tremaining: 3m 53s\n",
      "262:\tlearn 0.01643817784passed: 0.601 sec\ttotal: 4m 17s\tremaining: 3m 51s\n",
      "263:\tlearn 0.01641992263passed: 0.579 sec\ttotal: 4m 18s\tremaining: 3m 50s\n",
      "264:\tlearn 0.01640507856passed: 0.563 sec\ttotal: 4m 18s\tremaining: 3m 49s\n",
      "265:\tlearn 0.0163904932passed: 0.571 sec\ttotal: 4m 19s\tremaining: 3m 47s\n",
      "266:\tlearn 0.01637563954passed: 0.582 sec\ttotal: 4m 19s\tremaining: 3m 46s\n",
      "267:\tlearn 0.0163600414passed: 0.593 sec\ttotal: 4m 20s\tremaining: 3m 45s\n",
      "268:\tlearn 0.01634394828passed: 0.679 sec\ttotal: 4m 21s\tremaining: 3m 44s\n",
      "269:\tlearn 0.01632486982passed: 0.694 sec\ttotal: 4m 21s\tremaining: 3m 42s\n",
      "270:\tlearn 0.01630762955passed: 0.563 sec\ttotal: 4m 22s\tremaining: 3m 41s\n",
      "271:\tlearn 0.01629117052passed: 0.574 sec\ttotal: 4m 22s\tremaining: 3m 40s\n",
      "272:\tlearn 0.01627552551passed: 0.593 sec\ttotal: 4m 23s\tremaining: 3m 39s\n",
      "273:\tlearn 0.01626101152passed: 0.579 sec\ttotal: 4m 24s\tremaining: 3m 37s\n",
      "274:\tlearn 0.01624376844passed: 0.66 sec\ttotal: 4m 24s\tremaining: 3m 36s\n",
      "275:\tlearn 0.01622805146passed: 0.723 sec\ttotal: 4m 25s\tremaining: 3m 35s\n",
      "276:\tlearn 0.01621496762passed: 0.67 sec\ttotal: 4m 26s\tremaining: 3m 34s\n",
      "277:\tlearn 0.0161986317passed: 0.561 sec\ttotal: 4m 26s\tremaining: 3m 32s\n",
      "278:\tlearn 0.01618421266passed: 0.64 sec\ttotal: 4m 27s\tremaining: 3m 31s\n",
      "279:\tlearn 0.01616924578passed: 0.587 sec\ttotal: 4m 27s\tremaining: 3m 30s\n",
      "280:\tlearn 0.01615531006passed: 0.559 sec\ttotal: 4m 28s\tremaining: 3m 29s\n",
      "281:\tlearn 0.01613701338passed: 0.574 sec\ttotal: 4m 29s\tremaining: 3m 27s\n",
      "282:\tlearn 0.01612234671passed: 0.597 sec\ttotal: 4m 29s\tremaining: 3m 26s\n",
      "283:\tlearn 0.01610886954passed: 0.597 sec\ttotal: 4m 30s\tremaining: 3m 25s\n",
      "284:\tlearn 0.01609515984passed: 0.568 sec\ttotal: 4m 30s\tremaining: 3m 24s\n",
      "285:\tlearn 0.01608139858passed: 0.659 sec\ttotal: 4m 31s\tremaining: 3m 23s\n",
      "286:\tlearn 0.01606357852passed: 0.648 sec\ttotal: 4m 32s\tremaining: 3m 21s\n",
      "287:\tlearn 0.01604988356passed: 0.572 sec\ttotal: 4m 32s\tremaining: 3m 20s\n",
      "288:\tlearn 0.01603233636passed: 0.628 sec\ttotal: 4m 33s\tremaining: 3m 19s\n",
      "289:\tlearn 0.01601436273passed: 0.58 sec\ttotal: 4m 33s\tremaining: 3m 18s\n",
      "290:\tlearn 0.01599982153passed: 0.594 sec\ttotal: 4m 34s\tremaining: 3m 17s\n",
      "291:\tlearn 0.01598278364passed: 0.569 sec\ttotal: 4m 35s\tremaining: 3m 15s\n",
      "292:\tlearn 0.01597005744passed: 0.566 sec\ttotal: 4m 35s\tremaining: 3m 14s\n",
      "293:\tlearn 0.01595380292passed: 0.595 sec\ttotal: 4m 36s\tremaining: 3m 13s\n",
      "294:\tlearn 0.01593835447passed: 0.696 sec\ttotal: 4m 36s\tremaining: 3m 12s\n",
      "295:\tlearn 0.01592699761passed: 0.659 sec\ttotal: 4m 37s\tremaining: 3m 11s\n",
      "296:\tlearn 0.01591075278passed: 0.614 sec\ttotal: 4m 38s\tremaining: 3m 10s\n",
      "297:\tlearn 0.01589732382passed: 0.605 sec\ttotal: 4m 38s\tremaining: 3m 8s\n",
      "298:\tlearn 0.01588273819passed: 0.583 sec\ttotal: 4m 39s\tremaining: 3m 7s\n",
      "299:\tlearn 0.01586733614passed: 0.57 sec\ttotal: 4m 39s\tremaining: 3m 6s\n",
      "300:\tlearn 0.01585564153passed: 0.575 sec\ttotal: 4m 40s\tremaining: 3m 5s\n",
      "301:\tlearn 0.01584376865passed: 0.563 sec\ttotal: 4m 41s\tremaining: 3m 4s\n",
      "302:\tlearn 0.01583120615passed: 0.568 sec\ttotal: 4m 41s\tremaining: 3m 3s\n",
      "303:\tlearn 0.01581841058passed: 0.56 sec\ttotal: 4m 42s\tremaining: 3m 1s\n",
      "304:\tlearn 0.01580587484passed: 0.597 sec\ttotal: 4m 42s\tremaining: 3m\n",
      "305:\tlearn 0.01579362962passed: 0.639 sec\ttotal: 4m 43s\tremaining: 2m 59s\n",
      "306:\tlearn 0.01578027152passed: 0.633 sec\ttotal: 4m 44s\tremaining: 2m 58s\n",
      "307:\tlearn 0.01576756258passed: 0.587 sec\ttotal: 4m 44s\tremaining: 2m 57s\n",
      "308:\tlearn 0.01575380451passed: 0.577 sec\ttotal: 4m 45s\tremaining: 2m 56s\n",
      "309:\tlearn 0.01574036491passed: 0.6 sec\ttotal: 4m 45s\tremaining: 2m 55s\n",
      "310:\tlearn 0.01572886351passed: 0.561 sec\ttotal: 4m 46s\tremaining: 2m 54s\n",
      "311:\tlearn 0.01571584677passed: 0.664 sec\ttotal: 4m 47s\tremaining: 2m 52s\n",
      "312:\tlearn 0.01570204578passed: 0.643 sec\ttotal: 4m 47s\tremaining: 2m 51s\n",
      "313:\tlearn 0.0156895004passed: 0.598 sec\ttotal: 4m 48s\tremaining: 2m 50s\n",
      "314:\tlearn 0.01567537082passed: 0.607 sec\ttotal: 4m 48s\tremaining: 2m 49s\n",
      "315:\tlearn 0.01566361214passed: 0.609 sec\ttotal: 4m 49s\tremaining: 2m 48s\n",
      "316:\tlearn 0.01565149224passed: 0.559 sec\ttotal: 4m 50s\tremaining: 2m 47s\n",
      "317:\tlearn 0.01563671181passed: 0.567 sec\ttotal: 4m 50s\tremaining: 2m 46s\n",
      "318:\tlearn 0.01562435565passed: 0.558 sec\ttotal: 4m 51s\tremaining: 2m 45s\n",
      "319:\tlearn 0.01561053164passed: 0.604 sec\ttotal: 4m 51s\tremaining: 2m 44s\n",
      "320:\tlearn 0.01560048116passed: 0.586 sec\ttotal: 4m 52s\tremaining: 2m 43s\n",
      "321:\tlearn 0.01558981048passed: 0.574 sec\ttotal: 4m 52s\tremaining: 2m 41s\n",
      "322:\tlearn 0.01557774358passed: 0.574 sec\ttotal: 4m 53s\tremaining: 2m 40s\n",
      "323:\tlearn 0.01556580254passed: 0.641 sec\ttotal: 4m 54s\tremaining: 2m 39s\n",
      "324:\tlearn 0.01554789743passed: 0.581 sec\ttotal: 4m 54s\tremaining: 2m 38s\n",
      "325:\tlearn 0.01553634256passed: 0.579 sec\ttotal: 4m 55s\tremaining: 2m 37s\n",
      "326:\tlearn 0.01552479602passed: 0.599 sec\ttotal: 4m 55s\tremaining: 2m 36s\n",
      "327:\tlearn 0.01551046854passed: 0.568 sec\ttotal: 4m 56s\tremaining: 2m 35s\n",
      "328:\tlearn 0.0154989876passed: 0.578 sec\ttotal: 4m 57s\tremaining: 2m 34s\n",
      "329:\tlearn 0.01548907179passed: 0.555 sec\ttotal: 4m 57s\tremaining: 2m 33s\n",
      "330:\tlearn 0.01547700422passed: 0.574 sec\ttotal: 4m 58s\tremaining: 2m 32s\n",
      "331:\tlearn 0.01546580219passed: 0.626 sec\ttotal: 4m 58s\tremaining: 2m 31s\n",
      "332:\tlearn 0.01545650688passed: 0.536 sec\ttotal: 4m 59s\tremaining: 2m 30s\n",
      "333:\tlearn 0.01544511604passed: 0.565 sec\ttotal: 4m 59s\tremaining: 2m 29s\n",
      "334:\tlearn 0.0154341402passed: 0.545 sec\ttotal: 5m\tremaining: 2m 28s\n",
      "335:\tlearn 0.01542122827passed: 0.568 sec\ttotal: 5m 1s\tremaining: 2m 26s\n"
     ]
    },
    {
     "name": "stdout",
     "output_type": "stream",
     "text": [
      "336:\tlearn 0.01541071645passed: 0.543 sec\ttotal: 5m 1s\tremaining: 2m 25s\n",
      "337:\tlearn 0.01539998807passed: 0.565 sec\ttotal: 5m 2s\tremaining: 2m 24s\n",
      "338:\tlearn 0.01538836505passed: 0.591 sec\ttotal: 5m 2s\tremaining: 2m 23s\n",
      "339:\tlearn 0.01537855453passed: 0.567 sec\ttotal: 5m 3s\tremaining: 2m 22s\n",
      "340:\tlearn 0.0153650282passed: 0.589 sec\ttotal: 5m 3s\tremaining: 2m 21s\n",
      "341:\tlearn 0.01535530873passed: 0.629 sec\ttotal: 5m 4s\tremaining: 2m 20s\n",
      "342:\tlearn 0.01534139022passed: 0.618 sec\ttotal: 5m 5s\tremaining: 2m 19s\n",
      "343:\tlearn 0.01532950029passed: 0.567 sec\ttotal: 5m 5s\tremaining: 2m 18s\n",
      "344:\tlearn 0.01531732456passed: 0.594 sec\ttotal: 5m 6s\tremaining: 2m 17s\n",
      "345:\tlearn 0.01530629708passed: 0.562 sec\ttotal: 5m 6s\tremaining: 2m 16s\n",
      "346:\tlearn 0.01529712987passed: 0.588 sec\ttotal: 5m 7s\tremaining: 2m 15s\n",
      "347:\tlearn 0.01528501098passed: 0.612 sec\ttotal: 5m 8s\tremaining: 2m 14s\n",
      "348:\tlearn 0.01527182422passed: 0.611 sec\ttotal: 5m 8s\tremaining: 2m 13s\n",
      "349:\tlearn 0.01526109312passed: 0.563 sec\ttotal: 5m 9s\tremaining: 2m 12s\n",
      "350:\tlearn 0.01525168392passed: 0.552 sec\ttotal: 5m 9s\tremaining: 2m 11s\n",
      "351:\tlearn 0.01524219715passed: 0.601 sec\ttotal: 5m 10s\tremaining: 2m 10s\n",
      "352:\tlearn 0.01523308786passed: 0.689 sec\ttotal: 5m 11s\tremaining: 2m 9s\n",
      "353:\tlearn 0.0152237755passed: 0.564 sec\ttotal: 5m 11s\tremaining: 2m 8s\n",
      "354:\tlearn 0.01521177629passed: 0.58 sec\ttotal: 5m 12s\tremaining: 2m 7s\n",
      "355:\tlearn 0.01520258349passed: 0.583 sec\ttotal: 5m 12s\tremaining: 2m 6s\n",
      "356:\tlearn 0.01519115924passed: 0.613 sec\ttotal: 5m 13s\tremaining: 2m 5s\n",
      "357:\tlearn 0.01518142067passed: 0.568 sec\ttotal: 5m 14s\tremaining: 2m 4s\n",
      "358:\tlearn 0.01517191908passed: 0.587 sec\ttotal: 5m 14s\tremaining: 2m 3s\n",
      "359:\tlearn 0.015163336passed: 0.581 sec\ttotal: 5m 15s\tremaining: 2m 2s\n",
      "360:\tlearn 0.01515442738passed: 0.634 sec\ttotal: 5m 15s\tremaining: 2m 1s\n",
      "361:\tlearn 0.01514264603passed: 0.665 sec\ttotal: 5m 16s\tremaining: 2m\n",
      "362:\tlearn 0.01513184585passed: 0.671 sec\ttotal: 5m 17s\tremaining: 1m 59s\n",
      "363:\tlearn 0.01512374807passed: 0.58 sec\ttotal: 5m 17s\tremaining: 1m 58s\n",
      "364:\tlearn 0.01511359027passed: 0.605 sec\ttotal: 5m 18s\tremaining: 1m 57s\n",
      "365:\tlearn 0.01510291786passed: 0.575 sec\ttotal: 5m 18s\tremaining: 1m 56s\n",
      "366:\tlearn 0.01509495504passed: 0.551 sec\ttotal: 5m 19s\tremaining: 1m 55s\n",
      "367:\tlearn 0.01508635863passed: 0.561 sec\ttotal: 5m 20s\tremaining: 1m 54s\n",
      "368:\tlearn 0.01507852117passed: 0.62 sec\ttotal: 5m 20s\tremaining: 1m 53s\n",
      "369:\tlearn 0.01506881703passed: 0.595 sec\ttotal: 5m 21s\tremaining: 1m 52s\n",
      "370:\tlearn 0.01505797894passed: 0.578 sec\ttotal: 5m 21s\tremaining: 1m 51s\n",
      "371:\tlearn 0.01504933074passed: 0.593 sec\ttotal: 5m 22s\tremaining: 1m 50s\n",
      "372:\tlearn 0.01503983482passed: 0.672 sec\ttotal: 5m 23s\tremaining: 1m 50s\n",
      "373:\tlearn 0.01502693309passed: 0.602 sec\ttotal: 5m 23s\tremaining: 1m 49s\n",
      "374:\tlearn 0.0150177037passed: 0.576 sec\ttotal: 5m 24s\tremaining: 1m 48s\n",
      "375:\tlearn 0.01500761189passed: 0.592 sec\ttotal: 5m 24s\tremaining: 1m 47s\n",
      "376:\tlearn 0.01499827337passed: 0.585 sec\ttotal: 5m 25s\tremaining: 1m 46s\n",
      "377:\tlearn 0.01498853781passed: 0.57 sec\ttotal: 5m 26s\tremaining: 1m 45s\n",
      "378:\tlearn 0.01497556491passed: 0.578 sec\ttotal: 5m 26s\tremaining: 1m 44s\n",
      "379:\tlearn 0.01496328478passed: 0.568 sec\ttotal: 5m 27s\tremaining: 1m 43s\n",
      "380:\tlearn 0.01495040714passed: 0.573 sec\ttotal: 5m 27s\tremaining: 1m 42s\n",
      "381:\tlearn 0.01494128546passed: 0.568 sec\ttotal: 5m 28s\tremaining: 1m 41s\n",
      "382:\tlearn 0.0149315155passed: 0.593 sec\ttotal: 5m 28s\tremaining: 1m 40s\n",
      "383:\tlearn 0.01492386542passed: 0.646 sec\ttotal: 5m 29s\tremaining: 1m 39s\n",
      "384:\tlearn 0.01491564124passed: 0.717 sec\ttotal: 5m 30s\tremaining: 1m 38s\n",
      "385:\tlearn 0.01490518823passed: 0.577 sec\ttotal: 5m 30s\tremaining: 1m 37s\n",
      "386:\tlearn 0.01489500711passed: 0.576 sec\ttotal: 5m 31s\tremaining: 1m 36s\n",
      "387:\tlearn 0.01488520308passed: 0.602 sec\ttotal: 5m 32s\tremaining: 1m 35s\n",
      "388:\tlearn 0.01487685483passed: 0.57 sec\ttotal: 5m 32s\tremaining: 1m 34s\n",
      "389:\tlearn 0.01486767763passed: 0.576 sec\ttotal: 5m 33s\tremaining: 1m 33s\n",
      "390:\tlearn 0.01486046946passed: 0.593 sec\ttotal: 5m 33s\tremaining: 1m 33s\n",
      "391:\tlearn 0.0148512429passed: 0.545 sec\ttotal: 5m 34s\tremaining: 1m 32s\n",
      "392:\tlearn 0.01484328822passed: 0.595 sec\ttotal: 5m 34s\tremaining: 1m 31s\n",
      "393:\tlearn 0.01483331487passed: 0.618 sec\ttotal: 5m 35s\tremaining: 1m 30s\n",
      "394:\tlearn 0.01482231509passed: 0.635 sec\ttotal: 5m 36s\tremaining: 1m 29s\n",
      "395:\tlearn 0.01481409415passed: 0.607 sec\ttotal: 5m 36s\tremaining: 1m 28s\n",
      "396:\tlearn 0.01480198037passed: 0.598 sec\ttotal: 5m 37s\tremaining: 1m 27s\n",
      "397:\tlearn 0.0147912487passed: 0.565 sec\ttotal: 5m 37s\tremaining: 1m 26s\n",
      "398:\tlearn 0.01477548862passed: 0.579 sec\ttotal: 5m 38s\tremaining: 1m 25s\n",
      "399:\tlearn 0.01476707682passed: 0.568 sec\ttotal: 5m 39s\tremaining: 1m 24s\n",
      "400:\tlearn 0.01475617311passed: 0.589 sec\ttotal: 5m 39s\tremaining: 1m 23s\n",
      "401:\tlearn 0.01474594305passed: 0.562 sec\ttotal: 5m 40s\tremaining: 1m 22s\n",
      "402:\tlearn 0.01473769694passed: 0.631 sec\ttotal: 5m 40s\tremaining: 1m 22s\n",
      "403:\tlearn 0.01473036427passed: 0.764 sec\ttotal: 5m 41s\tremaining: 1m 21s\n",
      "404:\tlearn 0.01472142927passed: 0.599 sec\ttotal: 5m 42s\tremaining: 1m 20s\n",
      "405:\tlearn 0.01471431255passed: 0.605 sec\ttotal: 5m 42s\tremaining: 1m 19s\n",
      "406:\tlearn 0.01470656834passed: 0.619 sec\ttotal: 5m 43s\tremaining: 1m 18s\n",
      "407:\tlearn 0.01469627295passed: 0.573 sec\ttotal: 5m 44s\tremaining: 1m 17s\n",
      "408:\tlearn 0.01468441595passed: 0.55 sec\ttotal: 5m 44s\tremaining: 1m 16s\n",
      "409:\tlearn 0.01467805372passed: 0.567 sec\ttotal: 5m 45s\tremaining: 1m 15s\n",
      "410:\tlearn 0.01466776097passed: 0.604 sec\ttotal: 5m 45s\tremaining: 1m 14s\n",
      "411:\tlearn 0.01465787401passed: 0.584 sec\ttotal: 5m 46s\tremaining: 1m 13s\n",
      "412:\tlearn 0.01464877427passed: 0.607 sec\ttotal: 5m 46s\tremaining: 1m 13s\n",
      "413:\tlearn 0.0146380165passed: 0.653 sec\ttotal: 5m 47s\tremaining: 1m 12s\n",
      "414:\tlearn 0.01462811391passed: 0.784 sec\ttotal: 5m 48s\tremaining: 1m 11s\n",
      "415:\tlearn 0.01461674871passed: 0.616 sec\ttotal: 5m 49s\tremaining: 1m 10s\n",
      "416:\tlearn 0.01460940104passed: 0.582 sec\ttotal: 5m 49s\tremaining: 1m 9s\n",
      "417:\tlearn 0.01460277232passed: 0.556 sec\ttotal: 5m 50s\tremaining: 1m 8s\n",
      "418:\tlearn 0.01459579598passed: 0.57 sec\ttotal: 5m 50s\tremaining: 1m 7s\n",
      "419:\tlearn 0.01458676218passed: 0.605 sec\ttotal: 5m 51s\tremaining: 1m 6s\n",
      "420:\tlearn 0.01457972297passed: 0.582 sec\ttotal: 5m 51s\tremaining: 1m 6s\n",
      "421:\tlearn 0.01457113186passed: 0.587 sec\ttotal: 5m 52s\tremaining: 1m 5s\n",
      "422:\tlearn 0.01456193063passed: 0.668 sec\ttotal: 5m 53s\tremaining: 1m 4s\n",
      "423:\tlearn 0.01455374972passed: 0.627 sec\ttotal: 5m 53s\tremaining: 1m 3s\n",
      "424:\tlearn 0.01454534176passed: 0.593 sec\ttotal: 5m 54s\tremaining: 1m 2s\n",
      "425:\tlearn 0.01453736047passed: 0.58 sec\ttotal: 5m 55s\tremaining: 1m 1s\n",
      "426:\tlearn 0.01452871114passed: 0.552 sec\ttotal: 5m 55s\tremaining: 1m\n",
      "427:\tlearn 0.01452113637passed: 0.573 sec\ttotal: 5m 56s\tremaining: 59.9s\n",
      "428:\tlearn 0.01451426402passed: 0.577 sec\ttotal: 5m 56s\tremaining: 59s\n",
      "429:\tlearn 0.01450758701passed: 0.651 sec\ttotal: 5m 57s\tremaining: 58.2s\n",
      "430:\tlearn 0.01450102388passed: 0.63 sec\ttotal: 5m 57s\tremaining: 57.3s\n",
      "431:\tlearn 0.01449244212passed: 0.66 sec\ttotal: 5m 58s\tremaining: 56.5s\n",
      "432:\tlearn 0.01448073031passed: 0.613 sec\ttotal: 5m 59s\tremaining: 55.6s\n",
      "433:\tlearn 0.01447137054passed: 0.62 sec\ttotal: 5m 59s\tremaining: 54.7s\n",
      "434:\tlearn 0.01446480051passed: 0.572 sec\ttotal: 6m\tremaining: 53.9s\n",
      "435:\tlearn 0.01445708988passed: 0.634 sec\ttotal: 6m 1s\tremaining: 53s\n",
      "436:\tlearn 0.01444952685passed: 0.607 sec\ttotal: 6m 1s\tremaining: 52.1s\n",
      "437:\tlearn 0.01444266496passed: 0.583 sec\ttotal: 6m 2s\tremaining: 51.3s\n",
      "438:\tlearn 0.01443206176passed: 0.63 sec\ttotal: 6m 2s\tremaining: 50.4s\n",
      "439:\tlearn 0.0144209761passed: 0.641 sec\ttotal: 6m 3s\tremaining: 49.6s\n",
      "440:\tlearn 0.01441382134passed: 0.603 sec\ttotal: 6m 4s\tremaining: 48.7s\n",
      "441:\tlearn 0.01440483625passed: 0.602 sec\ttotal: 6m 4s\tremaining: 47.9s\n",
      "442:\tlearn 0.01439773596passed: 0.65 sec\ttotal: 6m 5s\tremaining: 47s\n",
      "443:\tlearn 0.01438988497passed: 0.659 sec\ttotal: 6m 6s\tremaining: 46.2s\n",
      "444:\tlearn 0.01438200093passed: 0.617 sec\ttotal: 6m 6s\tremaining: 45.3s\n",
      "445:\tlearn 0.01437439117passed: 0.596 sec\ttotal: 6m 7s\tremaining: 44.5s\n",
      "446:\tlearn 0.01436509338passed: 0.568 sec\ttotal: 6m 7s\tremaining: 43.6s\n",
      "447:\tlearn 0.01435622382passed: 0.583 sec\ttotal: 6m 8s\tremaining: 42.8s\n",
      "448:\tlearn 0.01435053242passed: 0.61 sec\ttotal: 6m 9s\tremaining: 41.9s\n"
     ]
    },
    {
     "name": "stdout",
     "output_type": "stream",
     "text": [
      "449:\tlearn 0.01434268873passed: 0.69 sec\ttotal: 6m 9s\tremaining: 41.1s\n",
      "450:\tlearn 0.01433510432passed: 0.643 sec\ttotal: 6m 10s\tremaining: 40.2s\n",
      "451:\tlearn 0.01432869591passed: 0.589 sec\ttotal: 6m 10s\tremaining: 39.4s\n",
      "452:\tlearn 0.01432176685passed: 0.615 sec\ttotal: 6m 11s\tremaining: 38.6s\n",
      "453:\tlearn 0.01431471365passed: 0.59 sec\ttotal: 6m 12s\tremaining: 37.7s\n",
      "454:\tlearn 0.01430631633passed: 0.571 sec\ttotal: 6m 12s\tremaining: 36.9s\n",
      "455:\tlearn 0.01429646187passed: 0.611 sec\ttotal: 6m 13s\tremaining: 36s\n",
      "456:\tlearn 0.01429025547passed: 0.563 sec\ttotal: 6m 13s\tremaining: 35.2s\n",
      "457:\tlearn 0.01428406554passed: 0.599 sec\ttotal: 6m 14s\tremaining: 34.3s\n",
      "458:\tlearn 0.0142770352passed: 0.647 sec\ttotal: 6m 15s\tremaining: 33.5s\n",
      "459:\tlearn 0.01426967926passed: 0.655 sec\ttotal: 6m 15s\tremaining: 32.7s\n",
      "460:\tlearn 0.01426341794passed: 0.618 sec\ttotal: 6m 16s\tremaining: 31.8s\n",
      "461:\tlearn 0.01425207974passed: 0.588 sec\ttotal: 6m 17s\tremaining: 31s\n",
      "462:\tlearn 0.01424386226passed: 0.603 sec\ttotal: 6m 17s\tremaining: 30.2s\n",
      "463:\tlearn 0.01423419894passed: 0.635 sec\ttotal: 6m 18s\tremaining: 29.3s\n",
      "464:\tlearn 0.01422873951passed: 0.537 sec\ttotal: 6m 18s\tremaining: 28.5s\n",
      "465:\tlearn 0.01422144692passed: 0.608 sec\ttotal: 6m 19s\tremaining: 27.7s\n",
      "466:\tlearn 0.0142130156passed: 0.64 sec\ttotal: 6m 20s\tremaining: 26.9s\n",
      "467:\tlearn 0.01420571865passed: 0.72 sec\ttotal: 6m 20s\tremaining: 26s\n",
      "468:\tlearn 0.01419868522passed: 0.588 sec\ttotal: 6m 21s\tremaining: 25.2s\n",
      "469:\tlearn 0.01419267472passed: 0.624 sec\ttotal: 6m 22s\tremaining: 24.4s\n",
      "470:\tlearn 0.01418660082passed: 0.574 sec\ttotal: 6m 22s\tremaining: 23.6s\n",
      "471:\tlearn 0.01418074838passed: 0.563 sec\ttotal: 6m 23s\tremaining: 22.7s\n",
      "472:\tlearn 0.014172616passed: 0.539 sec\ttotal: 6m 23s\tremaining: 21.9s\n",
      "473:\tlearn 0.01416630373passed: 0.579 sec\ttotal: 6m 24s\tremaining: 21.1s\n",
      "474:\tlearn 0.01415823974passed: 0.622 sec\ttotal: 6m 24s\tremaining: 20.3s\n",
      "475:\tlearn 0.01415210411passed: 0.596 sec\ttotal: 6m 25s\tremaining: 19.4s\n",
      "476:\tlearn 0.01414646023passed: 0.565 sec\ttotal: 6m 26s\tremaining: 18.6s\n",
      "477:\tlearn 0.01413871279passed: 0.593 sec\ttotal: 6m 26s\tremaining: 17.8s\n",
      "478:\tlearn 0.0141312925passed: 0.59 sec\ttotal: 6m 27s\tremaining: 17s\n",
      "479:\tlearn 0.01412268985passed: 0.576 sec\ttotal: 6m 27s\tremaining: 16.2s\n",
      "480:\tlearn 0.0141169897passed: 0.568 sec\ttotal: 6m 28s\tremaining: 15.3s\n",
      "481:\tlearn 0.01410946834passed: 0.556 sec\ttotal: 6m 28s\tremaining: 14.5s\n",
      "482:\tlearn 0.01410335522passed: 0.536 sec\ttotal: 6m 29s\tremaining: 13.7s\n",
      "483:\tlearn 0.01409794597passed: 0.569 sec\ttotal: 6m 30s\tremaining: 12.9s\n",
      "484:\tlearn 0.01409154946passed: 0.623 sec\ttotal: 6m 30s\tremaining: 12.1s\n",
      "485:\tlearn 0.01408396569passed: 0.689 sec\ttotal: 6m 31s\tremaining: 11.3s\n",
      "486:\tlearn 0.0140764427passed: 0.599 sec\ttotal: 6m 31s\tremaining: 10.5s\n",
      "487:\tlearn 0.01407009263passed: 0.645 sec\ttotal: 6m 32s\tremaining: 9.65s\n",
      "488:\tlearn 0.01406240236passed: 0.718 sec\ttotal: 6m 33s\tremaining: 8.85s\n",
      "489:\tlearn 0.0140510243passed: 0.749 sec\ttotal: 6m 34s\tremaining: 8.04s\n",
      "490:\tlearn 0.01404475005passed: 0.579 sec\ttotal: 6m 34s\tremaining: 7.23s\n",
      "491:\tlearn 0.01403625094passed: 0.62 sec\ttotal: 6m 35s\tremaining: 6.43s\n",
      "492:\tlearn 0.01403037685passed: 0.58 sec\ttotal: 6m 35s\tremaining: 5.62s\n",
      "493:\tlearn 0.01402456046passed: 0.579 sec\ttotal: 6m 36s\tremaining: 4.82s\n",
      "494:\tlearn 0.01401824143passed: 0.575 sec\ttotal: 6m 37s\tremaining: 4.01s\n",
      "495:\tlearn 0.01401355694passed: 0.625 sec\ttotal: 6m 37s\tremaining: 3.21s\n",
      "496:\tlearn 0.0140067382passed: 0.594 sec\ttotal: 6m 38s\tremaining: 2.4s\n",
      "497:\tlearn 0.0140007892passed: 0.564 sec\ttotal: 6m 38s\tremaining: 1.6s\n",
      "498:\tlearn 0.01399328604passed: 0.558 sec\ttotal: 6m 39s\tremaining: 800ms\n",
      "499:\tlearn 0.01398521462passed: 0.583 sec\ttotal: 6m 39s\tremaining: 0us\n",
      "CPU times: user 33min 59s, sys: 5min 13s, total: 39min 13s\n",
      "Wall time: 6min 44s\n"
     ]
    },
    {
     "data": {
      "text/plain": [
       "<catboost.core.CatBoostClassifier at 0x7f2f18db2860>"
      ]
     },
     "execution_count": 257,
     "metadata": {},
     "output_type": "execute_result"
    }
   ],
   "source": [
    "model = CatBoostClassifier(iterations=500, depth=10, learning_rate=1,\n",
    "                           loss_function='CrossEntropy', logging_level='Verbose', random_seed=42, verbose=True)\n",
    "\n",
    "#%time model.fit(X_train.values, y_train)\n",
    "%time model.fit(data_extended3.drop(['data_ind', 'signal','index'], axis=1).values, data_extended3.signal)"
   ]
  },
  {
   "cell_type": "markdown",
   "metadata": {},
   "source": [
    "## Open test"
   ]
  },
  {
   "cell_type": "code",
   "execution_count": 130,
   "metadata": {
    "collapsed": true
   },
   "outputs": [],
   "source": [
    "from sklearn.metrics import roc_auc_score"
   ]
  },
  {
   "cell_type": "code",
   "execution_count": 223,
   "metadata": {
    "collapsed": true
   },
   "outputs": [],
   "source": [
    "data_ind_test = [x for x in range(51,100)]"
   ]
  },
  {
   "cell_type": "code",
   "execution_count": 224,
   "metadata": {},
   "outputs": [
    {
     "data": {
      "application/vnd.jupyter.widget-view+json": {
       "model_id": "e1b16e7f947f47e48d4518cf84c62588"
      }
     },
     "metadata": {},
     "output_type": "display_data"
    },
    {
     "name": "stdout",
     "output_type": "stream",
     "text": [
      "\n"
     ]
    }
   ],
   "source": [
    "X_test = data_extended3[data_extended3.data_ind == data_ind_test[0]].drop(['data_ind', 'signal','index'], axis=1)\n",
    "y_test = data_extended3[data_extended3.data_ind == data_ind_test[0]].signal\n",
    "\n",
    "for i in tqdm_notebook(range(len(data_ind_test))):\n",
    "    X_test = pd.concat([X_test, \\\n",
    "                         data_extended3[data_extended3.data_ind == data_ind_test[i]].drop(['data_ind', 'signal','index'], axis=1)], copy=False)\n",
    "    y_test = pd.concat([y_test, data_extended3[data_extended3.data_ind == data_ind_test[i]].signal], copy=False)"
   ]
  },
  {
   "cell_type": "code",
   "execution_count": 234,
   "metadata": {},
   "outputs": [
    {
     "name": "stdout",
     "output_type": "stream",
     "text": [
      "CPU times: user 13.7 s, sys: 492 ms, total: 14.2 s\n",
      "Wall time: 14.2 s\n",
      "CPU times: user 180 ms, sys: 0 ns, total: 180 ms\n",
      "Wall time: 179 ms\n"
     ]
    },
    {
     "data": {
      "text/plain": [
       "0.99883914037297883"
      ]
     },
     "execution_count": 234,
     "metadata": {},
     "output_type": "execute_result"
    }
   ],
   "source": [
    "%time predict = model.predict_proba(X_test.values)[:,1]\n",
    "%time roc_auc_score(y_test, predict)"
   ]
  },
  {
   "cell_type": "markdown",
   "metadata": {},
   "source": [
    "0.99810271525539063 iter=20, depth=8\n",
    "0.99859821356234746 iter=100, depth=8\n",
    "0.99870522169557752 iter=100, depth=10\n",
    "0.99883914037297883 iter=500, depth=10"
   ]
  },
  {
   "cell_type": "markdown",
   "metadata": {},
   "source": [
    "## Close test"
   ]
  },
  {
   "cell_type": "code",
   "execution_count": 140,
   "metadata": {
    "collapsed": true
   },
   "outputs": [],
   "source": [
    "df_test = pd.read_csv('~/data/milestone2/new_test.csv')"
   ]
  },
  {
   "cell_type": "code",
   "execution_count": 235,
   "metadata": {
    "collapsed": true
   },
   "outputs": [],
   "source": [
    "df_test = df_test.drop(['ele_P'], axis=1)\n",
    "\n",
    "df_test['index'] = df_test['index'].astype(np.int32)\n",
    "\n",
    "df_test['TX'] = df_test['TX'].astype(np.float32)\n",
    "df_test['TY'] = df_test['TY'].astype(np.float32)\n",
    "\n",
    "df_test['X'] = df_test['X'].astype(np.float32)\n",
    "df_test['Y'] = df_test['Y'].astype(np.float32)\n",
    "df_test['Z'] = df_test['Z'].astype(np.float32)\n",
    "\n",
    "df_test['chi2'] = df_test['chi2'].astype(np.float32)\n",
    "df_test['data_ind'] = df_test['data_ind'].astype(np.int32)"
   ]
  },
  {
   "cell_type": "code",
   "execution_count": 236,
   "metadata": {},
   "outputs": [
    {
     "name": "stdout",
     "output_type": "stream",
     "text": [
      "<class 'pandas.core.frame.DataFrame'>\n",
      "RangeIndex: 7496796 entries, 0 to 7496795\n",
      "Data columns (total 8 columns):\n",
      "index       int32\n",
      "TX          float32\n",
      "TY          float32\n",
      "X           float32\n",
      "Y           float32\n",
      "Z           float32\n",
      "chi2        float32\n",
      "data_ind    int32\n",
      "dtypes: float32(6), int32(2)\n",
      "memory usage: 228.8 MB\n"
     ]
    }
   ],
   "source": [
    "df_test.info()"
   ]
  },
  {
   "cell_type": "code",
   "execution_count": 237,
   "metadata": {
    "collapsed": true
   },
   "outputs": [],
   "source": [
    "test = df_test[df_test.Z % 1293 == 0]"
   ]
  },
  {
   "cell_type": "code",
   "execution_count": 242,
   "metadata": {},
   "outputs": [
    {
     "name": "stderr",
     "output_type": "stream",
     "text": [
      "/opt/conda/anaconda3/lib/python3.6/site-packages/ipykernel_launcher.py:30: SettingWithCopyWarning: \n",
      "A value is trying to be set on a copy of a slice from a DataFrame.\n",
      "Try using .loc[row_indexer,col_indexer] = value instead\n",
      "\n",
      "See the caveats in the documentation: http://pandas.pydata.org/pandas-docs/stable/indexing.html#indexing-view-versus-copy\n",
      "/opt/conda/anaconda3/lib/python3.6/site-packages/ipykernel_launcher.py:31: SettingWithCopyWarning: \n",
      "A value is trying to be set on a copy of a slice from a DataFrame.\n",
      "Try using .loc[row_indexer,col_indexer] = value instead\n",
      "\n",
      "See the caveats in the documentation: http://pandas.pydata.org/pandas-docs/stable/indexing.html#indexing-view-versus-copy\n",
      "/opt/conda/anaconda3/lib/python3.6/site-packages/ipykernel_launcher.py:32: SettingWithCopyWarning: \n",
      "A value is trying to be set on a copy of a slice from a DataFrame.\n",
      "Try using .loc[row_indexer,col_indexer] = value instead\n",
      "\n",
      "See the caveats in the documentation: http://pandas.pydata.org/pandas-docs/stable/indexing.html#indexing-view-versus-copy\n",
      "/opt/conda/anaconda3/lib/python3.6/site-packages/ipykernel_launcher.py:33: SettingWithCopyWarning: \n",
      "A value is trying to be set on a copy of a slice from a DataFrame.\n",
      "Try using .loc[row_indexer,col_indexer] = value instead\n",
      "\n",
      "See the caveats in the documentation: http://pandas.pydata.org/pandas-docs/stable/indexing.html#indexing-view-versus-copy\n"
     ]
    },
    {
     "data": {
      "application/vnd.jupyter.widget-view+json": {
       "model_id": "75d87d0e895041f9af0e803b5179323c"
      }
     },
     "metadata": {},
     "output_type": "display_data"
    },
    {
     "name": "stdout",
     "output_type": "stream",
     "text": [
      "\n",
      "\n"
     ]
    }
   ],
   "source": [
    "def dmin(v, vl):\n",
    "    return np.min(np.sum((v.values - vl)**2, axis=1))\n",
    "def ddmin_f(efr, df):\n",
    "    z0 = efr.iloc[0]['Z']\n",
    "    if z0 == zmax:\n",
    "        efr['dfore'] = (np.float32)(1e6)\n",
    "    else:\n",
    "        eto = df.query(\"Z=={}\".format(z0 + dz))\n",
    "        gfr = efr[[\"X1\", \"Y1\", \"X2\", \"Y2\"]]\n",
    "        gto = eto[[\"X\", \"Y\", \"X1\", \"Y1\"]]\n",
    "        d = gfr.apply(dmin, axis=1, args=(gto.values,))\n",
    "        efr['dfore'] = d.astype(np.float32)\n",
    "    return efr\n",
    "def ddmin_b(eto, df):\n",
    "    z0 = eto.iloc[0]['Z']\n",
    "    if z0 == zmin:\n",
    "        eto['dback'] = (np.float32)(1e6)\n",
    "    else:\n",
    "        efr = df.query(\"Z=={}\".format(z0 - dz))\n",
    "        gfr = efr[[\"X1\", \"Y1\", \"X2\", \"Y2\"]]\n",
    "        gto = eto[[\"X\", \"Y\", \"X1\", \"Y1\"]]\n",
    "        d = gto.apply(dmin, axis=1, args=(gfr.values,))\n",
    "        eto['dback'] = d.astype(np.float32)\n",
    "    return eto\n",
    "def ddmin(ev, df):\n",
    "    return ddmin_b(ddmin_f(ev, df), df)\n",
    "def features(df):\n",
    "    dx = df['TX'] * dz\n",
    "    dy = df['TY'] * dz\n",
    "    df['X1'] = df['X'] + dx\n",
    "    df['Y1'] = df['Y'] + dy\n",
    "    df['X2'] = df['X1'] + dx\n",
    "    df['Y2'] = df['Y1'] + dy\n",
    "    return df.groupby(\"Z\").apply(ddmin, df)\n",
    "\n",
    "\n",
    "brick = test[test.data_ind == 0]\n",
    "test_extended = features(brick)\n",
    "\n",
    "for i in tqdm_notebook(range(1,500)):\n",
    "    brick = test[test.data_ind == i]\n",
    "    brick = features(brick)\n",
    "    test_extended = pd.concat([test_extended, brick])"
   ]
  },
  {
   "cell_type": "code",
   "execution_count": 243,
   "metadata": {},
   "outputs": [
    {
     "name": "stderr",
     "output_type": "stream",
     "text": [
      "/opt/conda/anaconda3/lib/python3.6/site-packages/ipykernel_launcher.py:36: SettingWithCopyWarning: \n",
      "A value is trying to be set on a copy of a slice from a DataFrame.\n",
      "Try using .loc[row_indexer,col_indexer] = value instead\n",
      "\n",
      "See the caveats in the documentation: http://pandas.pydata.org/pandas-docs/stable/indexing.html#indexing-view-versus-copy\n",
      "/opt/conda/anaconda3/lib/python3.6/site-packages/ipykernel_launcher.py:37: SettingWithCopyWarning: \n",
      "A value is trying to be set on a copy of a slice from a DataFrame.\n",
      "Try using .loc[row_indexer,col_indexer] = value instead\n",
      "\n",
      "See the caveats in the documentation: http://pandas.pydata.org/pandas-docs/stable/indexing.html#indexing-view-versus-copy\n"
     ]
    },
    {
     "data": {
      "application/vnd.jupyter.widget-view+json": {
       "model_id": "b5a557e97b8543c8b086253a570bbd0f"
      }
     },
     "metadata": {},
     "output_type": "display_data"
    },
    {
     "name": "stdout",
     "output_type": "stream",
     "text": [
      "\n"
     ]
    }
   ],
   "source": [
    "dz2 = dz*2\n",
    "def dmin(v, vl):\n",
    "    return np.min(np.sum((v.values - vl)**2, axis=1))\n",
    "def ddmin_f(efr, df):\n",
    "    z0 = efr.iloc[0]['Z']\n",
    "    if (z0 == zmax) or (z0 == (zmax - 1293)):\n",
    "        efr['dfore2'] = (np.float32)(1e6)\n",
    "    else:\n",
    "        eto = df.query(\"Z=={}\".format(z0 + dz2))\n",
    "        gfr = efr[[\"X2\", \"Y2\", \"X3\", \"Y3\"]]\n",
    "        gto = eto[[\"X\", \"Y\", \"X1\", \"Y1\"]]\n",
    "        d = gfr.apply(dmin, axis=1, args=(gto.values,))\n",
    "        efr['dfore2'] = d.astype(np.float32)\n",
    "    return efr\n",
    "def ddmin_b(eto, df):\n",
    "    z0 = eto.iloc[0]['Z']\n",
    "    if (z0 == zmin) or (z0 == (zmin + 1293)):\n",
    "        eto['dback2'] = (np.float32)(1e6)\n",
    "    else:\n",
    "        efr = df.query(\"Z=={}\".format(z0 - dz2))\n",
    "        gfr = efr[[\"X2\", \"Y2\", \"X3\", \"Y3\"]]\n",
    "        gto = eto[[\"X\", \"Y\", \"X1\", \"Y1\"]]\n",
    "        d = gto.apply(dmin, axis=1, args=(gfr.values,))\n",
    "        eto['dback2'] = d.astype(np.float32)\n",
    "    return eto\n",
    "def ddmin(ev, df):\n",
    "    return ddmin_b(ddmin_f(ev, df), df)\n",
    "def features_2_layer(df):\n",
    "    dx = df['TX'] * dz\n",
    "    dy = df['TY'] * dz\n",
    "    #df['X1'] = df['X'] + dx\n",
    "    #df['Y1'] = df['Y'] + dy\n",
    "    #df['X2'] = df['X1'] + dx\n",
    "    #df['Y2'] = df['Y1'] + dy\n",
    "    \n",
    "    df['X3'] = df['X2'] + dx\n",
    "    df['Y3'] = df['Y2'] + dy\n",
    "    \n",
    "    return df.groupby(\"Z\").apply(ddmin, df)\n",
    "\n",
    "\n",
    "brick = test_extended[test_extended.data_ind == 0]\n",
    "test_extended2 = features_2_layer(brick)\n",
    "\n",
    "for i in tqdm_notebook(range(1,500)):\n",
    "    brick = test_extended[test_extended.data_ind == i]\n",
    "    brick = features_2_layer(brick)\n",
    "    test_extended2 = pd.concat([test_extended2, brick])"
   ]
  },
  {
   "cell_type": "code",
   "execution_count": 244,
   "metadata": {},
   "outputs": [
    {
     "data": {
      "application/vnd.jupyter.widget-view+json": {
       "model_id": "139c2eaed138422687df0e692f1ae7f1"
      }
     },
     "metadata": {},
     "output_type": "display_data"
    },
    {
     "name": "stdout",
     "output_type": "stream",
     "text": [
      "\n"
     ]
    }
   ],
   "source": [
    "def dmin(v, vl):\n",
    "    return np.min(np.sum((v.values - vl)**2, axis=1))\n",
    "def ddmin_f(efr, df):\n",
    "    z0 = efr.iloc[0]['Z']\n",
    "    if (z0 == zmax):\n",
    "        efr['dfore_simp'] = (np.float32)(1e6)\n",
    "    else:\n",
    "        eto = df.query(\"Z=={}\".format(z0 + dz))\n",
    "        gfr = efr[[\"X1\", \"Y1\"]]\n",
    "        gto = eto[[\"X\", \"Y\"]]\n",
    "        d = gfr.apply(dmin, axis=1, args=(gto.values,))\n",
    "        efr['dfore_simp'] = d.astype(np.float32)\n",
    "    return efr\n",
    "def ddmin_b(eto, df):\n",
    "    z0 = eto.iloc[0]['Z']\n",
    "    if (z0 == zmin):\n",
    "        eto['dback_simp'] = (np.float32)(1e6)\n",
    "    else:\n",
    "        efr = df.query(\"Z=={}\".format(z0 - dz))\n",
    "        gfr = efr[[\"X1\", \"Y1\"]]\n",
    "        gto = eto[[\"X\", \"Y\"]]\n",
    "        d = gto.apply(dmin, axis=1, args=(gfr.values,))\n",
    "        eto['dback_simp'] = d.astype(np.float32)\n",
    "    return eto\n",
    "def ddmin(ev, df):\n",
    "    return ddmin_b(ddmin_f(ev, df), df)\n",
    "def features_simp(df):\n",
    "    return df.groupby(\"Z\").apply(ddmin, df)\n",
    "\n",
    "\n",
    "brick = test_extended2[test_extended2.data_ind == 0]\n",
    "test_extended3 = features_simp(brick)\n",
    "\n",
    "for i in tqdm_notebook(range(1,500)):\n",
    "    brick = test_extended2[test_extended2.data_ind == i]\n",
    "    brick = features_simp(brick)\n",
    "    test_extended3 = pd.concat([test_extended3, brick])"
   ]
  },
  {
   "cell_type": "code",
   "execution_count": 252,
   "metadata": {},
   "outputs": [
    {
     "name": "stdout",
     "output_type": "stream",
     "text": [
      "<class 'pandas.core.frame.DataFrame'>\n",
      "Int64Index: 7496296 entries, 683 to 7496294\n",
      "Data columns (total 21 columns):\n",
      "index         int32\n",
      "TX            float32\n",
      "TY            float32\n",
      "X             float32\n",
      "Y             float32\n",
      "Z             float32\n",
      "chi2          float32\n",
      "data_ind      int32\n",
      "X1            float32\n",
      "Y1            float32\n",
      "X2            float32\n",
      "Y2            float32\n",
      "dfore         float32\n",
      "dback         float32\n",
      "X3            float32\n",
      "Y3            float32\n",
      "dfore2        float32\n",
      "dback2        float32\n",
      "dfore_simp    float32\n",
      "dback_simp    float32\n",
      "signal        float64\n",
      "dtypes: float32(18), float64(1), int32(2)\n",
      "memory usage: 686.3 MB\n"
     ]
    }
   ],
   "source": [
    "test_extended3.info()"
   ]
  },
  {
   "cell_type": "code",
   "execution_count": 246,
   "metadata": {
    "collapsed": true
   },
   "outputs": [],
   "source": [
    "%time test_extended3['signal'] = model.predict_proba(test_extended3.drop(['data_ind','index'], axis=1).values)[:,1]"
   ]
  },
  {
   "cell_type": "code",
   "execution_count": 258,
   "metadata": {},
   "outputs": [
    {
     "name": "stdout",
     "output_type": "stream",
     "text": [
      "CPU times: user 2min 25s, sys: 22.6 s, total: 2min 48s\n",
      "Wall time: 2min 48s\n"
     ]
    }
   ],
   "source": [
    "%time test_extended3['signal'] = model.predict_proba(test_extended3.drop(['data_ind','index','signal'], axis=1).values)[:,1]"
   ]
  },
  {
   "cell_type": "code",
   "execution_count": 259,
   "metadata": {
    "collapsed": true
   },
   "outputs": [],
   "source": [
    "result = pd.merge(df_test[['index']], test_extended3[['index','signal']], how='left', on='index')\n",
    "result = result.fillna(1.0)"
   ]
  },
  {
   "cell_type": "code",
   "execution_count": 254,
   "metadata": {},
   "outputs": [
    {
     "name": "stdout",
     "output_type": "stream",
     "text": [
      "<class 'pandas.core.frame.DataFrame'>\n",
      "Int64Index: 7496796 entries, 0 to 7496795\n",
      "Data columns (total 2 columns):\n",
      "index     int32\n",
      "signal    float64\n",
      "dtypes: float64(1), int32(1)\n",
      "memory usage: 143.0 MB\n"
     ]
    }
   ],
   "source": [
    "result.info()"
   ]
  },
  {
   "cell_type": "code",
   "execution_count": 255,
   "metadata": {},
   "outputs": [
    {
     "data": {
      "text/html": [
       "<div>\n",
       "<style>\n",
       "    .dataframe thead tr:only-child th {\n",
       "        text-align: right;\n",
       "    }\n",
       "\n",
       "    .dataframe thead th {\n",
       "        text-align: left;\n",
       "    }\n",
       "\n",
       "    .dataframe tbody tr th {\n",
       "        vertical-align: top;\n",
       "    }\n",
       "</style>\n",
       "<table border=\"1\" class=\"dataframe\">\n",
       "  <thead>\n",
       "    <tr style=\"text-align: right;\">\n",
       "      <th></th>\n",
       "      <th>index</th>\n",
       "      <th>signal</th>\n",
       "    </tr>\n",
       "  </thead>\n",
       "  <tbody>\n",
       "    <tr>\n",
       "      <th>0</th>\n",
       "      <td>0</td>\n",
       "      <td>0.001979</td>\n",
       "    </tr>\n",
       "    <tr>\n",
       "      <th>1</th>\n",
       "      <td>1</td>\n",
       "      <td>0.004130</td>\n",
       "    </tr>\n",
       "    <tr>\n",
       "      <th>2</th>\n",
       "      <td>2</td>\n",
       "      <td>0.997796</td>\n",
       "    </tr>\n",
       "    <tr>\n",
       "      <th>3</th>\n",
       "      <td>3</td>\n",
       "      <td>0.002229</td>\n",
       "    </tr>\n",
       "    <tr>\n",
       "      <th>4</th>\n",
       "      <td>4</td>\n",
       "      <td>0.002021</td>\n",
       "    </tr>\n",
       "  </tbody>\n",
       "</table>\n",
       "</div>"
      ],
      "text/plain": [
       "   index    signal\n",
       "0      0  0.001979\n",
       "1      1  0.004130\n",
       "2      2  0.997796\n",
       "3      3  0.002229\n",
       "4      4  0.002021"
      ]
     },
     "execution_count": 255,
     "metadata": {},
     "output_type": "execute_result"
    }
   ],
   "source": [
    "result.head()"
   ]
  },
  {
   "cell_type": "code",
   "execution_count": 260,
   "metadata": {
    "collapsed": true
   },
   "outputs": [],
   "source": [
    "result.to_csv('~/data/milestone2/result.csv', index=False)"
   ]
  },
  {
   "cell_type": "markdown",
   "metadata": {},
   "source": [
    "data_ind=500: public: 0.99906 privat: 0.99908"
   ]
  }
 ],
 "metadata": {
  "kernelspec": {
   "display_name": "Python 3",
   "language": "python",
   "name": "python3"
  },
  "language_info": {
   "codemirror_mode": {
    "name": "ipython",
    "version": 3
   },
   "file_extension": ".py",
   "mimetype": "text/x-python",
   "name": "python",
   "nbconvert_exporter": "python",
   "pygments_lexer": "ipython3",
   "version": "3.6.2"
  }
 },
 "nbformat": 4,
 "nbformat_minor": 2
}
